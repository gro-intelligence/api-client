{
 "cells": [
  {
   "cell_type": "markdown",
   "metadata": {},
   "source": [
    "# Stocks to Use vs Price\n",
    "\n",
    "#### *The Python packages used in this notebook are listed in the requirements.txt file located in the current directory. The packages can be installed by simply running 'pip install --requirement requirements.txt' on your command line. Adjustments may be needed if you are not using the same versions included in the requirements file.*\n",
    "\n",
    "This sample Gro API script creates a basic price valuation model for corn and soybeans during the growing season using the US stocks-to-use ratio. A stocks-to-use ratio is calculated by dividing projected ending stocks by projected total crop usage (domestic consumption + exports) for a given marketing year. A stocks-to-use ratio is a normalized inventory measurement, and, therefore, is a helpful tool for analysis over different time periods and of different crops.\n",
    "\n",
    "According to the basic principles of economics, a commodity's stocks-to-use ratio should, theoretically, have an inverse relationship its price. When less inventory is available to cover a given amount of demand, prices should rise to encourage the creation of additional supplies and destroy the marginal unit of demand. Conversely, when inventories are too high, prices should fall to encourage new demand and remove unprofitable supply from the market. In this script, we examine the economic theory in practice, calculating a 'fair value' price estimate based on the historical relationship between the stocks-to-use ratio and prices. \n",
    "\n",
    "The inventory and demand forecasts that compose the stocks-to-use ratio are updated each month based on data from the USDA's [PS&D](https://app.gro-intelligence.com/dictionary/sources/14) (Production, Supply, and Distribution) report. The PS&D is the market standard for global agricultural forecasts and is incorporated into the USDA's flagship WASDE report. For the price variable, we use a monthly average price of the [Chicago Mercantile Exchange](https://app.gro-intelligence.com/dictionary/sources/81) (CME) futures contract that is most actively traded: December futures for corn and November futures for soybeans.\n",
    "\n",
    "The output will be a PDF file for each modeled crop, saved in the current working directory. The PDFs will have 7 (soybeans) or 8 (corn) pages in total, including a scatterplot for each report month during the growing season, as well as a scatterplot summarizing the entire sample. For example, the corn-June scatterplot will compare the US stocks-to-use ratio from all June PS&D reports compared to the monthly average December corn futures price in June.\n",
    "\n",
    "Follow this [link](https://app.gro-intelligence.com/displays/gK9p5kadE) to a Gro public display containing data series used in this exercise."
   ]
  },
  {
   "cell_type": "markdown",
   "metadata": {},
   "source": [
    "## Preliminary\n",
    "First, we import all the Python packages needed to run this notebook. We then create a GroClient object and define Gro entity ids to save for future use. We will use these throughout the notebook to simplify the retrieval, storage, and manipulation of data. We also create a Python dictionary defining the preferred futures contract month for each crop."
   ]
  },
  {
   "cell_type": "code",
   "execution_count": null,
   "metadata": {},
   "outputs": [],
   "source": [
    "\n",
    "import os\n",
    "import calendar\n",
    "import pandas as pd\n",
    "%matplotlib inline\n",
    "import matplotlib.pyplot as plt\n",
    "from matplotlib.backends.backend_pdf import PdfPages\n",
    "from sklearn import linear_model\n",
    "\n",
    "from groclient import GroClient\n",
    "\n",
    "client = GroClient()\n",
    "\n",
    "# define region\n",
    "UNITED_STATES_REGION_ID = client.search_for_entity('regions', 'United States')\n",
    "\n",
    "# define metrics\n",
    "SETTLEMENT_PRICE_METRIC_ID = client.search_for_entity('metrics', 'futures prices, settle (currency/mass)')\n",
    "ENDING_STOCKS_METRIC_ID = client.search_for_entity('metrics', 'stocks, ending quantity (mass)') \n",
    "CONSUMPTION_METRIC_ID = client.search_for_entity('metrics', 'domestic consumption (mass)')\n",
    "EXPORT_METRIC_ID = client.search_for_entity('metrics', 'export volume (mass)')\n",
    "\n",
    "# define sources\n",
    "CME = client.search_for_entity('sources', 'CME')\n",
    "PSD = client.search_for_entity('sources', 'PS&D')\n",
    "\n",
    "crop_dictionary = {'corn':{'futures_contract_month':12},\n",
    "                   'soybeans':{'futures_contract_month':11}}"
   ]
  },
  {
   "cell_type": "markdown",
   "metadata": {},
   "source": [
    "## Define Data Functions\n",
    "\n",
    "In these functions, we standardize and organize our data. First, we create a rolling futures price series, which includes a single price for each trading day over the full history of CME/CBOT trading."
   ]
  },
  {
   "cell_type": "code",
   "execution_count": null,
   "metadata": {},
   "outputs": [],
   "source": [
    "def contract_month_history(crop, contract_month):\n",
    "    \"\"\"full history of settlement prices for a specific commodity\n",
    "    and month of expiry. e.g. December corn\n",
    "\n",
    "    Parameters\n",
    "    ----------\n",
    "    crop : string\n",
    "        'corn' or 'soybeans'\n",
    "    contract_month : integer\n",
    "\n",
    "    Returns\n",
    "    -------\n",
    "    pandas.Dataframe\n",
    "    \"\"\"\n",
    "    crop_id = client.search_for_entity('items', crop) \n",
    "    \n",
    "    client.add_single_data_series({'metric_id': SETTLEMENT_PRICE_METRIC_ID, \n",
    "                                   'item_id': crop_id, \n",
    "                                   'region_id': UNITED_STATES_REGION_ID, \n",
    "                                   'source_id': CME,\n",
    "                                   'frequency_id': 15,\n",
    "                                   'start_date': '2006-01-01',\n",
    "                                   'reporting_history': True})\n",
    "    \n",
    "    df = client.get_df().sort_values(['end_date'])\n",
    "    \n",
    "    market_df = df.loc[(df.item_id == crop_id) & (df.metric_id == SETTLEMENT_PRICE_METRIC_ID)]\n",
    "    price_df  = market_df.loc[market_df['end_date'].dt.month == contract_month].groupby(\\\n",
    "                ['reporting_date']).first()[['value', 'end_date']]\n",
    "\n",
    "    return price_df"
   ]
  },
  {
   "cell_type": "markdown",
   "metadata": {},
   "source": [
    "The following get_price function first identifies the proper futures contract month to use in the price model. In this case, the most actively traded contract: December futures for corn and November futures for soybeans. We then take monthly average of the daily price series returned from the contract_month_history function."
   ]
  },
  {
   "cell_type": "code",
   "execution_count": null,
   "metadata": {},
   "outputs": [],
   "source": [
    "def get_price(crop):\n",
    "    \"\"\"calculates monthly average new crop CME price    \n",
    "\n",
    "    Parameters\n",
    "    ----------\n",
    "    crop : string\n",
    "        'corn' or 'soybeans'\n",
    "    \n",
    "    Returns\n",
    "    -------\n",
    "    pandas.Series\n",
    "    \"\"\"  \n",
    "    contract_month = crop_dictionary[crop.lower()]['futures_contract_month']\n",
    "    \n",
    "    price_history = contract_month_history(crop, contract_month)\n",
    "    \n",
    "    price = price_history['value'].resample('M').mean().resample('D').fillna('bfill')\n",
    "    price.name = 'price'\n",
    "    \n",
    "    return price"
   ]
  },
  {
   "cell_type": "markdown",
   "metadata": {},
   "source": [
    "The next function calculates the annual stocks-to-use ratio for a given crop. Note that 'reporting_history' is set to True when the series is added to GroClient. This allows us to use the forecasted stocks-to-use ratio from each monthly PS&D report. For this exercise, we use stocks and demand estimates for the most forward-looking crop year available."
   ]
  },
  {
   "cell_type": "code",
   "execution_count": null,
   "metadata": {},
   "outputs": [],
   "source": [
    "def get_stocks_to_use(crop, region=UNITED_STATES_REGION_ID):\n",
    "    \"\"\"Calculate historical carryout to use ratio for a given commodity  \n",
    "\n",
    "    Parameters\n",
    "    ----------\n",
    "    crop : string\n",
    "        'corn' or 'soybeans'\n",
    "    Returns\n",
    "    -------\n",
    "    pandas.Series\n",
    "    \"\"\"\n",
    "    crop_id = client.search_for_entity('items', crop)\n",
    "    tonne_unit_id = 14 \n",
    "    \n",
    "    # add stocks series\n",
    "    client.add_single_data_series({'metric_id': ENDING_STOCKS_METRIC_ID, \n",
    "                                   'item_id': crop_id, \n",
    "                                   'region_id': region, \n",
    "                                   'source_id': PSD, \n",
    "                                   'frequency_id': 9,\n",
    "                                   'unit_id': tonne_unit_id,\n",
    "                                   'start_date': '2006-12-31',\n",
    "                                   'reporting_history': True})\n",
    "    \n",
    "    # add consumption series\n",
    "    client.add_single_data_series({'metric_id': CONSUMPTION_METRIC_ID, \n",
    "                                    'item_id': crop_id, \n",
    "                                    'region_id': region, \n",
    "                                    'source_id': PSD, \n",
    "                                    'frequency_id': 9,\n",
    "                                    'unit_id': tonne_unit_id,\n",
    "                                    'start_date': '2006-12-31',\n",
    "                                    'reporting_history': True})\n",
    "    # add exports series\n",
    "    client.add_single_data_series({'metric_id': EXPORT_METRIC_ID, \n",
    "                                    'item_id': crop_id, \n",
    "                                    'region_id': region, \n",
    "                                    'source_id': PSD, \n",
    "                                    'frequency_id': 9,\n",
    "                                    'unit_id': tonne_unit_id,\n",
    "                                    'start_date': '2006-12-31',\n",
    "                                    'reporting_history': True})\n",
    "    \n",
    "    df = client.get_df()\n",
    "    df = df.sort_values('end_date', ascending=True)\n",
    "    df_grp = df.groupby(['item_id', 'metric_id', 'reporting_date']).last()\n",
    "    \n",
    "    stocks      = df_grp.loc[(crop_id, ENDING_STOCKS_METRIC_ID), :]['value']\n",
    "    consumption = df_grp.loc[(crop_id, CONSUMPTION_METRIC_ID), :]['value']\n",
    "    exports     = df_grp.loc[(crop_id, EXPORT_METRIC_ID), :]['value']\n",
    "    \n",
    "    total_use = consumption.add(exports)\n",
    "    \n",
    "    stocks_to_use = stocks.div(total_use)\n",
    "    stocks_to_use.name = 'stocks_to_use'\n",
    "    \n",
    "    return stocks_to_use"
   ]
  },
  {
   "cell_type": "markdown",
   "metadata": {},
   "source": [
    "## Define Analysis and Charting Functions\n",
    "In the first function, we run a simple linear regression model on a pandas dataframe with columns of price and stocks-to-use ratio. The second function creates a scatterplot between the two variables. "
   ]
  },
  {
   "cell_type": "code",
   "execution_count": null,
   "metadata": {},
   "outputs": [],
   "source": [
    "def run_regression(df_in):\n",
    "    \"\"\"run linear regression between stocks to use ratio and price  \n",
    "\n",
    "    Parameters\n",
    "    ----------\n",
    "    df : pandas.DataFrame\n",
    "\n",
    "    Returns\n",
    "    -------\n",
    "    float, float, float\n",
    "        r-squared value, intercept, and x variable coefficient\n",
    "    \"\"\"\n",
    "    regression_model = linear_model.LinearRegression()\n",
    "    stocks_to_use    = df_in[['stocks_to_use']]\n",
    "    price            = df_in['price']\n",
    "    \n",
    "    regression_model.fit(stocks_to_use, price)\n",
    "    \n",
    "    r_squared = regression_model.score(stocks_to_use, price)\n",
    "    \n",
    "    return r_squared, regression_model.intercept_, regression_model.coef_[0]"
   ]
  },
  {
   "cell_type": "markdown",
   "metadata": {},
   "source": [
    "The next function creates a scatterplot with price on the y-axis and the stocks-to-use ratio on the x-axis. "
   ]
  },
  {
   "cell_type": "code",
   "execution_count": null,
   "metadata": {},
   "outputs": [],
   "source": [
    "def create_scatterplot(df_in, month_name, crop):\n",
    "    \"\"\"scatterplot vizualization for regression model\n",
    "\n",
    "    Parameters\n",
    "    ----------\n",
    "    df_in : string\n",
    "        'corn' or 'soybeans'\n",
    "    month_name : int or string\n",
    "        month of report being analyzed or 'all' for all months\n",
    "    crop : string\n",
    "        'corn' or 'soybeans'\n",
    "    \"\"\"    \n",
    "    r_squared, intercept, slope = run_regression(df_in)\n",
    "    \n",
    "    fig = plt.figure(figsize=(5, 5), dpi=100)\n",
    "    ax  = fig.add_subplot(111)\n",
    "\n",
    "    line = slope * df_in.stocks_to_use.values + intercept\n",
    "    \n",
    "    if (isinstance(month_name, str) == False):\n",
    "        month_name = calendar.month_abbr[month_name]\n",
    "    \n",
    "    fig_title = '{}: {} Reports: rsq:{}'.format(crop.title(), month_name, r_squared.round(2))\n",
    "    \n",
    "    fig_label = 'y={:.2f}x+{:.2f}'.format(slope, intercept)\n",
    "    plt.plot(df_in.stocks_to_use.values, line, 'r', label=fig_label)\n",
    "\n",
    "    plt.scatter(df_in.stocks_to_use.values, df_in.price.values, color=\"k\", s=3.5)\n",
    "    plt.legend(fontsize=9)\n",
    "\n",
    "    fig.suptitle(fig_title, fontsize=12)\n",
    "    ax.set_xlabel('Stocks to Use Ratio')\n",
    "    ax.set_ylabel('Price')\n",
    "\n",
    "    return fig"
   ]
  },
  {
   "cell_type": "markdown",
   "metadata": {},
   "source": [
    "## Create PDF File of Scatterplots\n",
    "\n",
    "Next, we run the code for corn and soybeans, and output the results to PDFs. We also print the scatterplots directly in the notebook for users who prefer to see the results in this format. Running the following section of code will require approximately 100,000 data points (~50,000 points for each crop run)."
   ]
  },
  {
   "cell_type": "code",
   "execution_count": null,
   "metadata": {},
   "outputs": [],
   "source": [
    "def write_price_model(crop):\n",
    "    \"\"\"run a regression between price and stocks to use for all WASDE report months,\n",
    "       create a scatterplot of regression values, and write to PDF\n",
    "\n",
    "    Parameters\n",
    "    ----------\n",
    "    crop : string\n",
    "        'corn' or 'soybeans'\n",
    "\n",
    "    \"\"\"\n",
    "    stocks_to_use = get_stocks_to_use(crop)\n",
    "    price         = get_price(crop)\n",
    "    \n",
    "    model_input_df = pd.concat([stocks_to_use, price], axis=1).dropna()\n",
    "    \n",
    "    # remove months when PS&D forecasts do not cover the current crop year\n",
    "    months_to_test = range(5, crop_dictionary[crop]['futures_contract_month'])\n",
    "    model_input_df = model_input_df[model_input_df.index.month.isin(months_to_test)]\n",
    "    \n",
    "    month_groups = model_input_df.groupby(model_input_df.index.month)\n",
    "        \n",
    "    fig_list = [create_scatterplot(model_input_df, 'All', crop)]\n",
    "    fig_list.extend([create_scatterplot(group, name, crop) for name, group in month_groups])\n",
    "\n",
    "    filename = os.path.join(os.getcwd(), '{}.pdf'.format(crop))\n",
    "    pdf_page = PdfPages(filename)\n",
    "    for f in fig_list: pdf_page.savefig(f)\n",
    "    pdf_page.close()\n",
    "    \n",
    "\n",
    "write_price_model('corn')\n",
    "write_price_model('soybeans')"
   ]
  },
  {
   "cell_type": "markdown",
   "metadata": {},
   "source": [
    "## Conclusion\n",
    "The charts in this analysis can be used as a basic seasonal price valuation tool for the corn and soybean markets. Users can determine if current futures prices are overvalued or undervalued based on the regression equations, and get a sense of the historical price range traded for each market given the current fundamental outlook."
   ]
  },
  {
   "cell_type": "code",
   "execution_count": null,
   "metadata": {},
   "outputs": [],
   "source": []
  }
 ],
 "metadata": {
  "kernelspec": {
   "display_name": "Python 3 (ipykernel)",
   "language": "python",
   "name": "python3"
  },
  "language_info": {
   "codemirror_mode": {
    "name": "ipython",
    "version": 3
   },
   "file_extension": ".py",
   "mimetype": "text/x-python",
   "name": "python",
   "nbconvert_exporter": "python",
   "pygments_lexer": "ipython3",
   "version": "3.8.12"
  }
 },
 "nbformat": 4,
 "nbformat_minor": 2
}
