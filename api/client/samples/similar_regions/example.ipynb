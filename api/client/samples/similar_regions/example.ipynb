{
 "cells": [
  {
   "cell_type": "markdown",
   "metadata": {},
   "source": [
    "# Similar Regions examples\n",
    "\n"
   ]
  },
  {
   "cell_type": "markdown",
   "metadata": {},
   "source": [
    "## Preliminaries\n",
    "\n",
    "### Distance metric\n",
    "Reported distance values are in a multi-dimentional space. They should only be used for relative region comparison and not be interpreted in any other way. In particular, no linearity of the underlying space should be assumed. For example, a pair of regions at double the distance compared to some other pair should not be interpreted as \"twice less similar\" in any meaningful way.\n",
    "\n",
    "### Data volume\n",
    "Whenever the similar_to method is called with a different compare_to argument, the SimilarRegion object is rebuilt, which can be time consuming if the data has not already been cached.  If compare_to=0 (whole world), and requested_level=5 (district), we need several daily data series for 20 years for each of about 45,000 regions, i.e. close to 1 billion data points.\n",
    "\n",
    "Subsequent calls with the same compare_to take advantage of the cache and do not trigger data downloads from the Gro API. The same applies to the seed region, i.e. the region_id argument, if the region is not present in the cache, data will be downloaded from the Gro API. \n",
    "\n",
    "### Output formatting\n",
    "Some region names contain commas, so when writing results to a csv file, you  should use a csv writer object.\n"
   ]
  },
  {
   "cell_type": "markdown",
   "metadata": {},
   "source": [
    "## Initial Imports\n",
    "\n",
    "SimilarRegion class definition and specification of what data to use. *metric_properties* specifies the Gro  entities (such as metric_id, item_id, etc.) which will used to get data from the Gro API..  The default metric_properties used here contain land surface temperature, rainfall, and soil moisture time series as well as seven soil properties."
   ]
  },
  {
   "cell_type": "code",
   "execution_count": 1,
   "metadata": {
    "scrolled": false
   },
   "outputs": [],
   "source": [
    "import pandas as pd\n",
    "import numpy as np\n",
    "import logging\n",
    "\n",
    "from api.client.samples.similar_regions.similar_region import SimilarRegion\n",
    "from api.client.samples.similar_regions.metric import metric_properties, metric_weights\n",
    "\n",
    "# Allow nested IO loops (required for jupyter notebooks to work with batch API, not needed in stand-alone python scripts)\n",
    "import nest_asyncio\n",
    "\n",
    "nest_asyncio.apply()"
   ]
  },
  {
   "cell_type": "markdown",
   "metadata": {},
   "source": [
    "## Initialization\n",
    "\n",
    "Configure SimilarRegion object (no real work will be done yet - it will start on the first call to similar_to.\n",
    "This will use any previously downloaded data if any exists in data_dir. "
   ]
  },
  {
   "cell_type": "code",
   "execution_count": 2,
   "metadata": {
    "scrolled": false
   },
   "outputs": [],
   "source": [
    "sim = SimilarRegion(metric_properties,\n",
    "                    data_dir='/tmp/similar_regions_cache',\n",
    "                    metric_weights=metric_weights)\n",
    "\n",
    "# Uncomment this to see extensive informational messages during object build/region search\n",
    "# sim._logger.setLevel(logging.DEBUG)"
   ]
  },
  {
   "cell_type": "markdown",
   "metadata": {},
   "source": [
    "# Examples\n",
    "\n",
    "Note that in each example, the size of the search area to compare to (a countyr, a continent or the whole world) to and the requested region level (district, province or country) significantly affect the amount of data that will be needed.  There are about 45,000 districts and about 5,000 provinces in the whole world.  \n",
    "\n",
    "## Example 1\n",
    "\n",
    "Find 10 districts (region level 5), in Oceania (region 13) most similar to Napa county, California, USA (region_id 136969)."
   ]
  },
  {
   "cell_type": "code",
   "execution_count": 3,
   "metadata": {
    "scrolled": false
   },
   "outputs": [
    {
     "name": "stdout",
     "output_type": "stream",
     "text": [
      "Districts similar to Napa in Oceania:\n"
     ]
    },
    {
     "name": "stderr",
     "output_type": "stream",
     "text": [
      "Getting data series for 12 regions in 1 batch(es) for property cation_exchange_30cm\n",
      "100%|██████████| 12/12 [00:00<00:00, 31.74it/s]\n",
      "Getting data series for 12 regions in 1 batch(es) for property clay_30cm\n",
      "100%|██████████| 12/12 [00:00<00:00, 36.11it/s]\n",
      "Getting data series for 25 regions in 1 batch(es) for property land_surface_temperature\n",
      "100%|██████████| 25/25 [00:00<00:00, 125.34it/s]\n",
      "Getting data series for 12 regions in 1 batch(es) for property organic_carbon_content_fine_earth_30cm\n",
      "100%|██████████| 12/12 [00:00<00:00, 29.65it/s]\n",
      "Getting data series for 12 regions in 1 batch(es) for property ph_h2o_30cm\n",
      "100%|██████████| 12/12 [00:00<00:00, 34.70it/s]\n",
      "Getting data series for 2 regions in 1 batch(es) for property rainfall\n",
      "100%|██████████| 2/2 [00:00<00:00, 11.72it/s]\n",
      "Getting data series for 12 regions in 1 batch(es) for property sand_30cm\n",
      "100%|██████████| 12/12 [00:00<00:00, 39.07it/s]\n",
      "Getting data series for 12 regions in 1 batch(es) for property silt_30cm\n",
      "100%|██████████| 12/12 [00:00<00:00, 40.54it/s]\n",
      "Getting data series for 280 regions in 9 batch(es) for property soil_moisture\n",
      "100%|██████████| 280/280 [00:09<00:00, 30.77it/s]\n",
      "Getting data series for 12 regions in 1 batch(es) for property soil_water_capacity_100cm\n",
      "100%|██████████| 12/12 [00:00<00:00, 44.63it/s]\n",
      "Getting data series for 1 regions in 1 batch(es) for property cation_exchange_30cm\n",
      "100%|██████████| 1/1 [00:00<00:00,  6.44it/s]\n",
      "Getting data series for 1 regions in 1 batch(es) for property clay_30cm\n",
      "100%|██████████| 1/1 [00:00<00:00,  6.03it/s]\n",
      "Getting data series for 1 regions in 1 batch(es) for property land_surface_temperature\n",
      "100%|██████████| 1/1 [00:00<00:00,  1.58it/s]\n",
      "Getting data series for 1 regions in 1 batch(es) for property organic_carbon_content_fine_earth_30cm\n",
      "100%|██████████| 1/1 [00:00<00:00,  5.77it/s]\n",
      "Getting data series for 1 regions in 1 batch(es) for property ph_h2o_30cm\n",
      "100%|██████████| 1/1 [00:00<00:00,  5.90it/s]\n",
      "Getting data series for 1 regions in 1 batch(es) for property rainfall\n",
      "100%|██████████| 1/1 [00:03<00:00,  3.49s/it]\n",
      "Getting data series for 1 regions in 1 batch(es) for property sand_30cm\n",
      "100%|██████████| 1/1 [00:00<00:00,  6.14it/s]\n",
      "Getting data series for 1 regions in 1 batch(es) for property silt_30cm\n",
      "100%|██████████| 1/1 [00:00<00:00,  6.04it/s]\n",
      "Getting data series for 1 regions in 1 batch(es) for property soil_moisture\n",
      "100%|██████████| 1/1 [00:00<00:00,  1.75it/s]\n",
      "Getting data series for 1 regions in 1 batch(es) for property soil_water_capacity_100cm\n",
      "100%|██████████| 1/1 [00:00<00:00,  6.04it/s]\n"
     ]
    },
    {
     "name": "stdout",
     "output_type": "stream",
     "text": [
      "{'rank': 0, 'id': 102852, 'name': 'Upper Hunter Shire', 'dist': 1.0173006028514207, 'parent': {'id': 10174, 'name': 'New South Wales'}, 'grand_parent': {'id': 1013, 'name': 'Australia'}}\n",
      "{'rank': 1, 'id': 100022568, 'name': 'Wangaratta', 'dist': 1.0385392829218, 'parent': {'id': 10180, 'name': 'Victoria'}, 'grand_parent': {'id': 1013, 'name': 'Australia'}}\n",
      "{'rank': 2, 'id': 102739, 'name': 'Dungog', 'dist': 1.0801804882453856, 'parent': {'id': 10174, 'name': 'New South Wales'}, 'grand_parent': {'id': 1013, 'name': 'Australia'}}\n",
      "{'rank': 3, 'id': 100022537, 'name': 'Indigo', 'dist': 1.0809641142826236, 'parent': {'id': 10180, 'name': 'Victoria'}, 'grand_parent': {'id': 1013, 'name': 'Australia'}}\n",
      "{'rank': 4, 'id': 100022487, 'name': 'Mid-Western Regional', 'dist': 1.1117052041108755, 'parent': {'id': 10174, 'name': 'New South Wales'}, 'grand_parent': {'id': 1013, 'name': 'Australia'}}\n",
      "{'rank': 5, 'id': 100022557, 'name': 'Murrindindi', 'dist': 1.1135118505171602, 'parent': {'id': 10180, 'name': 'Victoria'}, 'grand_parent': {'id': 1013, 'name': 'Australia'}}\n",
      "{'rank': 6, 'id': 103807, 'name': 'Wodonga', 'dist': 1.1182402534666207, 'parent': {'id': 10180, 'name': 'Victoria'}, 'grand_parent': {'id': 1013, 'name': 'Australia'}}\n",
      "{'rank': 7, 'id': 100022478, 'name': 'Greater Hume Shire', 'dist': 1.126428373682715, 'parent': {'id': 10174, 'name': 'New South Wales'}, 'grand_parent': {'id': 1013, 'name': 'Australia'}}\n",
      "{'rank': 8, 'id': 100022464, 'name': 'Bathurst Regional', 'dist': 1.131005713617766, 'parent': {'id': 10174, 'name': 'New South Wales'}, 'grand_parent': {'id': 1013, 'name': 'Australia'}}\n",
      "{'rank': 9, 'id': 102859, 'name': 'Walcha', 'dist': 1.138301219250655, 'parent': {'id': 10174, 'name': 'New South Wales'}, 'grand_parent': {'id': 1013, 'name': 'Australia'}}\n",
      "CPU times: user 3.66 s, sys: 83.4 ms, total: 3.74 s\n",
      "Wall time: 31.6 s\n"
     ]
    }
   ],
   "source": [
    "%%time\n",
    "\n",
    "print(\"Districts similar to Napa in Oceania:\")\n",
    "for i in sim.similar_to(136969, number_of_regions=10, requested_level=5, compare_to=13):\n",
    "    print(i)"
   ]
  },
  {
   "cell_type": "markdown",
   "metadata": {},
   "source": [
    "## Example 2\n",
    "\n",
    "Same as Ex.1 but restricted to Ethiopia (region_id 1065). This will trigger rebuilding of SimilrRegion object, since we are using a new search region."
   ]
  },
  {
   "cell_type": "code",
   "execution_count": 4,
   "metadata": {
    "scrolled": false
   },
   "outputs": [
    {
     "name": "stdout",
     "output_type": "stream",
     "text": [
      "Districts similar to Napa in Ethiopia:\n"
     ]
    },
    {
     "name": "stderr",
     "output_type": "stream",
     "text": [
      "Getting data series for 1 regions in 1 batch(es) for property cation_exchange_30cm\n",
      "100%|██████████| 1/1 [00:00<00:00,  6.06it/s]\n",
      "Getting data series for 1 regions in 1 batch(es) for property clay_30cm\n",
      "100%|██████████| 1/1 [00:00<00:00,  6.50it/s]\n",
      "Getting data series for 1 regions in 1 batch(es) for property land_surface_temperature\n",
      "100%|██████████| 1/1 [00:00<00:00,  2.00it/s]\n",
      "Getting data series for 1 regions in 1 batch(es) for property organic_carbon_content_fine_earth_30cm\n",
      "100%|██████████| 1/1 [00:00<00:00,  6.46it/s]\n",
      "Getting data series for 1 regions in 1 batch(es) for property ph_h2o_30cm\n",
      "100%|██████████| 1/1 [00:00<00:00,  6.69it/s]\n",
      "Getting data series for 1 regions in 1 batch(es) for property rainfall\n",
      "100%|██████████| 1/1 [00:00<00:00,  1.88it/s]\n",
      "Getting data series for 1 regions in 1 batch(es) for property sand_30cm\n",
      "100%|██████████| 1/1 [00:00<00:00,  6.48it/s]\n",
      "Getting data series for 1 regions in 1 batch(es) for property silt_30cm\n",
      "100%|██████████| 1/1 [00:00<00:00,  6.76it/s]\n",
      "Getting data series for 1 regions in 1 batch(es) for property soil_moisture\n",
      "100%|██████████| 1/1 [00:00<00:00,  2.34it/s]\n",
      "Getting data series for 1 regions in 1 batch(es) for property soil_water_capacity_100cm\n",
      "100%|██████████| 1/1 [00:00<00:00,  6.45it/s]\n"
     ]
    },
    {
     "name": "stdout",
     "output_type": "stream",
     "text": [
      "{'rank': 0, 'id': 142811, 'name': 'Guji', 'dist': 1.2337430873605335, 'parent': {'id': 10925, 'name': 'Oromia'}, 'grand_parent': {'id': 1065, 'name': 'Ethiopia'}}\n",
      "{'rank': 1, 'id': 115015, 'name': 'Eastern', 'dist': 1.396813048061249, 'parent': {'id': 10928, 'name': 'Tigray'}, 'grand_parent': {'id': 1065, 'name': 'Ethiopia'}}\n",
      "{'rank': 2, 'id': 114979, 'name': 'Borena', 'dist': 1.4942763264739025, 'parent': {'id': 10925, 'name': 'Oromia'}, 'grand_parent': {'id': 1065, 'name': 'Ethiopia'}}\n",
      "{'rank': 3, 'id': 114978, 'name': 'Bale', 'dist': 1.54995939691503, 'parent': {'id': 10925, 'name': 'Oromia'}, 'grand_parent': {'id': 1065, 'name': 'Ethiopia'}}\n",
      "{'rank': 4, 'id': 114991, 'name': 'Liben', 'dist': 1.5602031219727102, 'parent': {'id': 10926, 'name': 'Somali'}, 'grand_parent': {'id': 1065, 'name': 'Ethiopia'}}\n",
      "{'rank': 5, 'id': 142822, 'name': 'Alaba', 'dist': 1.5613585615460281, 'parent': {'id': 10927, 'name': 'Southern Nations, Nationalities and Peoples'}, 'grand_parent': {'id': 1065, 'name': 'Ethiopia'}}\n",
      "{'rank': 6, 'id': 142824, 'name': 'South East', 'dist': 1.5919062211909785, 'parent': {'id': 10928, 'name': 'Tigray'}, 'grand_parent': {'id': 1065, 'name': 'Ethiopia'}}\n",
      "{'rank': 7, 'id': 142823, 'name': \"Segen Peoples'\", 'dist': 1.652371842890685, 'parent': {'id': 10927, 'name': 'Southern Nations, Nationalities and Peoples'}, 'grand_parent': {'id': 1065, 'name': 'Ethiopia'}}\n",
      "{'rank': 8, 'id': 142806, 'name': 'Hareri', 'dist': 1.668923450233657, 'parent': {'id': 10924, 'name': 'Hareri'}, 'grand_parent': {'id': 1065, 'name': 'Ethiopia'}}\n",
      "{'rank': 9, 'id': 114981, 'name': 'East Shewa', 'dist': 1.6712752489709934, 'parent': {'id': 10925, 'name': 'Oromia'}, 'grand_parent': {'id': 1065, 'name': 'Ethiopia'}}\n",
      "CPU times: user 1.35 s, sys: 46.7 ms, total: 1.39 s\n",
      "Wall time: 8.75 s\n"
     ]
    }
   ],
   "source": [
    "%%time\n",
    "# Use compare_to argument to restrict search to districts within particular country\n",
    "\n",
    "print(\"Districts similar to Napa in Ethiopia:\")\n",
    "for i in sim.similar_to(136969, number_of_regions=10, requested_level=5, compare_to=1065):\n",
    "    print(i)"
   ]
  },
  {
   "cell_type": "markdown",
   "metadata": {},
   "source": [
    "## Example 3\n",
    "\n",
    "Find 10 provinces (region level 4) in Europe (region_id 14) most similar to the US state of Iowa (region_id 13066), provide detailed distance report"
   ]
  },
  {
   "cell_type": "code",
   "execution_count": 5,
   "metadata": {
    "scrolled": false
   },
   "outputs": [
    {
     "name": "stdout",
     "output_type": "stream",
     "text": [
      "Provinces similar to Iowa in Europe:\n"
     ]
    },
    {
     "name": "stderr",
     "output_type": "stream",
     "text": [
      "Getting data series for 1 regions in 1 batch(es) for property cation_exchange_30cm\n",
      "100%|██████████| 1/1 [00:00<00:00,  5.77it/s]\n",
      "Getting data series for 1 regions in 1 batch(es) for property clay_30cm\n",
      "100%|██████████| 1/1 [00:00<00:00,  6.00it/s]\n",
      "Getting data series for 1 regions in 1 batch(es) for property land_surface_temperature\n",
      "100%|██████████| 1/1 [00:00<00:00,  5.61it/s]\n",
      "Getting data series for 1 regions in 1 batch(es) for property organic_carbon_content_fine_earth_30cm\n",
      "100%|██████████| 1/1 [00:00<00:00,  6.73it/s]\n",
      "Getting data series for 1 regions in 1 batch(es) for property ph_h2o_30cm\n",
      "100%|██████████| 1/1 [00:00<00:00,  6.26it/s]\n",
      "Getting data series for 1 regions in 1 batch(es) for property rainfall\n",
      "100%|██████████| 1/1 [00:00<00:00,  5.10it/s]\n",
      "Getting data series for 1 regions in 1 batch(es) for property sand_30cm\n",
      "100%|██████████| 1/1 [00:00<00:00,  5.47it/s]\n",
      "Getting data series for 1 regions in 1 batch(es) for property silt_30cm\n",
      "100%|██████████| 1/1 [00:00<00:00,  5.69it/s]\n",
      "Getting data series for 41 regions in 2 batch(es) for property soil_moisture\n",
      "100%|██████████| 41/41 [00:01<00:00, 34.53it/s]\n",
      "Getting data series for 1 regions in 1 batch(es) for property soil_water_capacity_100cm\n",
      "100%|██████████| 1/1 [00:00<00:00,  5.92it/s]\n",
      "Getting data series for 1 regions in 1 batch(es) for property cation_exchange_30cm\n",
      "100%|██████████| 1/1 [00:00<00:00,  5.65it/s]\n",
      "Getting data series for 1 regions in 1 batch(es) for property clay_30cm\n",
      "100%|██████████| 1/1 [00:00<00:00,  5.84it/s]\n",
      "Getting data series for 1 regions in 1 batch(es) for property land_surface_temperature\n",
      "100%|██████████| 1/1 [00:00<00:00,  1.59it/s]\n",
      "Getting data series for 1 regions in 1 batch(es) for property organic_carbon_content_fine_earth_30cm\n",
      "100%|██████████| 1/1 [00:00<00:00,  6.18it/s]\n",
      "Getting data series for 1 regions in 1 batch(es) for property ph_h2o_30cm\n",
      "100%|██████████| 1/1 [00:00<00:00,  6.46it/s]\n",
      "Getting data series for 1 regions in 1 batch(es) for property rainfall\n",
      "100%|██████████| 1/1 [00:03<00:00,  3.91s/it]\n",
      "Getting data series for 1 regions in 1 batch(es) for property sand_30cm\n",
      "100%|██████████| 1/1 [00:00<00:00,  6.73it/s]\n",
      "Getting data series for 1 regions in 1 batch(es) for property silt_30cm\n",
      "100%|██████████| 1/1 [00:00<00:00,  6.23it/s]\n",
      "Getting data series for 1 regions in 1 batch(es) for property soil_moisture\n",
      "100%|██████████| 1/1 [00:00<00:00,  1.86it/s]\n",
      "Getting data series for 1 regions in 1 batch(es) for property soil_water_capacity_100cm\n",
      "100%|██████████| 1/1 [00:00<00:00,  6.03it/s]\n"
     ]
    },
    {
     "name": "stdout",
     "output_type": "stream",
     "text": [
      "{'rank': 0, 'id': 12284, 'name': 'Cluj', 'dist': {'total': 0.7569942835175087, 'covar': 0.43339237683334836, 'cation_exchange_30cm': 0.25067659587868785, 'clay_30cm': 0.041566176229737684, 'land_surface_temperature': 0.11604313658278209, 'organic_carbon_content_fine_earth_30cm': 0.14872593597649922, 'ph_h2o_30cm': 0.01464601966557133, 'rainfall': 0.2128178623321425, 'sand_30cm': 0.30008835181434, 'silt_30cm': 0.3360045979194928, 'soil_moisture': 0.1405871378131267, 'soil_water_capacity_100cm': 0.12975621841492435}, 'parent': {'id': 1167, 'name': 'Romania'}, 'grand_parent': {'id': 0, 'name': 'World'}}\n",
      "{'rank': 1, 'id': 11714, 'name': 'Edinet', 'dist': {'total': 0.7639846487721322, 'covar': 0.428691574350047, 'cation_exchange_30cm': 0.029827030581420555, 'clay_30cm': 0.05072413701545009, 'land_surface_temperature': 0.06843908553742839, 'organic_carbon_content_fine_earth_30cm': 0.10505897239232384, 'ph_h2o_30cm': 0.2234878843299568, 'rainfall': 0.3925933490497422, 'sand_30cm': 0.0864973996480457, 'silt_30cm': 0.14938558114455347, 'soil_moisture': 0.38240262646327383, 'soil_water_capacity_100cm': 0.024621105093112217}, 'parent': {'id': 1134, 'name': 'Moldova'}, 'grand_parent': {'id': 0, 'name': 'World'}}\n",
      "{'rank': 2, 'id': 12277, 'name': 'Botosani', 'dist': {'total': 0.7694577084778577, 'covar': 0.40844392318371003, 'cation_exchange_30cm': 0.04328607750164215, 'clay_30cm': 0.04588192848041994, 'land_surface_temperature': 0.03574366625586811, 'organic_carbon_content_fine_earth_30cm': 0.0730783746412905, 'ph_h2o_30cm': 0.19615102059413836, 'rainfall': 0.36299699167162136, 'sand_30cm': 0.15194932548426976, 'silt_30cm': 0.22762773245179413, 'soil_moisture': 0.41168220907606545, 'soil_water_capacity_100cm': 0.0038170875445286967}, 'parent': {'id': 1167, 'name': 'Romania'}, 'grand_parent': {'id': 0, 'name': 'World'}}\n",
      "{'rank': 3, 'id': 12298, 'name': 'Mures', 'dist': {'total': 0.7830484551894281, 'covar': 0.4322454872543807, 'cation_exchange_30cm': 0.1840624298359057, 'clay_30cm': 0.004616902819124524, 'land_surface_temperature': 0.08398243724639709, 'organic_carbon_content_fine_earth_30cm': 0.13700891151410424, 'ph_h2o_30cm': 0.010807290427539584, 'rainfall': 0.3794638990354561, 'sand_30cm': 0.27116087558306634, 'silt_30cm': 0.332091055875986, 'soil_moisture': 0.17475447757065288, 'soil_water_capacity_100cm': 0.09023564143695628}, 'parent': {'id': 1167, 'name': 'Romania'}, 'grand_parent': {'id': 0, 'name': 'World'}}\n",
      "{'rank': 4, 'id': 12295, 'name': 'Iasi', 'dist': {'total': 0.7925461429930626, 'covar': 0.4358840106445582, 'cation_exchange_30cm': 0.039579486998079005, 'clay_30cm': 0.10542309225392121, 'land_surface_temperature': 0.08233656258823885, 'organic_carbon_content_fine_earth_30cm': 0.06302990136518474, 'ph_h2o_30cm': 0.23489316179241904, 'rainfall': 0.33942195637907213, 'sand_30cm': 0.14078563392829535, 'silt_30cm': 0.2653094037682002, 'soil_moisture': 0.392363344276492, 'soil_water_capacity_100cm': 0.012694311794414492}, 'parent': {'id': 1167, 'name': 'Romania'}, 'grand_parent': {'id': 0, 'name': 'World'}}\n",
      "{'rank': 5, 'id': 12301, 'name': 'Prahova', 'dist': {'total': 0.8069459188724034, 'covar': 0.4648936007734909, 'cation_exchange_30cm': 0.19485385681247092, 'clay_30cm': 0.01136551894633242, 'land_surface_temperature': 0.04006037338377011, 'organic_carbon_content_fine_earth_30cm': 0.1351271221220999, 'ph_h2o_30cm': 0.07985736058669035, 'rainfall': 0.18558360598476353, 'sand_30cm': 0.27253879939950565, 'silt_30cm': 0.3284302488930788, 'soil_moisture': 0.3826426310478239, 'soil_water_capacity_100cm': 0.08773027555495139}, 'parent': {'id': 1167, 'name': 'Romania'}, 'grand_parent': {'id': 0, 'name': 'World'}}\n",
      "{'rank': 6, 'id': 11697, 'name': 'Soldanesti', 'dist': {'total': 0.8149391653593777, 'covar': 0.4379064432615381, 'cation_exchange_30cm': 0.01900935830101025, 'clay_30cm': 0.02907999278745166, 'land_surface_temperature': 0.05016966930246736, 'organic_carbon_content_fine_earth_30cm': 0.08427804159156985, 'ph_h2o_30cm': 0.26851030800073694, 'rainfall': 0.3591944879666892, 'sand_30cm': 0.12264687288596388, 'silt_30cm': 0.17682627580582277, 'soil_moisture': 0.4625230108934604, 'soil_water_capacity_100cm': 0.013461647461858739}, 'parent': {'id': 1134, 'name': 'Moldova'}, 'grand_parent': {'id': 0, 'name': 'World'}}\n",
      "{'rank': 7, 'id': 11703, 'name': 'Briceni', 'dist': {'total': 0.8200977305314591, 'covar': 0.4025142675269168, 'cation_exchange_30cm': 0.0810519135667469, 'clay_30cm': 0.08967642049308489, 'land_surface_temperature': 0.005630487187545885, 'organic_carbon_content_fine_earth_30cm': 0.09217121486032134, 'ph_h2o_30cm': 0.19560484518067645, 'rainfall': 0.39238903969925765, 'sand_30cm': 0.21818508004304948, 'silt_30cm': 0.192005858496767, 'soil_moisture': 0.4502917714117223, 'soil_water_capacity_100cm': 0.08910651802308056}, 'parent': {'id': 1134, 'name': 'Moldova'}, 'grand_parent': {'id': 0, 'name': 'World'}}\n",
      "{'rank': 8, 'id': 11733, 'name': 'Ungheni', 'dist': {'total': 0.824125491889844, 'covar': 0.4676589679515697, 'cation_exchange_30cm': 0.006519597270533195, 'clay_30cm': 0.1339025969095784, 'land_surface_temperature': 0.1243311932394171, 'organic_carbon_content_fine_earth_30cm': 0.07377628899897012, 'ph_h2o_30cm': 0.30528111092153054, 'rainfall': 0.366741082948814, 'sand_30cm': 0.12206258371421741, 'silt_30cm': 0.266432645544598, 'soil_moisture': 0.32673367598898473, 'soil_water_capacity_100cm': 0.0356120267682547}, 'parent': {'id': 1134, 'name': 'Moldova'}, 'grand_parent': {'id': 0, 'name': 'World'}}\n",
      "{'rank': 9, 'id': 11711, 'name': 'Donduseni', 'dist': {'total': 0.8243230827166504, 'covar': 0.45941110940842667, 'cation_exchange_30cm': 0.005226878583664218, 'clay_30cm': 0.0029975405631155194, 'land_surface_temperature': 0.06086172153978553, 'organic_carbon_content_fine_earth_30cm': 0.09342578867150395, 'ph_h2o_30cm': 0.22728859049935002, 'rainfall': 0.3920142702715492, 'sand_30cm': 0.053743507562183934, 'silt_30cm': 0.0684247571836869, 'soil_moisture': 0.49302690832238905, 'soil_water_capacity_100cm': 9.384232883258292e-05}, 'parent': {'id': 1134, 'name': 'Moldova'}, 'grand_parent': {'id': 0, 'name': 'World'}}\n"
     ]
    }
   ],
   "source": [
    "print(\"Provinces similar to Iowa in Europe:\")\n",
    "for i in sim.similar_to(13066, number_of_regions=10, requested_level=4, detailed_distance=True, compare_to=14):\n",
    "    print(i)"
   ]
  },
  {
   "cell_type": "markdown",
   "metadata": {},
   "source": [
    "## Example 4\n",
    "Larger number of provinces similar to Iowa (across entire world). Note that many of provinces from Example 3 are near the top of the list."
   ]
  },
  {
   "cell_type": "code",
   "execution_count": 6,
   "metadata": {
    "scrolled": false
   },
   "outputs": [
    {
     "name": "stderr",
     "output_type": "stream",
     "text": [
      "Getting data series for 16 regions in 1 batch(es) for property cation_exchange_30cm\n",
      "100%|██████████| 16/16 [00:00<00:00, 73.31it/s]\n",
      "Getting data series for 16 regions in 1 batch(es) for property clay_30cm\n",
      "100%|██████████| 16/16 [00:00<00:00, 68.05it/s]\n",
      "Getting data series for 31 regions in 1 batch(es) for property land_surface_temperature\n",
      "100%|██████████| 31/31 [00:00<00:00, 48.43it/s]\n",
      "Getting data series for 16 regions in 1 batch(es) for property organic_carbon_content_fine_earth_30cm\n",
      "100%|██████████| 16/16 [00:00<00:00, 72.43it/s]\n",
      "Getting data series for 16 regions in 1 batch(es) for property ph_h2o_30cm\n",
      "100%|██████████| 16/16 [00:00<00:00, 72.19it/s]\n",
      "Getting data series for 2 regions in 1 batch(es) for property rainfall\n",
      "100%|██████████| 2/2 [00:00<00:00, 13.02it/s]\n",
      "Getting data series for 16 regions in 1 batch(es) for property sand_30cm\n",
      "100%|██████████| 16/16 [00:00<00:00, 70.87it/s]\n",
      "Getting data series for 16 regions in 1 batch(es) for property silt_30cm\n",
      "100%|██████████| 16/16 [00:00<00:00, 72.78it/s]\n",
      "Getting data series for 456 regions in 15 batch(es) for property soil_moisture\n",
      "100%|██████████| 456/456 [00:00<00:00, 959.25it/s]\n",
      "Getting data series for 16 regions in 1 batch(es) for property soil_water_capacity_100cm\n",
      "100%|██████████| 16/16 [00:00<00:00, 76.29it/s]\n"
     ]
    },
    {
     "name": "stdout",
     "output_type": "stream",
     "text": [
      "0\t13066\tIowa\t7.146345858741878e-08\t{'id': 1215, 'name': 'United States'}\t{'id': 0, 'name': 'World'}\n",
      "1\t12284\tCluj\t0.7569978480749663\t{'id': 1167, 'name': 'Romania'}\t{'id': 0, 'name': 'World'}\n",
      "2\t11714\tEdinet\t0.7639849432992937\t{'id': 1134, 'name': 'Moldova'}\t{'id': 0, 'name': 'World'}\n",
      "3\t13064\tIllinois\t0.7655045070880194\t{'id': 1215, 'name': 'United States'}\t{'id': 0, 'name': 'World'}\n",
      "4\t12277\tBotosani\t0.7694642157119207\t{'id': 1167, 'name': 'Romania'}\t{'id': 0, 'name': 'World'}\n",
      "5\t12298\tMures\t0.7830550120462715\t{'id': 1167, 'name': 'Romania'}\t{'id': 0, 'name': 'World'}\n",
      "6\t12295\tIasi\t0.7925580859257505\t{'id': 1167, 'name': 'Romania'}\t{'id': 0, 'name': 'World'}\n",
      "7\t12301\tPrahova\t0.8069739506366441\t{'id': 1167, 'name': 'Romania'}\t{'id': 0, 'name': 'World'}\n",
      "8\t11697\tSoldanesti\t0.814937962642843\t{'id': 1134, 'name': 'Moldova'}\t{'id': 0, 'name': 'World'}\n",
      "9\t11703\tBriceni\t0.8200932930395138\t{'id': 1134, 'name': 'Moldova'}\t{'id': 0, 'name': 'World'}\n",
      "10\t11733\tUngheni\t0.8241366575715298\t{'id': 1134, 'name': 'Moldova'}\t{'id': 0, 'name': 'World'}\n",
      "11\t11711\tDonduseni\t0.8243215912593512\t{'id': 1134, 'name': 'Moldova'}\t{'id': 0, 'name': 'World'}\n",
      "12\t11722\tNisporeni\t0.831647482505738\t{'id': 1134, 'name': 'Moldova'}\t{'id': 0, 'name': 'World'}\n",
      "13\t11716\tFloresti\t0.8344222790131954\t{'id': 1134, 'name': 'Moldova'}\t{'id': 0, 'name': 'World'}\n",
      "14\t11719\tHîncesti\t0.8385989847456697\t{'id': 1134, 'name': 'Moldova'}\t{'id': 0, 'name': 'World'}\n",
      "15\t12280\tBucharest\t0.8413698337023034\t{'id': 1167, 'name': 'Romania'}\t{'id': 0, 'name': 'World'}\n",
      "16\t12350\tKrasnodar\t0.8418897665171804\t{'id': 1168, 'name': 'Russia'}\t{'id': 0, 'name': 'World'}\n",
      "17\t11725\tRezina\t0.8423943526183129\t{'id': 1134, 'name': 'Moldova'}\t{'id': 0, 'name': 'World'}\n",
      "18\t13076\tMissouri\t0.8492227571308649\t{'id': 1215, 'name': 'United States'}\t{'id': 0, 'name': 'World'}\n",
      "19\t11724\tOrhei\t0.850624046353617\t{'id': 1134, 'name': 'Moldova'}\t{'id': 0, 'name': 'World'}\n",
      "20\t11726\tRîscani\t0.8532924251941125\t{'id': 1134, 'name': 'Moldova'}\t{'id': 0, 'name': 'World'}\n",
      "21\t12287\tDâmbovita\t0.8539490860513356\t{'id': 1167, 'name': 'Romania'}\t{'id': 0, 'name': 'World'}\n",
      "22\t13092\tSouth Dakota\t0.8542032525857446\t{'id': 1215, 'name': 'United States'}\t{'id': 0, 'name': 'World'}\n",
      "23\t12304\tSibiu\t0.8553177815811243\t{'id': 1167, 'name': 'Romania'}\t{'id': 0, 'name': 'World'}\n",
      "24\t10778\tP'yongyang\t0.8553686385074424\t{'id': 1053, 'name': 'North Korea'}\t{'id': 0, 'name': 'World'}\n",
      "25\t11723\tOcnita\t0.8564968515577026\t{'id': 1134, 'name': 'Moldova'}\t{'id': 0, 'name': 'World'}\n",
      "26\t11729\tStraseni\t0.8577676540608519\t{'id': 1134, 'name': 'Moldova'}\t{'id': 0, 'name': 'World'}\n",
      "27\t11705\tCalarasi\t0.8652751406793618\t{'id': 1134, 'name': 'Moldova'}\t{'id': 0, 'name': 'World'}\n",
      "28\t12302\tSalaj\t0.8656776825920137\t{'id': 1167, 'name': 'Romania'}\t{'id': 0, 'name': 'World'}\n",
      "29\t12281\tBuzau\t0.8658013926664406\t{'id': 1167, 'name': 'Romania'}\t{'id': 0, 'name': 'World'}\n",
      "30\t12312\tAdygey\t0.8685028224234479\t{'id': 1168, 'name': 'Russia'}\t{'id': 0, 'name': 'World'}\n",
      "31\t11731\tTelenesti\t0.868582790961752\t{'id': 1134, 'name': 'Moldova'}\t{'id': 0, 'name': 'World'}\n",
      "32\t11718\tGlodeni\t0.8756767703357562\t{'id': 1134, 'name': 'Moldova'}\t{'id': 0, 'name': 'World'}\n",
      "33\t11720\tIaloveni\t0.8772589707938216\t{'id': 1134, 'name': 'Moldova'}\t{'id': 0, 'name': 'World'}\n",
      "34\t12279\tBrasov\t0.8772787597538709\t{'id': 1167, 'name': 'Romania'}\t{'id': 0, 'name': 'World'}\n",
      "35\t13006\tVinnytsya\t0.879294359484533\t{'id': 1210, 'name': 'Ukraine'}\t{'id': 0, 'name': 'World'}\n",
      "36\t12310\tVaslui\t0.8797767068896644\t{'id': 1167, 'name': 'Romania'}\t{'id': 0, 'name': 'World'}\n",
      "37\t13268\tŠumadijski\t0.879802858152077\t{'id': 1228, 'name': 'Serbia'}\t{'id': 0, 'name': 'World'}\n",
      "38\t11728\tSoroca\t0.8835352540046135\t{'id': 1134, 'name': 'Moldova'}\t{'id': 0, 'name': 'World'}\n",
      "39\t13004\tTernopil'\t0.888344589134886\t{'id': 1210, 'name': 'Ukraine'}\t{'id': 0, 'name': 'World'}\n",
      "40\t11721\tLeova\t0.8924581824270641\t{'id': 1134, 'name': 'Moldova'}\t{'id': 0, 'name': 'World'}\n",
      "41\t11715\tFalesti\t0.8949868218350578\t{'id': 1134, 'name': 'Moldova'}\t{'id': 0, 'name': 'World'}\n",
      "42\t10455\tTargovishte\t0.8955699551104538\t{'id': 1032, 'name': 'Bulgaria'}\t{'id': 0, 'name': 'World'}\n",
      "43\t12311\tVrancea\t0.8958999516761007\t{'id': 1167, 'name': 'Romania'}\t{'id': 0, 'name': 'World'}\n",
      "44\t11708\tChisinau\t0.8983462123360317\t{'id': 1134, 'name': 'Moldova'}\t{'id': 0, 'name': 'World'}\n",
      "45\t11727\tSîngerei\t0.8990361203455904\t{'id': 1134, 'name': 'Moldova'}\t{'id': 0, 'name': 'World'}\n",
      "46\t10240\tQusar\t0.899136399864334\t{'id': 1015, 'name': 'Azerbaijan'}\t{'id': 0, 'name': 'World'}\n",
      "47\t11706\tCantemir\t0.8996065676651597\t{'id': 1134, 'name': 'Moldova'}\t{'id': 0, 'name': 'World'}\n",
      "48\t10238\tQuba\t0.9012684269025029\t{'id': 1015, 'name': 'Azerbaijan'}\t{'id': 0, 'name': 'World'}\n",
      "49\t10441\tLovech\t0.9055008834405166\t{'id': 1032, 'name': 'Bulgaria'}\t{'id': 0, 'name': 'World'}\n",
      "50\t12290\tGiurgiu\t0.9079114164444555\t{'id': 1167, 'name': 'Romania'}\t{'id': 0, 'name': 'World'}\n",
      "51\t12271\tAlba\t0.9134300562713099\t{'id': 1167, 'name': 'Romania'}\t{'id': 0, 'name': 'World'}\n",
      "52\t11700\tBalti\t0.9149056209523124\t{'id': 1134, 'name': 'Moldova'}\t{'id': 0, 'name': 'World'}\n",
      "53\t11712\tDrochia\t0.9150864751422564\t{'id': 1134, 'name': 'Moldova'}\t{'id': 0, 'name': 'World'}\n",
      "54\t12300\tOlt\t0.9168773250945637\t{'id': 1167, 'name': 'Romania'}\t{'id': 0, 'name': 'World'}\n",
      "55\t11704\tCahul\t0.9210649729477426\t{'id': 1134, 'name': 'Moldova'}\t{'id': 0, 'name': 'World'}\n",
      "56\t10457\tVeliko Tarnovo\t0.9258412249332669\t{'id': 1032, 'name': 'Bulgaria'}\t{'id': 0, 'name': 'World'}\n",
      "57\t10449\tShumen\t0.929580622301158\t{'id': 1032, 'name': 'Bulgaria'}\t{'id': 0, 'name': 'World'}\n",
      "58\t13254\tKolubarski\t0.9334724769931317\t{'id': 1228, 'name': 'Serbia'}\t{'id': 0, 'name': 'World'}\n",
      "59\t11710\tCriuleni\t0.9336864520460749\t{'id': 1134, 'name': 'Moldova'}\t{'id': 0, 'name': 'World'}\n",
      "60\t12331\tIngush\t0.939771351589247\t{'id': 1168, 'name': 'Russia'}\t{'id': 0, 'name': 'World'}\n",
      "61\t10447\tRazgrad\t0.9424814245281259\t{'id': 1032, 'name': 'Bulgaria'}\t{'id': 0, 'name': 'World'}\n",
      "62\t13067\tKansas\t0.9429146220223499\t{'id': 1215, 'name': 'United States'}\t{'id': 0, 'name': 'World'}\n",
      "63\t10450\tSilistra\t0.9446307698847022\t{'id': 1032, 'name': 'Bulgaria'}\t{'id': 0, 'name': 'World'}\n",
      "64\t12289\tGalati\t0.9485749988565956\t{'id': 1167, 'name': 'Romania'}\t{'id': 0, 'name': 'World'}\n",
      "65\t10436\tGabrovo\t0.9498810180121431\t{'id': 1032, 'name': 'Bulgaria'}\t{'id': 0, 'name': 'World'}\n",
      "66\t10448\tRuse\t0.9521124078848388\t{'id': 1032, 'name': 'Bulgaria'}\t{'id': 0, 'name': 'World'}\n",
      "67\t13086\tOhio\t0.9526448488405737\t{'id': 1215, 'name': 'United States'}\t{'id': 0, 'name': 'World'}\n",
      "68\t12985\tChernivtsi\t0.9552264024982053\t{'id': 1210, 'name': 'Ukraine'}\t{'id': 0, 'name': 'World'}\n",
      "69\t11713\tDubasari\t0.9564309714152408\t{'id': 1134, 'name': 'Moldova'}\t{'id': 0, 'name': 'World'}\n",
      "70\t10390\tBrcko\t0.958147450456862\t{'id': 1027, 'name': 'Bosnia and Herzegovina'}\t{'id': 0, 'name': 'World'}\n",
      "71\t10777\tP'yongan-namdo\t0.9582012942221562\t{'id': 1053, 'name': 'North Korea'}\t{'id': 0, 'name': 'World'}\n",
      "72\t11699\tAnenii Noi\t0.9648450532206592\t{'id': 1134, 'name': 'Moldova'}\t{'id': 0, 'name': 'World'}\n",
      "73\t12274\tBacau\t0.964874015012636\t{'id': 1167, 'name': 'Romania'}\t{'id': 0, 'name': 'World'}\n",
      "74\t10781\tSinuiju\t0.9669710675065613\t{'id': 1053, 'name': 'North Korea'}\t{'id': 0, 'name': 'World'}\n",
      "75\t12288\tDolj\t0.9676009284551631\t{'id': 1167, 'name': 'Romania'}\t{'id': 0, 'name': 'World'}\n",
      "76\t13065\tIndiana\t0.9684299194683439\t{'id': 1215, 'name': 'United States'}\t{'id': 0, 'name': 'World'}\n",
      "77\t12983\tCherkasy\t0.9686545360324801\t{'id': 1210, 'name': 'Ukraine'}\t{'id': 0, 'name': 'World'}\n",
      "78\t12995\tKirovohrad\t0.9695133518891452\t{'id': 1210, 'name': 'Ukraine'}\t{'id': 0, 'name': 'World'}\n",
      "79\t10745\tPrague\t0.9698983974281401\t{'id': 1051, 'name': 'Czech Republic'}\t{'id': 0, 'name': 'World'}\n",
      "80\t12303\tSatu Mare\t0.9704007742630166\t{'id': 1167, 'name': 'Romania'}\t{'id': 0, 'name': 'World'}\n",
      "81\t12992\tKhmel'nyts'kyy\t0.970609209856716\t{'id': 1210, 'name': 'Ukraine'}\t{'id': 0, 'name': 'World'}\n",
      "82\t11730\tTaraclia\t0.9714149330755218\t{'id': 1134, 'name': 'Moldova'}\t{'id': 0, 'name': 'World'}\n",
      "83\t12353\tKursk\t0.9721491627995122\t{'id': 1168, 'name': 'Russia'}\t{'id': 0, 'name': 'World'}\n",
      "84\t12308\tTulcea\t0.9733591922644375\t{'id': 1167, 'name': 'Romania'}\t{'id': 0, 'name': 'World'}\n",
      "85\t11717\tGagauzia\t0.9737597594918032\t{'id': 1134, 'name': 'Moldova'}\t{'id': 0, 'name': 'World'}\n"
     ]
    },
    {
     "name": "stdout",
     "output_type": "stream",
     "text": [
      "86\t10459\tVratsa\t0.9743783859854216\t{'id': 1032, 'name': 'Bulgaria'}\t{'id': 0, 'name': 'World'}\n",
      "87\t11709\tCimislia\t0.9790093335517946\t{'id': 1134, 'name': 'Moldova'}\t{'id': 0, 'name': 'World'}\n",
      "88\t12273\tArges\t0.9815583071864143\t{'id': 1167, 'name': 'Romania'}\t{'id': 0, 'name': 'World'}\n",
      "89\t12294\tIalomita\t0.9844157856270307\t{'id': 1167, 'name': 'Romania'}\t{'id': 0, 'name': 'World'}\n",
      "90\t12278\tBraila\t0.9847316219838171\t{'id': 1167, 'name': 'Romania'}\t{'id': 0, 'name': 'World'}\n",
      "91\t13260\tPodunavski\t0.9858547012982423\t{'id': 1228, 'name': 'Serbia'}\t{'id': 0, 'name': 'World'}\n",
      "92\t11732\tTransnistria\t0.9873136442105426\t{'id': 1134, 'name': 'Moldova'}\t{'id': 0, 'name': 'World'}\n",
      "93\t12297\tMehedinti\t0.9899684656008257\t{'id': 1167, 'name': 'Romania'}\t{'id': 0, 'name': 'World'}\n",
      "94\t11707\tCauseni\t0.9899757688939426\t{'id': 1134, 'name': 'Moldova'}\t{'id': 0, 'name': 'World'}\n",
      "95\t12306\tTeleorman\t0.9907722801301277\t{'id': 1167, 'name': 'Romania'}\t{'id': 0, 'name': 'World'}\n",
      "96\t10445\tPleven\t0.9912571961815236\t{'id': 1032, 'name': 'Bulgaria'}\t{'id': 0, 'name': 'World'}\n",
      "97\t10435\tDobrich\t0.9935518538217587\t{'id': 1032, 'name': 'Bulgaria'}\t{'id': 0, 'name': 'World'}\n",
      "98\t10458\tVidin\t0.9993953248282849\t{'id': 1032, 'name': 'Bulgaria'}\t{'id': 0, 'name': 'World'}\n",
      "99\t13000\tPoltava\t1.0035975481113357\t{'id': 1210, 'name': 'Ukraine'}\t{'id': 0, 'name': 'World'}\n",
      "100\t12282\tCalarasi\t1.0038357090659213\t{'id': 1167, 'name': 'Romania'}\t{'id': 0, 'name': 'World'}\n",
      "101\t12276\tBistrita-Nasaud\t1.0044899193922576\t{'id': 1167, 'name': 'Romania'}\t{'id': 0, 'name': 'World'}\n",
      "102\t12374\tRostov\t1.005269299816611\t{'id': 1168, 'name': 'Russia'}\t{'id': 0, 'name': 'World'}\n",
      "103\t11558\tGrevenmacher\t1.0060776286854611\t{'id': 1119, 'name': 'Luxembourg'}\t{'id': 0, 'name': 'World'}\n",
      "104\t11698\tStefan Voda\t1.006885448151817\t{'id': 1134, 'name': 'Moldova'}\t{'id': 0, 'name': 'World'}\n",
      "105\t11559\tLuxembourg\t1.0078690585533117\t{'id': 1119, 'name': 'Luxembourg'}\t{'id': 0, 'name': 'World'}\n",
      "106\t12319\tBelgorod\t1.0098031212542038\t{'id': 1168, 'name': 'Russia'}\t{'id': 0, 'name': 'World'}\n",
      "107\t12999\tOdessa\t1.0224845557296283\t{'id': 1210, 'name': 'Ukraine'}\t{'id': 0, 'name': 'World'}\n",
      "108\t13250\tGrad Beograd\t1.0229039552873673\t{'id': 1228, 'name': 'Serbia'}\t{'id': 0, 'name': 'World'}\n",
      "109\t10771\tHwanghae-bukto\t1.0259639380246015\t{'id': 1053, 'name': 'North Korea'}\t{'id': 0, 'name': 'World'}\n",
      "110\t13261\tPomoravski\t1.0275262295827228\t{'id': 1228, 'name': 'Serbia'}\t{'id': 0, 'name': 'World'}\n",
      "111\t11701\tBasarabeasca\t1.0284822608080604\t{'id': 1134, 'name': 'Moldova'}\t{'id': 0, 'name': 'World'}\n",
      "112\t10456\tVarna\t1.0297826190158719\t{'id': 1032, 'name': 'Bulgaria'}\t{'id': 0, 'name': 'World'}\n",
      "113\t12307\tTimis\t1.0307651774922486\t{'id': 1167, 'name': 'Romania'}\t{'id': 0, 'name': 'World'}\n",
      "114\t13256\tMoravicki\t1.0314045402764134\t{'id': 1228, 'name': 'Serbia'}\t{'id': 0, 'name': 'World'}\n",
      "115\t10442\tMontana\t1.0320041138409617\t{'id': 1032, 'name': 'Bulgaria'}\t{'id': 0, 'name': 'World'}\n",
      "116\t11702\tBender\t1.032330454151443\t{'id': 1134, 'name': 'Moldova'}\t{'id': 0, 'name': 'World'}\n",
      "117\t10186\tOberösterreich\t1.0325431884249094\t{'id': 1014, 'name': 'Austria'}\t{'id': 0, 'name': 'World'}\n",
      "118\t10989\tKvemo Kartli\t1.033587734978318\t{'id': 1075, 'name': 'Georgia'}\t{'id': 0, 'name': 'World'}\n",
      "119\t12990\tKharkiv\t1.0350850207036357\t{'id': 1210, 'name': 'Ukraine'}\t{'id': 0, 'name': 'World'}\n",
      "120\t12272\tArad\t1.03540164618295\t{'id': 1167, 'name': 'Romania'}\t{'id': 0, 'name': 'World'}\n",
      "121\t12368\tOrel\t1.038305928309519\t{'id': 1168, 'name': 'Russia'}\t{'id': 0, 'name': 'World'}\n",
      "122\t12512\tPodravska\t1.0404480229755873\t{'id': 1184, 'name': 'Slovenia'}\t{'id': 0, 'name': 'World'}\n",
      "123\t13225\tPrizren\t1.0422070005655442\t{'id': 1226, 'name': 'Kosovo'}\t{'id': 0, 'name': 'World'}\n",
      "124\t13262\tRasinski\t1.0427710350575365\t{'id': 1228, 'name': 'Serbia'}\t{'id': 0, 'name': 'World'}\n",
      "125\t11341\tVeneto\t1.0428175199461047\t{'id': 1101, 'name': 'Italy'}\t{'id': 0, 'name': 'World'}\n",
      "126\t12275\tBihor\t1.0441016798274645\t{'id': 1167, 'name': 'Romania'}\t{'id': 0, 'name': 'World'}\n",
      "127\t13255\tMacvanski\t1.0515938599721835\t{'id': 1228, 'name': 'Serbia'}\t{'id': 0, 'name': 'World'}\n",
      "128\t10446\tPlovdiv\t1.0523828869925278\t{'id': 1032, 'name': 'Bulgaria'}\t{'id': 0, 'name': 'World'}\n",
      "129\t10713\tZagrebacka\t1.053453373823031\t{'id': 1048, 'name': 'Croatia'}\t{'id': 0, 'name': 'World'}\n",
      "130\t12265\tIncheon\t1.0545128809730817\t{'id': 1166, 'name': 'South Korea'}\t{'id': 0, 'name': 'World'}\n",
      "131\t10953\tLorraine\t1.066780066270516\t{'id': 1070, 'name': 'France'}\t{'id': 0, 'name': 'World'}\n",
      "132\t10772\tHwanghae-namdo\t1.0679334612903693\t{'id': 1053, 'name': 'North Korea'}\t{'id': 0, 'name': 'World'}\n",
      "133\t12987\tDnipropetrovs'k\t1.0686980705435165\t{'id': 1210, 'name': 'Ukraine'}\t{'id': 0, 'name': 'World'}\n",
      "134\t11444\tChuy\t1.0704430812376975\t{'id': 1110, 'name': 'Kyrgyzstan'}\t{'id': 0, 'name': 'World'}\n",
      "135\t13317\tAnhui\t1.0722156166790489\t{'id': 1231, 'name': 'China, mainland'}\t{'id': 0, 'name': 'World'}\n",
      "136\t12299\tNeamt\t1.0730327327711382\t{'id': 1167, 'name': 'Romania'}\t{'id': 0, 'name': 'World'}\n",
      "137\t12381\tStavropol'\t1.0737150896613545\t{'id': 1168, 'name': 'Russia'}\t{'id': 0, 'name': 'World'}\n",
      "138\t10219\tGədəbəy\t1.0799966320790064\t{'id': 1015, 'name': 'Azerbaijan'}\t{'id': 0, 'name': 'World'}\n",
      "139\t11327\tEmilia-Romagna\t1.081765964961455\t{'id': 1101, 'name': 'Italy'}\t{'id': 0, 'name': 'World'}\n",
      "140\t12285\tConstanta\t1.0835827638506752\t{'id': 1167, 'name': 'Romania'}\t{'id': 0, 'name': 'World'}\n",
      "141\t13267\tSremski\t1.0841193140897831\t{'id': 1228, 'name': 'Serbia'}\t{'id': 0, 'name': 'World'}\n",
      "142\t13253\tJužno-Banatski\t1.0847098395044397\t{'id': 1228, 'name': 'Serbia'}\t{'id': 0, 'name': 'World'}\n",
      "143\t13226\tUroševac\t1.0852521927149539\t{'id': 1226, 'name': 'Kosovo'}\t{'id': 0, 'name': 'World'}\n",
      "144\t12334\tKabardin-Balkar\t1.0877959136757525\t{'id': 1168, 'name': 'Russia'}\t{'id': 0, 'name': 'World'}\n",
      "145\t10252\tXanlar\t1.0889389286612914\t{'id': 1015, 'name': 'Azerbaijan'}\t{'id': 0, 'name': 'World'}\n",
      "146\t13220\tÐakovica\t1.0912701921380998\t{'id': 1226, 'name': 'Kosovo'}\t{'id': 0, 'name': 'World'}\n",
      "147\t10454\tStara Zagora\t1.0918293968249029\t{'id': 1032, 'name': 'Bulgaria'}\t{'id': 0, 'name': 'World'}\n",
      "148\t11328\tFriuli-Venezia Giulia\t1.09268241190774\t{'id': 1101, 'name': 'Italy'}\t{'id': 0, 'name': 'World'}\n",
      "149\t10707\tSisacko-Moslavacka\t1.0950002799151528\t{'id': 1048, 'name': 'Croatia'}\t{'id': 0, 'name': 'World'}\n",
      "150\t13270\tZajecarski\t1.0952837713900108\t{'id': 1228, 'name': 'Serbia'}\t{'id': 0, 'name': 'World'}\n",
      "151\t12997\tLuhans'k\t1.0953091305199079\t{'id': 1210, 'name': 'Ukraine'}\t{'id': 0, 'name': 'World'}\n",
      "152\t10451\tSliven\t1.0953368992768053\t{'id': 1032, 'name': 'Bulgaria'}\t{'id': 0, 'name': 'World'}\n",
      "153\t10748\tZlínský\t1.0961538039943701\t{'id': 1051, 'name': 'Czech Republic'}\t{'id': 0, 'name': 'World'}\n",
      "154\t10217\tDaşkəsən\t1.0988898523917539\t{'id': 1015, 'name': 'Azerbaijan'}\t{'id': 0, 'name': 'World'}\n",
      "155\t10190\tWien\t1.0994683787128419\t{'id': 1014, 'name': 'Austria'}\t{'id': 0, 'name': 'World'}\n",
      "156\t12513\tPomurska\t1.0999185250688552\t{'id': 1184, 'name': 'Slovenia'}\t{'id': 0, 'name': 'World'}\n",
      "157\t13329\tHubei\t1.1000585565668983\t{'id': 1231, 'name': 'China, mainland'}\t{'id': 0, 'name': 'World'}\n",
      "158\t10703\tOsjecko-Baranjska\t1.10249525925631\t{'id': 1048, 'name': 'Croatia'}\t{'id': 0, 'name': 'World'}\n",
      "159\t13257\tNišavski\t1.104097789547779\t{'id': 1228, 'name': 'Serbia'}\t{'id': 0, 'name': 'World'}\n",
      "160\t10987\tGuria\t1.105505902352007\t{'id': 1075, 'name': 'Georgia'}\t{'id': 0, 'name': 'World'}\n",
      "161\t12988\tDonets'k\t1.1063112936694472\t{'id': 1210, 'name': 'Ukraine'}\t{'id': 0, 'name': 'World'}\n",
      "162\t10955\tFranche-Comté\t1.1119070074337456\t{'id': 1070, 'name': 'France'}\t{'id': 0, 'name': 'World'}\n",
      "163\t12759\tSkopje\t1.1143897458901308\t{'id': 1198, 'name': 'Macedonia'}\t{'id': 0, 'name': 'World'}\n",
      "164\t12634\tAppenzell Ausserrhoden\t1.1150569405786295\t{'id': 1194, 'name': 'Switzerland'}\t{'id': 0, 'name': 'World'}\n",
      "165\t12291\tGorj\t1.115278351826398\t{'id': 1167, 'name': 'Romania'}\t{'id': 0, 'name': 'World'}\n",
      "166\t10185\tNiederösterreich\t1.1153318431309598\t{'id': 1014, 'name': 'Austria'}\t{'id': 0, 'name': 'World'}\n",
      "167\t13003\tSumy\t1.1169994405715546\t{'id': 1210, 'name': 'Ukraine'}\t{'id': 0, 'name': 'World'}\n",
      "168\t10434\tBurgas\t1.117396965624978\t{'id': 1032, 'name': 'Bulgaria'}\t{'id': 0, 'name': 'World'}\n",
      "169\t10996\tBaden-Württemberg\t1.1201923227418606\t{'id': 1076, 'name': 'Germany'}\t{'id': 0, 'name': 'World'}\n"
     ]
    },
    {
     "name": "stdout",
     "output_type": "stream",
     "text": [
      "170\t10743\tPardubický\t1.120212509514393\t{'id': 1051, 'name': 'Czech Republic'}\t{'id': 0, 'name': 'World'}\n",
      "171\t12561\tComunidad Foral de Navarra\t1.1208859078532138\t{'id': 1188, 'name': 'Spain'}\t{'id': 0, 'name': 'World'}\n",
      "172\t10946\tChampagne-Ardenne\t1.1216663113224579\t{'id': 1070, 'name': 'France'}\t{'id': 0, 'name': 'World'}\n",
      "173\t12986\tCrimea\t1.1230270275644216\t{'id': 1210, 'name': 'Ukraine'}\t{'id': 0, 'name': 'World'}\n",
      "174\t10694\tBrodsko-Posavska\t1.1231998892084154\t{'id': 1048, 'name': 'Croatia'}\t{'id': 0, 'name': 'World'}\n",
      "175\t12463\tFiorentino\t1.1256992797695062\t{'id': 1176, 'name': 'San Marino'}\t{'id': 0, 'name': 'World'}\n",
      "176\t10776\tP'yongan-bukto\t1.1261831273623981\t{'id': 1053, 'name': 'North Korea'}\t{'id': 0, 'name': 'World'}\n",
      "177\t12989\tIvano-Frankivs'k\t1.1284479957008022\t{'id': 1210, 'name': 'Ukraine'}\t{'id': 0, 'name': 'World'}\n",
      "178\t10773\tKaesong\t1.1288652191053243\t{'id': 1053, 'name': 'North Korea'}\t{'id': 0, 'name': 'World'}\n",
      "179\t10169\tTavush\t1.1295296978844664\t{'id': 1011, 'name': 'Armenia'}\t{'id': 0, 'name': 'World'}\n",
      "180\t13328\tHenan\t1.135731167158432\t{'id': 1231, 'name': 'China, mainland'}\t{'id': 0, 'name': 'World'}\n",
      "181\t12322\tChechnya\t1.137229560985167\t{'id': 1168, 'name': 'Russia'}\t{'id': 0, 'name': 'World'}\n",
      "182\t11331\tLombardia\t1.1381788697606132\t{'id': 1101, 'name': 'Italy'}\t{'id': 0, 'name': 'World'}\n",
      "183\t12387\tTula\t1.139726048001887\t{'id': 1168, 'name': 'Russia'}\t{'id': 0, 'name': 'World'}\n",
      "184\t10709\tVaraždinska\t1.1401708302078146\t{'id': 1048, 'name': 'Croatia'}\t{'id': 0, 'name': 'World'}\n",
      "185\t13134\tTashkent\t1.1404628665068135\t{'id': 1217, 'name': 'Uzbekistan'}\t{'id': 0, 'name': 'World'}\n",
      "186\t12991\tKherson\t1.141715381002633\t{'id': 1210, 'name': 'Ukraine'}\t{'id': 0, 'name': 'World'}\n",
      "187\t12460\tChiesanuova\t1.1433739701104675\t{'id': 1176, 'name': 'San Marino'}\t{'id': 0, 'name': 'World'}\n",
      "188\t10951\tBourgogne\t1.1437978362396302\t{'id': 1070, 'name': 'France'}\t{'id': 0, 'name': 'World'}\n",
      "189\t13266\tSrednje-Banatski\t1.1453526174577493\t{'id': 1228, 'name': 'Serbia'}\t{'id': 0, 'name': 'World'}\n",
      "190\t10711\tVukovarsko-Srijemska\t1.1486283765054384\t{'id': 1048, 'name': 'Croatia'}\t{'id': 0, 'name': 'World'}\n",
      "191\t10693\tBjelovarska-Bilogorska\t1.1507968294336566\t{'id': 1048, 'name': 'Croatia'}\t{'id': 0, 'name': 'World'}\n",
      "192\t12283\tCaras-Severin\t1.1514607700358384\t{'id': 1167, 'name': 'Romania'}\t{'id': 0, 'name': 'World'}\n",
      "193\t11148\tBorsod-Abaúj-Zemplén\t1.1531859577175765\t{'id': 1092, 'name': 'Hungary'}\t{'id': 0, 'name': 'World'}\n",
      "194\t10700\tKrapinsko-Zagorska\t1.1534280397155923\t{'id': 1048, 'name': 'Croatia'}\t{'id': 0, 'name': 'World'}\n",
      "195\t12998\tMykolayiv\t1.1542307718215825\t{'id': 1210, 'name': 'Ukraine'}\t{'id': 0, 'name': 'World'}\n",
      "196\t10960\tMidi-Pyrénées\t1.1545387721804006\t{'id': 1070, 'name': 'France'}\t{'id': 0, 'name': 'World'}\n",
      "197\t12643\tJura\t1.1549870261231094\t{'id': 1194, 'name': 'Switzerland'}\t{'id': 0, 'name': 'World'}\n",
      "198\t13008\tZaporizhzhya\t1.1552516994762245\t{'id': 1210, 'name': 'Ukraine'}\t{'id': 0, 'name': 'World'}\n",
      "199\t13249\tBranicevski\t1.1564854442458241\t{'id': 1228, 'name': 'Serbia'}\t{'id': 0, 'name': 'World'}\n"
     ]
    }
   ],
   "source": [
    "import csv\n",
    "import sys\n",
    "\n",
    "writer = csv.writer(sys.stdout, delimiter='\\t')\n",
    "\n",
    "for i in sim.similar_to(13066, number_of_regions=200, compare_to=0, requested_level=4, detailed_distance=False):\n",
    "    writer.writerow(i.values())"
   ]
  }
 ],
 "metadata": {
  "kernelspec": {
   "display_name": "Python 3",
   "language": "python",
   "name": "python3"
  },
  "language_info": {
   "codemirror_mode": {
    "name": "ipython",
    "version": 3
   },
   "file_extension": ".py",
   "mimetype": "text/x-python",
   "name": "python",
   "nbconvert_exporter": "python",
   "pygments_lexer": "ipython3",
   "version": "3.6.9"
  }
 },
 "nbformat": 4,
 "nbformat_minor": 4
}
