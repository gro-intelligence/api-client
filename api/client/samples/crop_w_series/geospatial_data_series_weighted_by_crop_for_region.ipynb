{
 "cells": [
  {
   "cell_type": "code",
   "execution_count": 1,
   "metadata": {},
   "outputs": [],
   "source": [
    "import os\n",
    "import pandas as pd\n",
    "import matplotlib.pyplot as plt\n",
    "\n",
    "from groclient import GroClient\n",
    "import groclient.utils"
   ]
  },
  {
   "cell_type": "code",
   "execution_count": 2,
   "metadata": {},
   "outputs": [],
   "source": [
    "ACCESS_TOKEN = os.environ['GROAPI_TOKEN']\n",
    "client = GroClient('api.gro-intelligence.com', ACCESS_TOKEN)"
   ]
  },
  {
   "cell_type": "markdown",
   "metadata": {},
   "source": [
    "# Preliminary\n",
    "## Defining items and metrics\n",
    "In this section we are going to define everything we need to retrieve the data we want. See [Data Series Definition](https://developers.gro-intelligence.com/data-series-definition.html) for more information\\\n",
    "There are **3** sections\\\n",
    "1- Geo information - [Brazil](https://app.gro-intelligence.com/dictionary/regions/1029), province (`4`) or district (`5`) level . See [Gro Ontology](https://developers.gro-intelligence.com/gro-ontology.html) for more information\\\n",
    "2- Main data series - [Gro Drought Index](https://app.gro-intelligence.com/dictionary/items/17388)\\\n",
    "3- Crop acreage - [Soybeans](https://app.gro-intelligence.com/dictionary/items/270) [land cover](https://app.gro-intelligence.com/dictionary/metrics/2120001)\n",
    "\n",
    "Each data point will be structured as described [here](https://developers.gro-intelligence.com/data-point-definition.html)"
   ]
  },
  {
   "cell_type": "code",
   "execution_count": 3,
   "metadata": {},
   "outputs": [],
   "source": [
    "input_region = 'Brazil' # Selecting the country or region\n",
    "input_level = 4 #Selecting the level of the data (granularity/resolution); 4 for province level, 5 for district level\n",
    "\n",
    "# Data series that we want to weight\n",
    "weighted_item = 'Gro Drought Index' #Item that we want to weight\n",
    "weighted_metric = 'Gro Drought Index'\n",
    "\n",
    "#Data series that we will use to compute the weighting\n",
    "# For that we need the crop_id, here we use soybeans (ID = 270)\n",
    "input_crop = 'soybeans'\n",
    "# And a metric, so we choose `land cover (area)`, but it could very well be something else like `area harvested` or `area planted`\n",
    "input_metric = 'land cover (area)'\n",
    "\n",
    "'''Optional source selection - If not specified (None) the source will be fetched automatically'''\n",
    "weighted_source = None"
   ]
  },
  {
   "cell_type": "markdown",
   "metadata": {},
   "source": [
    "The [search_for_entity](https://developers.gro-intelligence.com/api.html#groclient.GroClient.search_for_entity) method allows us to convert a name (e.g. Brazil) to a Gro ID (Brazil = 1029)\n",
    "\n"
   ]
  },
  {
   "cell_type": "code",
   "execution_count": 4,
   "metadata": {},
   "outputs": [
    {
     "name": "stdout",
     "output_type": "stream",
     "text": [
      "There are 27 regions for the selected country/level\n"
     ]
    }
   ],
   "source": [
    "\n",
    "'''Geospatial information '''\n",
    "# Selecting country or region\n",
    "region_id = client.search_for_entity('regions', input_region)\n",
    "# Selecting the level of the data (granularity/resolution)\n",
    "region_level = input_level # 4 for province level, 5 for district level\n",
    "# Fetching all subregions at level `region_level`.\n",
    "regions = client.get_descendant_regions(region_id, region_level, include_historical=False)\n",
    "print(\"There are {} regions for the selected country/level\".format(len(regions)))\n",
    "\n",
    "'''Data series (drought indicator) '''\n",
    "# item_id = the series we are interested in\n",
    "item_id = client.search_for_entity('items', weighted_item)\n",
    "# metric_id = the metric to use for our time series (here we want an index) \n",
    "metric_id = client.search_for_entity('metrics', weighted_metric)\n",
    "\n",
    "'''Crop acreage information (to compute weights) '''\n",
    "# Now that we have our time series, we want to weight it using a specific crop.\n",
    "# For that we need the crop_id, here we use soybeans (ID = 270)\n",
    "crop_id = client.search_for_entity('items', input_crop)\n",
    "# And a metric, so we choose `land cover (area)`, but it could very well be something else like `area harvested` or `area planted`\n",
    "crop_metric = client.search_for_entity('metrics', input_metric)\n"
   ]
  },
  {
   "cell_type": "markdown",
   "metadata": {},
   "source": [
    "## Data Frequency\n",
    "Now that we have everything, we can select the data frequency.\\\n",
    "Let's look at what is `available` on the **Gro API**\\\n",
    "We need one for the drought index and one for the crop acreage\\\n",
    "Here for the **drought index** we should have either `daily` (frequency_id=1), `weekly` (frequency_id=2) or `monthly` (frequency_id=6) data.\\\n",
    "For the **crop acreage** it will be `point in time` (frequency_id=15) "
   ]
  },
  {
   "cell_type": "markdown",
   "metadata": {},
   "source": [
    "1. Gro Drought Index\\\n",
    "Three options are available: `daily`, `weekly` or `monthly`\\\n",
    "We can also see the information related to each available frequency below"
   ]
  },
  {
   "cell_type": "code",
   "execution_count": 5,
   "metadata": {},
   "outputs": [
    {
     "data": {
      "text/plain": [
       "[{'frequency_id': 1,\n",
       "  'start_date': '2010-01-17T00:00:00.000Z',\n",
       "  'end_date': '2021-02-07T00:00:00.000Z',\n",
       "  'name': 'daily'},\n",
       " {'frequency_id': 2,\n",
       "  'start_date': '2010-01-13T00:00:00.000Z',\n",
       "  'end_date': '2021-02-02T00:00:00.000Z',\n",
       "  'name': 'weekly'},\n",
       " {'frequency_id': 6,\n",
       "  'start_date': '2010-01-01T00:00:00.000Z',\n",
       "  'end_date': '2021-01-31T00:00:00.000Z',\n",
       "  'name': 'monthly'}]"
      ]
     },
     "execution_count": 5,
     "metadata": {},
     "output_type": "execute_result"
    }
   ],
   "source": [
    "series_freq = client.get_available_timefrequency(**{\"region_id\":region_id, \"item_id\":item_id, \"metric_id\":metric_id})\n",
    "series_freq"
   ]
  },
  {
   "cell_type": "markdown",
   "metadata": {},
   "source": [
    "1. Crop Acreage\\\n",
    "One option is available : `point in time`"
   ]
  },
  {
   "cell_type": "code",
   "execution_count": 6,
   "metadata": {},
   "outputs": [
    {
     "data": {
      "text/plain": [
       "[{'frequency_id': 15,\n",
       "  'start_date': '2005-12-31T00:00:00.000Z',\n",
       "  'end_date': '2010-12-31T00:00:00.000Z',\n",
       "  'name': 'point in time'}]"
      ]
     },
     "execution_count": 6,
     "metadata": {},
     "output_type": "execute_result"
    }
   ],
   "source": [
    "crop_freq = client.get_available_timefrequency(**{\"region_id\":region_id, \"item_id\":crop_id, \"metric_id\":crop_metric})\n",
    "crop_freq"
   ]
  },
  {
   "cell_type": "code",
   "execution_count": 7,
   "metadata": {},
   "outputs": [],
   "source": [
    "# We select the first frequency for each series\n",
    "series_freq = series_freq[0]['frequency_id'] # This will be daily\n",
    "crop_freq = crop_freq[0]['frequency_id'] # This will be point in time"
   ]
  },
  {
   "cell_type": "markdown",
   "metadata": {},
   "source": [
    "## Defining necessary functions\n",
    "\n",
    "1- `get_source` will be useful to retrieve the best `source` for our data series, from the **Gro API**. This function is derived from [rank_series_by_source](https://developers.gro-intelligence.com/api.html#groclient.GroClient.rank_series_by_source)\\\n",
    "2- `get_data_points_wrapper` is a wrapper around the **Gro API** [get_data_points](https://developers.gro-intelligence.com/api.html#groclient.GroClient.get_data_points) function. It will automatically fetch the best source and return the data as a DataFrame. (Source can also be specified manually)\\\n",
    "3- `compute_weights` will compute the `weights` from the `crop acreage` series\\\n",
    "4- `compute_crop_weighted_series` will compute the final output - `Crop weighted drought index`\\\n",
    "\\\n",
    "These functions can be used for any crop weighted series, no need to change anything except for the IDs defined above "
   ]
  },
  {
   "cell_type": "code",
   "execution_count": 8,
   "metadata": {},
   "outputs": [],
   "source": [
    "# We define the necessary functions\n",
    "import itertools\n",
    "import numpy as np\n",
    "\n",
    "def indexOf(lst, elem, key=lambda x: x, missing_value_func=lambda x: len(x)):\n",
    "    '''Returns the index of 'elem' in 'lst', or len(lst) if elem is missing'''\n",
    "    return next((i for i, x in enumerate(lst) if key(x) == elem), missing_value_func(lst))\n",
    "\n",
    "def get_source(client, queries):\n",
    "    \"\"\"Retrieve best source for a given level.\n",
    "    Parameters\n",
    "    ----------\n",
    "    client : Client\n",
    "        Gro Client.\n",
    "    queries: List\n",
    "        List of dictionaries containing Gro queries\n",
    "\n",
    "    Returns\n",
    "    -------\n",
    "    Gro source id.\n",
    "    \"\"\"\n",
    "\n",
    "    ranking = list(client.rank_series_by_source(queries))\n",
    "    source_score = {s: 0 for s in set(dic.get(\"source_id\") for dic in ranking)}\n",
    "    \n",
    "    if len(ranking) > 0:\n",
    "        # Get the source ranking for each group of regions (each chunk has a ranking - so potentially multiple sources)\n",
    "        # _, v -> _ is the chunk of regions (we don't explicitely need it) v is a list the dict containing the sources\n",
    "        group_ranking = [\n",
    "            [i['source_id'] for i in v] for _, v in itertools.groupby(ranking, lambda x: x.get('region_id'))]\n",
    "        # For each group of regions increment the score value of the source by it's position in the ranking\n",
    "        # Lower score is better\n",
    "        for g in group_ranking:\n",
    "            for s in source_score.keys():\n",
    "                source_score[s] += indexOf(g, s)\n",
    "        return min(source_score, key=source_score.get)\n",
    "    else:\n",
    "        raise exceptions.SourceDataNotAvailableError(\"No source available for this query\")\n",
    "\n",
    "def get_data_points_wrapper(regions, metric_id, item_id, frequency_id, source_id=None, start_date=None):        \n",
    "    # Slicing our query in chunks is very useful when dealing with a lot of regions.\n",
    "    # Creating queries\n",
    "    queries = [{\n",
    "            \"metric_id\": metric_id,\n",
    "            \"item_id\": item_id,\n",
    "            \"start_date\": start_date,\n",
    "            \"frequency_id\": frequency_id,\n",
    "            \"region_id\": r, } for r in groclient.utils.list_chunk(region_ids, chunk_size=200)]\n",
    "    \n",
    "    # Fetching source\n",
    "    if source_id is None:\n",
    "        source_id = get_source(client, queries)\n",
    "    \n",
    "    # Updating query with source\n",
    "    queries = [dict({**cq, 'source_id': source_id}) for cq in queries]\n",
    "    # Downloading data\n",
    "    # For each query in queries, download and convert to pandas DF\n",
    "    output = pd.concat(\n",
    "        [pd.DataFrame().from_dict(client.get_data_points(**q)) \n",
    "         for q in queries]).reset_index(drop=True)\n",
    "    output.loc[:, 'source_id'] = source_id\n",
    "    return output\n",
    "\n",
    "def compute_weights(df, regions):\n",
    "    def mapper(region):\n",
    "        return df[(df['region_id'] == region['id'])]['value'].mean(skipna=True)\n",
    "    means = list(map(mapper, regions))\n",
    "    # Normalize into weights\n",
    "    total = np.nansum(means)\n",
    "    if not np.isclose(total, 0.0):\n",
    "        return [float(mean)/total for mean in means]\n",
    "    return means\n",
    "\n",
    "def compute_crop_weighted_series(crop_df, df, regions, weighting_func=lambda w, v: w*v):\n",
    "    weights = compute_weights(crop_df, regions)\n",
    "    series_list = []\n",
    "    for (region, weight) in zip(regions, weights):\n",
    "        series = df[(df['region_id'] == region['id'])].copy()\n",
    "        series.loc[:, 'value'] = weighting_func(weight, series['value'])\n",
    "        series_list.append(series)\n",
    "    return pd.concat(series_list)"
   ]
  },
  {
   "cell_type": "markdown",
   "metadata": {},
   "source": [
    "## Fetching data and Computing the final result\n",
    "\n",
    "1- We fetch the two dataframes (`Gro Drought Index` and `soybeans land cover`) using the IDs and frequencies defined above\\\n",
    "2- We compute the `crop weighted drought index`"
   ]
  },
  {
   "cell_type": "markdown",
   "metadata": {},
   "source": [
    "#### Fetching data"
   ]
  },
  {
   "cell_type": "code",
   "execution_count": 9,
   "metadata": {},
   "outputs": [],
   "source": [
    "region_ids = [r['id'] for r in regions] # Get only the 'id' field for each record (region)\n",
    "\n",
    "crop_df = get_data_points_wrapper(**{\n",
    "    \"regions\": region_ids,\n",
    "    \"metric_id\": crop_metric,\n",
    "    \"item_id\": crop_id,\n",
    "    \"frequency_id\": crop_freq,\n",
    "    \"source_id\":None,\n",
    "    \"start_date\": None, })\n",
    "\n",
    "series_df = get_data_points_wrapper(**{\n",
    "    \"regions\": region_ids,\n",
    "    \"metric_id\": metric_id,\n",
    "    \"item_id\": item_id,\n",
    "    \"frequency_id\": series_freq,\n",
    "    \"source_id\": weighted_source,\n",
    "    \"start_date\": None, })\n"
   ]
  },
  {
   "cell_type": "markdown",
   "metadata": {},
   "source": [
    "#### Crop weighted series\n",
    "\n",
    "We just need to call the `compute_crop_weighted_series` function"
   ]
  },
  {
   "cell_type": "code",
   "execution_count": 10,
   "metadata": {},
   "outputs": [],
   "source": [
    "crop_w_series = compute_crop_weighted_series(crop_df, series_df, regions)"
   ]
  },
  {
   "cell_type": "code",
   "execution_count": 11,
   "metadata": {},
   "outputs": [
    {
     "data": {
      "text/html": [
       "<div>\n",
       "<style scoped>\n",
       "    .dataframe tbody tr th:only-of-type {\n",
       "        vertical-align: middle;\n",
       "    }\n",
       "\n",
       "    .dataframe tbody tr th {\n",
       "        vertical-align: top;\n",
       "    }\n",
       "\n",
       "    .dataframe thead th {\n",
       "        text-align: right;\n",
       "    }\n",
       "</style>\n",
       "<table border=\"1\" class=\"dataframe\">\n",
       "  <thead>\n",
       "    <tr style=\"text-align: right;\">\n",
       "      <th></th>\n",
       "      <th>start_date</th>\n",
       "      <th>end_date</th>\n",
       "      <th>value</th>\n",
       "      <th>unit_id</th>\n",
       "      <th>metadata</th>\n",
       "      <th>input_unit_id</th>\n",
       "      <th>input_unit_scale</th>\n",
       "      <th>reporting_date</th>\n",
       "      <th>metric_id</th>\n",
       "      <th>item_id</th>\n",
       "      <th>region_id</th>\n",
       "      <th>partner_region_id</th>\n",
       "      <th>frequency_id</th>\n",
       "      <th>source_id</th>\n",
       "    </tr>\n",
       "  </thead>\n",
       "  <tbody>\n",
       "    <tr>\n",
       "      <th>0</th>\n",
       "      <td>2010-01-17T00:00:00.000Z</td>\n",
       "      <td>2010-01-17T00:00:00.000Z</td>\n",
       "      <td>0.029023</td>\n",
       "      <td>189</td>\n",
       "      <td>{}</td>\n",
       "      <td>189</td>\n",
       "      <td>1</td>\n",
       "      <td>None</td>\n",
       "      <td>15852252</td>\n",
       "      <td>17388</td>\n",
       "      <td>10402</td>\n",
       "      <td>0</td>\n",
       "      <td>1</td>\n",
       "      <td>145</td>\n",
       "    </tr>\n",
       "    <tr>\n",
       "      <th>1</th>\n",
       "      <td>2010-01-18T00:00:00.000Z</td>\n",
       "      <td>2010-01-18T00:00:00.000Z</td>\n",
       "      <td>0.029176</td>\n",
       "      <td>189</td>\n",
       "      <td>{}</td>\n",
       "      <td>189</td>\n",
       "      <td>1</td>\n",
       "      <td>None</td>\n",
       "      <td>15852252</td>\n",
       "      <td>17388</td>\n",
       "      <td>10402</td>\n",
       "      <td>0</td>\n",
       "      <td>1</td>\n",
       "      <td>145</td>\n",
       "    </tr>\n",
       "    <tr>\n",
       "      <th>2</th>\n",
       "      <td>2010-01-19T00:00:00.000Z</td>\n",
       "      <td>2010-01-19T00:00:00.000Z</td>\n",
       "      <td>0.030052</td>\n",
       "      <td>189</td>\n",
       "      <td>{}</td>\n",
       "      <td>189</td>\n",
       "      <td>1</td>\n",
       "      <td>None</td>\n",
       "      <td>15852252</td>\n",
       "      <td>17388</td>\n",
       "      <td>10402</td>\n",
       "      <td>0</td>\n",
       "      <td>1</td>\n",
       "      <td>145</td>\n",
       "    </tr>\n",
       "    <tr>\n",
       "      <th>3</th>\n",
       "      <td>2010-01-20T00:00:00.000Z</td>\n",
       "      <td>2010-01-20T00:00:00.000Z</td>\n",
       "      <td>0.030661</td>\n",
       "      <td>189</td>\n",
       "      <td>{}</td>\n",
       "      <td>189</td>\n",
       "      <td>1</td>\n",
       "      <td>None</td>\n",
       "      <td>15852252</td>\n",
       "      <td>17388</td>\n",
       "      <td>10402</td>\n",
       "      <td>0</td>\n",
       "      <td>1</td>\n",
       "      <td>145</td>\n",
       "    </tr>\n",
       "    <tr>\n",
       "      <th>4</th>\n",
       "      <td>2010-01-21T00:00:00.000Z</td>\n",
       "      <td>2010-01-21T00:00:00.000Z</td>\n",
       "      <td>0.030128</td>\n",
       "      <td>189</td>\n",
       "      <td>{}</td>\n",
       "      <td>189</td>\n",
       "      <td>1</td>\n",
       "      <td>None</td>\n",
       "      <td>15852252</td>\n",
       "      <td>17388</td>\n",
       "      <td>10402</td>\n",
       "      <td>0</td>\n",
       "      <td>1</td>\n",
       "      <td>145</td>\n",
       "    </tr>\n",
       "    <tr>\n",
       "      <th>108994</th>\n",
       "      <td>2021-02-03T00:00:00.000Z</td>\n",
       "      <td>2021-02-03T00:00:00.000Z</td>\n",
       "      <td>0.022060</td>\n",
       "      <td>189</td>\n",
       "      <td>{}</td>\n",
       "      <td>189</td>\n",
       "      <td>1</td>\n",
       "      <td>None</td>\n",
       "      <td>15852252</td>\n",
       "      <td>17388</td>\n",
       "      <td>10428</td>\n",
       "      <td>0</td>\n",
       "      <td>1</td>\n",
       "      <td>145</td>\n",
       "    </tr>\n",
       "    <tr>\n",
       "      <th>108995</th>\n",
       "      <td>2021-02-04T00:00:00.000Z</td>\n",
       "      <td>2021-02-04T00:00:00.000Z</td>\n",
       "      <td>0.020724</td>\n",
       "      <td>189</td>\n",
       "      <td>{}</td>\n",
       "      <td>189</td>\n",
       "      <td>1</td>\n",
       "      <td>None</td>\n",
       "      <td>15852252</td>\n",
       "      <td>17388</td>\n",
       "      <td>10428</td>\n",
       "      <td>0</td>\n",
       "      <td>1</td>\n",
       "      <td>145</td>\n",
       "    </tr>\n",
       "    <tr>\n",
       "      <th>108996</th>\n",
       "      <td>2021-02-05T00:00:00.000Z</td>\n",
       "      <td>2021-02-05T00:00:00.000Z</td>\n",
       "      <td>0.021033</td>\n",
       "      <td>189</td>\n",
       "      <td>{}</td>\n",
       "      <td>189</td>\n",
       "      <td>1</td>\n",
       "      <td>None</td>\n",
       "      <td>15852252</td>\n",
       "      <td>17388</td>\n",
       "      <td>10428</td>\n",
       "      <td>0</td>\n",
       "      <td>1</td>\n",
       "      <td>145</td>\n",
       "    </tr>\n",
       "    <tr>\n",
       "      <th>108997</th>\n",
       "      <td>2021-02-06T00:00:00.000Z</td>\n",
       "      <td>2021-02-06T00:00:00.000Z</td>\n",
       "      <td>0.020414</td>\n",
       "      <td>189</td>\n",
       "      <td>{}</td>\n",
       "      <td>189</td>\n",
       "      <td>1</td>\n",
       "      <td>None</td>\n",
       "      <td>15852252</td>\n",
       "      <td>17388</td>\n",
       "      <td>10428</td>\n",
       "      <td>0</td>\n",
       "      <td>1</td>\n",
       "      <td>145</td>\n",
       "    </tr>\n",
       "    <tr>\n",
       "      <th>108998</th>\n",
       "      <td>2021-02-07T00:00:00.000Z</td>\n",
       "      <td>2021-02-07T00:00:00.000Z</td>\n",
       "      <td>0.019828</td>\n",
       "      <td>189</td>\n",
       "      <td>{}</td>\n",
       "      <td>189</td>\n",
       "      <td>1</td>\n",
       "      <td>None</td>\n",
       "      <td>15852252</td>\n",
       "      <td>17388</td>\n",
       "      <td>10428</td>\n",
       "      <td>0</td>\n",
       "      <td>1</td>\n",
       "      <td>145</td>\n",
       "    </tr>\n",
       "  </tbody>\n",
       "</table>\n",
       "</div>"
      ],
      "text/plain": [
       "                      start_date                  end_date     value  unit_id  \\\n",
       "0       2010-01-17T00:00:00.000Z  2010-01-17T00:00:00.000Z  0.029023      189   \n",
       "1       2010-01-18T00:00:00.000Z  2010-01-18T00:00:00.000Z  0.029176      189   \n",
       "2       2010-01-19T00:00:00.000Z  2010-01-19T00:00:00.000Z  0.030052      189   \n",
       "3       2010-01-20T00:00:00.000Z  2010-01-20T00:00:00.000Z  0.030661      189   \n",
       "4       2010-01-21T00:00:00.000Z  2010-01-21T00:00:00.000Z  0.030128      189   \n",
       "108994  2021-02-03T00:00:00.000Z  2021-02-03T00:00:00.000Z  0.022060      189   \n",
       "108995  2021-02-04T00:00:00.000Z  2021-02-04T00:00:00.000Z  0.020724      189   \n",
       "108996  2021-02-05T00:00:00.000Z  2021-02-05T00:00:00.000Z  0.021033      189   \n",
       "108997  2021-02-06T00:00:00.000Z  2021-02-06T00:00:00.000Z  0.020414      189   \n",
       "108998  2021-02-07T00:00:00.000Z  2021-02-07T00:00:00.000Z  0.019828      189   \n",
       "\n",
       "       metadata  input_unit_id  input_unit_scale reporting_date  metric_id  \\\n",
       "0            {}            189                 1           None   15852252   \n",
       "1            {}            189                 1           None   15852252   \n",
       "2            {}            189                 1           None   15852252   \n",
       "3            {}            189                 1           None   15852252   \n",
       "4            {}            189                 1           None   15852252   \n",
       "108994       {}            189                 1           None   15852252   \n",
       "108995       {}            189                 1           None   15852252   \n",
       "108996       {}            189                 1           None   15852252   \n",
       "108997       {}            189                 1           None   15852252   \n",
       "108998       {}            189                 1           None   15852252   \n",
       "\n",
       "        item_id  region_id  partner_region_id  frequency_id  source_id  \n",
       "0         17388      10402                  0             1        145  \n",
       "1         17388      10402                  0             1        145  \n",
       "2         17388      10402                  0             1        145  \n",
       "3         17388      10402                  0             1        145  \n",
       "4         17388      10402                  0             1        145  \n",
       "108994    17388      10428                  0             1        145  \n",
       "108995    17388      10428                  0             1        145  \n",
       "108996    17388      10428                  0             1        145  \n",
       "108997    17388      10428                  0             1        145  \n",
       "108998    17388      10428                  0             1        145  "
      ]
     },
     "execution_count": 11,
     "metadata": {},
     "output_type": "execute_result"
    }
   ],
   "source": [
    "# Displaying head and tail of the end result\n",
    "crop_w_series.head(5).append(crop_w_series.tail(5))"
   ]
  },
  {
   "cell_type": "markdown",
   "metadata": {},
   "source": [
    "#### Exporting the data as CSV"
   ]
  },
  {
   "cell_type": "code",
   "execution_count": 12,
   "metadata": {},
   "outputs": [],
   "source": [
    "crop_w_series.to_csv('{}_w_{}.csv'.format(input_crop, weighted_item.replace(' ', '_').lower()), index=False)"
   ]
  },
  {
   "cell_type": "markdown",
   "metadata": {},
   "source": [
    "#### Visualizing the weights (can take some time at district level)"
   ]
  },
  {
   "cell_type": "code",
   "execution_count": 13,
   "metadata": {},
   "outputs": [
    {
     "data": {
      "image/png": "[encoded data removed]",
      "text/plain": [
       "<Figure size 432x288 with 2 Axes>"
      ]
     },
     "metadata": {
      "needs_background": "light"
     },
     "output_type": "display_data"
    }
   ],
   "source": [
    "import geopandas\n",
    "from shapely.geometry import shape\n",
    "weights = compute_weights(crop_df, regions)\n",
    "max_weight = max(filter(lambda x: x >0, weights))\n",
    "gdf = geopandas.GeoDataFrame([{\n",
    "       'region_id': region['id'], \n",
    "       'geometry': shape(client.get_geojson(region['id'])['geometries'][0]),\n",
    "       'acreage_weight': weight if weight > 0 else 0\n",
    "    } for (region, weight) in zip(regions, weights)])\n",
    "gdf.set_index('region_id')\n",
    "\n",
    "fig, axes = plt.subplots(1, 1)\n",
    "gdf.plot(column='acreage_weight', \n",
    "         cmap='Blues', ax=axes, vmin=0, vmax=max_weight, legend=True)\n",
    "axes.set_title('Crop Acreage Weight')\n",
    "axes.xaxis.set_visible(False)\n",
    "axes.yaxis.set_visible(False)\n",
    "plt.show()"
   ]
  },
  {
   "cell_type": "markdown",
   "metadata": {},
   "source": [
    "#### Visualizing drought index (non weighted vs weighted)\n",
    "\n",
    "It is possible to change the `EVAL_DATE` variable to visualize the data at a different date"
   ]
  },
  {
   "cell_type": "code",
   "execution_count": 14,
   "metadata": {},
   "outputs": [],
   "source": [
    "EVAL_DATE = u'2019-01-31T00:00:00.000Z'\n",
    "gdf1 = gdf.join(series_df.set_index('region_id'), on='region_id')\n",
    "\n",
    "cwseries_df = crop_w_series.loc[(crop_w_series.metric_id == metric_id) & \\\n",
    "                            (crop_w_series.end_date == EVAL_DATE), :]\n",
    "gdf2 = gdf.join(cwseries_df.set_index('region_id'), on='region_id')"
   ]
  },
  {
   "cell_type": "code",
   "execution_count": 15,
   "metadata": {},
   "outputs": [
    {
     "data": {
      "image/png": "[encoded data removed]",
      "text/plain": [
       "<Figure size 1080x576 with 4 Axes>"
      ]
     },
     "metadata": {
      "needs_background": "light"
     },
     "output_type": "display_data"
    }
   ],
   "source": [
    "\n",
    "fig, axes = plt.subplots(1, 2, figsize=(15,8), constrained_layout=True)\n",
    "gdf1.plot(column='value', \n",
    "          cmap='Greens', ax=axes[0], legend=True)\n",
    "axes[0].set_title('Drought index')\n",
    "axes[0].xaxis.set_visible(False)\n",
    "axes[0].yaxis.set_visible(False)\n",
    "gdf2.plot(column='value', \n",
    "          cmap='Greens', ax=axes[1], legend=True)\n",
    "axes[1].set_title('Crop-weighted drought index')\n",
    "axes[1].xaxis.set_visible(False)\n",
    "axes[1].yaxis.set_visible(False)\n",
    "plt.show()"
   ]
  },
  {
   "cell_type": "code",
   "execution_count": null,
   "metadata": {},
   "outputs": [],
   "source": []
  }
 ],
 "metadata": {
  "kernelspec": {
   "display_name": "Python 3",
   "language": "python",
   "name": "python3"
  },
  "language_info": {
   "codemirror_mode": {
    "name": "ipython",
    "version": 3
   },
   "file_extension": ".py",
   "mimetype": "text/x-python",
   "name": "python",
   "nbconvert_exporter": "python",
   "pygments_lexer": "ipython3",
   "version": "3.8.7"
  }
 },
 "nbformat": 4,
 "nbformat_minor": 4
}
