{
 "cells": [
  {
   "cell_type": "markdown",
   "metadata": {},
   "source": [
    "# Similar Regions examples\n",
    "\n"
   ]
  },
  {
   "cell_type": "markdown",
   "metadata": {},
   "source": [
    "## Comments\n",
    "Reported distance values are in a multi-dimentional space. They should only be used for relative region comparison and not be interpreted in any other way. In particular, no linearity of the underlying space should be assumed. For example, a pair of regions at double the distance compared to some other pair should not be interpreted as \"twice less similar\" in any meaningful way\n",
    "\n",
    "Whenever the similar_to method is called with a different compare_to argument, the SimilarRegion object is rebuilt, which can be expensive if the data has not already been cached.  Subsequent calls with the same compare_to take advantage of the cache and do not trigger data downloads from the Gro API. The same applies to the seed region, i.e. the region_id argument, if the region is not present in the cache, data will be downloaded from the Gro API. \n",
    "\n",
    "Some region names contain commas, so when writing results to a csv file, you  should use a csv writer object."
   ]
  },
  {
   "cell_type": "markdown",
   "metadata": {},
   "source": [
    "## Initial Imports"
   ]
  },
  {
   "cell_type": "code",
   "execution_count": 1,
   "metadata": {
    "scrolled": false
   },
   "outputs": [],
   "source": [
    "import pandas as pd\n",
    "import numpy as np\n",
    "import logging\n",
    "\n",
    "# SimilarRegion class definition\n",
    "from api.client.samples.similar_regions_Frechet.sr import SimilarRegion\n",
    "\n",
    "# Detailed API info (such as metric_id, item_id, etc.) on properties which can be used in a metric\n",
    "# Currently contains land surface temperature, rainfall, and soil moisture time series\n",
    "# as well as seven soil properties\n",
    "from api.client.samples.similar_regions_Frechet.metric import metric_properties, metric_weights\n",
    "\n",
    "# Allow nested IO loops (required for jupyter notebooks to work with batch API, not needed in stand-alone python scripts)\n",
    "import nest_asyncio\n",
    "\n",
    "nest_asyncio.apply()"
   ]
  },
  {
   "cell_type": "markdown",
   "metadata": {},
   "source": [
    "## Initialization"
   ]
  },
  {
   "cell_type": "code",
   "execution_count": 2,
   "metadata": {
    "scrolled": false
   },
   "outputs": [],
   "source": [
    "# Configure SR object (no real work will be done yet - it will start on the first call to similar_to)\n",
    "# To reconstruct from scratch, make sure data_dir is empty.\n",
    "\n",
    "sim = SimilarRegion(metric_properties,\n",
    "                    data_dir='/tmp/similar_regions_cache',\n",
    "                    metric_weights=metric_weights)\n",
    "\n",
    "# Uncomment this to see extensive informational messages during object build/region search\n",
    "# sim._logger.setLevel(logging.INFO)"
   ]
  },
  {
   "cell_type": "markdown",
   "metadata": {},
   "source": [
    "# Examples\n",
    "\n",
    "Note that in each example, the size of the search area to compare to (a countyr, a continent or the whole world) to and the requested region level (district, province or country) significantly affect the amount of data that will be needed.  There are about 45,000 districts and about 5,000 provinces in the whole world.  \n",
    "\n",
    "## Example 1\n",
    "\n",
    "Find 10 districts (region level 5), in Oceania (region 13) most similar to Napa county, California, USA (region_id 136969)."
   ]
  },
  {
   "cell_type": "code",
   "execution_count": 3,
   "metadata": {
    "scrolled": false
   },
   "outputs": [
    {
     "name": "stdout",
     "output_type": "stream",
     "text": [
      "Districts similar to Napa in Oceania:\n"
     ]
    },
    {
     "name": "stderr",
     "output_type": "stream",
     "text": [
      "100%|██████████| 13/13 [00:00<00:00, 21.66it/s]\n",
      "100%|██████████| 13/13 [00:00<00:00, 25.30it/s]\n",
      "100%|██████████| 26/26 [00:05<00:00,  4.74it/s]\n",
      "100%|██████████| 13/13 [00:00<00:00, 17.81it/s]\n",
      "100%|██████████| 13/13 [00:00<00:00, 25.33it/s]\n",
      "100%|██████████| 3/3 [00:14<00:00,  4.96s/it]\n",
      "100%|██████████| 13/13 [00:00<00:00, 21.18it/s]\n",
      "100%|██████████| 13/13 [00:00<00:00, 26.64it/s]\n",
      " 36%|███▌      | 100/281 [00:06<00:10, 16.61it/s]\n",
      " 36%|███▌      | 100/281 [00:07<00:14, 12.72it/s]\n",
      " 36%|███▌      | 100/281 [00:01<00:02, 67.89it/s]\n",
      " 29%|██▉       | 81/281 [00:07<00:17, 11.36it/s]\n",
      "100%|██████████| 13/13 [00:00<00:00, 22.36it/s]\n",
      "100%|██████████| 1/1 [00:00<00:00,  3.64it/s]\n",
      "100%|██████████| 1/1 [00:00<00:00,  5.35it/s]\n",
      "100%|██████████| 1/1 [00:00<00:00,  1.32it/s]\n",
      "100%|██████████| 1/1 [00:00<00:00,  4.29it/s]\n",
      "100%|██████████| 1/1 [00:00<00:00,  4.13it/s]\n",
      "100%|██████████| 1/1 [00:01<00:00,  1.13s/it]\n",
      "100%|██████████| 1/1 [00:00<00:00,  4.05it/s]\n",
      "100%|██████████| 1/1 [00:00<00:00,  4.53it/s]\n",
      "100%|██████████| 1/1 [00:00<00:00,  1.55it/s]\n",
      "100%|██████████| 1/1 [00:00<00:00,  5.57it/s]\n"
     ]
    },
    {
     "name": "stdout",
     "output_type": "stream",
     "text": [
      "{'#': 0, 'id': 102852, 'name': 'Upper Hunter Shire', 'dist': 1.0173388430612706, 'parents': [(10174, 'New South Wales'), (100023983, 'Hunter Valley, excl Newcastle - SA4 area')], 'grand_parents': [(1013, 'Australia'), (10174, 'New South Wales'), (100024065, 'Australia Statistical Area')]}\n",
      "{'#': 1, 'id': 100022568, 'name': 'Wangaratta', 'dist': 1.0385239475854269, 'parents': [(10180, 'Victoria'), (100024048, 'Hume - SA4 area')], 'grand_parents': [(1013, 'Australia'), (10180, 'Victoria'), (100024065, 'Australia Statistical Area')]}\n",
      "{'#': 2, 'id': 102739, 'name': 'Dungog', 'dist': 1.08021988488311, 'parents': [(10174, 'New South Wales'), (100023983, 'Hunter Valley, excl Newcastle - SA4 area')], 'grand_parents': [(1013, 'Australia'), (10174, 'New South Wales'), (100024065, 'Australia Statistical Area')]}\n",
      "{'#': 3, 'id': 100022537, 'name': 'Indigo', 'dist': 1.0809597805693687, 'parents': [(10180, 'Victoria'), (100024048, 'Hume - SA4 area')], 'grand_parents': [(1013, 'Australia'), (10180, 'Victoria'), (100024065, 'Australia Statistical Area')]}\n",
      "{'#': 4, 'id': 100022487, 'name': 'Mid-Western Regional', 'dist': 1.1117281793754827, 'parents': [(10174, 'New South Wales'), (100023979, 'Central West - SA4 area')], 'grand_parents': [(1013, 'Australia'), (10174, 'New South Wales'), (100024065, 'Australia Statistical Area')]}\n",
      "{'#': 5, 'id': 100022557, 'name': 'Murrindindi', 'dist': 1.1134716292216345, 'parents': [(10180, 'Victoria'), (100024048, 'Hume - SA4 area')], 'grand_parents': [(1013, 'Australia'), (10180, 'Victoria'), (100024065, 'Australia Statistical Area')]}\n",
      "{'#': 6, 'id': 103807, 'name': 'Wodonga', 'dist': 1.1182413463837215, 'parents': [(10180, 'Victoria'), (100024048, 'Hume - SA4 area')], 'grand_parents': [(1013, 'Australia'), (10180, 'Victoria'), (100024065, 'Australia Statistical Area')]}\n",
      "{'#': 7, 'id': 100022478, 'name': 'Greater Hume Shire', 'dist': 1.1264317762109375, 'parents': [(10174, 'New South Wales'), (100024052, 'Murray - SA4 area')], 'grand_parents': [(1013, 'Australia'), (10174, 'New South Wales'), (100024065, 'Australia Statistical Area')]}\n",
      "{'#': 8, 'id': 100022464, 'name': 'Bathurst Regional', 'dist': 1.1310108018506226, 'parents': [(10174, 'New South Wales'), (100023979, 'Central West - SA4 area')], 'grand_parents': [(1013, 'Australia'), (10174, 'New South Wales'), (100024065, 'Australia Statistical Area')]}\n",
      "{'#': 9, 'id': 102859, 'name': 'Walcha', 'dist': 1.138311257248809, 'parents': [(10174, 'New South Wales'), (100023999, 'New England and North West - SA4 area')], 'grand_parents': [(1013, 'Australia'), (10174, 'New South Wales'), (100024065, 'Australia Statistical Area')]}\n",
      "CPU times: user 10 s, sys: 292 ms, total: 10.3 s\n",
      "Wall time: 1min 9s\n"
     ]
    }
   ],
   "source": [
    "%%time\n",
    "# First call to similar_to method will trigger data loading from either local cache or Gro database\n",
    "# depending on SimilarRegion configuration requested during its construction above.\n",
    "# If local cache is used this should take under 5 minutes\n",
    "# *****CAUTION******: First download from Gro database for a large region (default is entire world!) will take many ours.\n",
    "\n",
    "print(\"Districts similar to Napa in Oceania:\")\n",
    "for i in sim.similar_to(136969, number_of_regions=10, requested_level=5, compare_to=13):\n",
    "    print(i)"
   ]
  },
  {
   "cell_type": "markdown",
   "metadata": {},
   "source": [
    "## Example 2\n",
    "\n",
    "Same as Ex.1 but restricted to Ethiopia (region_id 1065). This will trigger rebuilding of SimilrRegion object and, since seed region is outside search region, a download of seed region data directly from Gro"
   ]
  },
  {
   "cell_type": "code",
   "execution_count": 4,
   "metadata": {
    "scrolled": false
   },
   "outputs": [
    {
     "name": "stdout",
     "output_type": "stream",
     "text": [
      "Districts similar to Napa in Ethiopia:\n"
     ]
    },
    {
     "name": "stderr",
     "output_type": "stream",
     "text": [
      "100%|██████████| 1/1 [00:00<00:00,  5.36it/s]\n",
      "100%|██████████| 1/1 [00:00<00:00,  6.26it/s]\n",
      "100%|██████████| 1/1 [00:00<00:00,  1.85it/s]\n",
      "100%|██████████| 1/1 [00:00<00:00,  5.77it/s]\n",
      "100%|██████████| 1/1 [00:00<00:00,  5.61it/s]\n",
      "100%|██████████| 1/1 [00:00<00:00,  1.36it/s]\n",
      "100%|██████████| 1/1 [00:00<00:00,  6.19it/s]\n",
      "100%|██████████| 1/1 [00:00<00:00,  5.57it/s]\n",
      "100%|██████████| 1/1 [00:00<00:00,  2.34it/s]\n",
      "100%|██████████| 1/1 [00:00<00:00,  6.04it/s]\n"
     ]
    },
    {
     "name": "stdout",
     "output_type": "stream",
     "text": [
      "{'#': 0, 'id': 142811, 'name': 'Guji', 'dist': 1.2338421995896156, 'parents': [(10925, 'Oromia'), (100023816, 'Jubba-Shebelle River basin')], 'grand_parents': [(1065, 'Ethiopia'), (11, 'Africa')]}\n",
      "{'#': 1, 'id': 115015, 'name': 'Eastern', 'dist': 1.39693348320392, 'parents': [(10928, 'Tigray'), (100023870, 'Nile River basin')], 'grand_parents': [(1065, 'Ethiopia'), (11, 'Africa')]}\n",
      "{'#': 2, 'id': 114979, 'name': 'Borena', 'dist': 1.4944076194977822, 'parents': [(10925, 'Oromia')], 'grand_parents': [(1065, 'Ethiopia')]}\n",
      "{'#': 3, 'id': 114978, 'name': 'Bale', 'dist': 1.5500765471563827, 'parents': [(10925, 'Oromia'), (100023816, 'Jubba-Shebelle River basin')], 'grand_parents': [(1065, 'Ethiopia'), (11, 'Africa')]}\n",
      "{'#': 4, 'id': 114991, 'name': 'Liben', 'dist': 1.5603356045152479, 'parents': [(10926, 'Somali'), (100023816, 'Jubba-Shebelle River basin')], 'grand_parents': [(1065, 'Ethiopia'), (11, 'Africa')]}\n",
      "{'#': 5, 'id': 142822, 'name': 'Alaba', 'dist': 1.561470946006365, 'parents': [(10927, 'Southern Nations, Nationalities and Peoples')], 'grand_parents': [(1065, 'Ethiopia')]}\n",
      "{'#': 6, 'id': 142824, 'name': 'South East', 'dist': 1.5920198683128988, 'parents': [(10928, 'Tigray'), (100023870, 'Nile River basin')], 'grand_parents': [(1065, 'Ethiopia'), (11, 'Africa')]}\n",
      "{'#': 7, 'id': 142823, 'name': \"Segen Peoples'\", 'dist': 1.6524844247816282, 'parents': [(10927, 'Southern Nations, Nationalities and Peoples')], 'grand_parents': [(1065, 'Ethiopia')]}\n",
      "{'#': 8, 'id': 142806, 'name': 'Hareri', 'dist': 1.6690162246665883, 'parents': [(10924, 'Hareri'), (100023816, 'Jubba-Shebelle River basin')], 'grand_parents': [(1065, 'Ethiopia'), (11, 'Africa')]}\n",
      "{'#': 9, 'id': 114981, 'name': 'East Shewa', 'dist': 1.671390017606501, 'parents': [(10925, 'Oromia'), (100023756, 'Awash River basin')], 'grand_parents': [(1065, 'Ethiopia'), (11, 'Africa')]}\n",
      "CPU times: user 2.99 s, sys: 112 ms, total: 3.1 s\n",
      "Wall time: 12 s\n"
     ]
    }
   ],
   "source": [
    "%%time\n",
    "# Use compare_to argument to restrict search to districts within particular country\n",
    "\n",
    "print(\"Districts similar to Napa in Ethiopia:\")\n",
    "for i in sim.similar_to(136969, number_of_regions=10, requested_level=5, compare_to=1065):\n",
    "    print(i)"
   ]
  },
  {
   "cell_type": "markdown",
   "metadata": {},
   "source": [
    "## Example 3\n",
    "\n",
    "Find 10 provinces (region level 4) in Europe (region_id 14) most similar to the US state of Iowa (region_id 13066), provide detailed distance report"
   ]
  },
  {
   "cell_type": "code",
   "execution_count": 5,
   "metadata": {
    "scrolled": false
   },
   "outputs": [
    {
     "name": "stdout",
     "output_type": "stream",
     "text": [
      "Provinces similar to Iowa in Europe:\n"
     ]
    },
    {
     "name": "stderr",
     "output_type": "stream",
     "text": [
      "100%|██████████| 2/2 [00:00<00:00,  4.65it/s]\n",
      "100%|██████████| 2/2 [00:00<00:00,  3.86it/s]\n",
      "100%|██████████| 2/2 [00:10<00:00,  5.09s/it]\n",
      "100%|██████████| 2/2 [00:00<00:00,  4.18it/s]\n",
      "100%|██████████| 2/2 [00:00<00:00,  4.92it/s]\n",
      "100%|██████████| 2/2 [00:19<00:00,  9.54s/it]\n",
      "100%|██████████| 2/2 [00:00<00:00,  3.94it/s]\n",
      "100%|██████████| 2/2 [00:00<00:00,  4.06it/s]\n",
      "100%|██████████| 42/42 [00:04<00:00,  8.98it/s]\n",
      "100%|██████████| 2/2 [00:00<00:00,  3.32it/s]\n",
      "100%|██████████| 1/1 [00:00<00:00,  4.57it/s]\n",
      "100%|██████████| 1/1 [00:00<00:00,  4.47it/s]\n",
      "100%|██████████| 1/1 [00:00<00:00,  1.30it/s]\n",
      "100%|██████████| 1/1 [00:00<00:00,  4.69it/s]\n",
      "100%|██████████| 1/1 [00:00<00:00,  4.90it/s]\n",
      "100%|██████████| 1/1 [00:01<00:00,  1.14s/it]\n",
      "100%|██████████| 1/1 [00:00<00:00,  4.52it/s]\n",
      "100%|██████████| 1/1 [00:00<00:00,  4.23it/s]\n",
      "100%|██████████| 1/1 [00:00<00:00,  1.26it/s]\n",
      "100%|██████████| 1/1 [00:00<00:00,  5.97it/s]\n"
     ]
    },
    {
     "name": "stdout",
     "output_type": "stream",
     "text": [
      "{'#': 0, 'id': 12284, 'name': 'Cluj', 'dist': {'total': 0.7569978480749656, 'covar': 0.43341876634072, 'cation_exchange_30cm': 0.25067659587868785, 'clay_30cm': 0.041566176229737684, 'land_surface_temperature': 0.11596780389771966, 'organic_carbon_content_fine_earth_30cm': 0.14872593597649922, 'ph_h2o_30cm': 0.01464601966557133, 'rainfall': 0.2128178623321425, 'sand_30cm': 0.30008835181434, 'silt_30cm': 0.3360045979194928, 'soil_moisture': 0.1405871378131267, 'soil_water_capacity_100cm': 0.12975621841492435}, 'parents': [(1167, 'Romania'), (100000615, 'Nord-Vest')], 'grand_parents': [(0, 'World'), (14, 'Europe'), (1290, 'EU-28'), (100000022, 'Eastern Europe'), (100000035, 'EU (European Union)'), (100000112, 'EU-27'), (100000560, 'EU-11'), (100000561, 'EU-13'), (100017849, 'World, excl China')]}\n",
      "{'#': 1, 'id': 11714, 'name': 'Edinet', 'dist': {'total': 0.7639849432992943, 'covar': 0.4286800658674282, 'cation_exchange_30cm': 0.029827030581420555, 'clay_30cm': 0.05072413701545009, 'land_surface_temperature': 0.06851441822249082, 'organic_carbon_content_fine_earth_30cm': 0.10505897239232384, 'ph_h2o_30cm': 0.2234878843299568, 'rainfall': 0.3925933490497422, 'sand_30cm': 0.0864973996480457, 'silt_30cm': 0.14938558114455347, 'soil_moisture': 0.38240262646327383, 'soil_water_capacity_100cm': 0.024621105093112217}, 'parents': [(1134, 'Moldova')], 'grand_parents': [(0, 'World'), (14, 'Europe'), (1281, 'USSR (historical)'), (100000022, 'Eastern Europe'), (100000164, 'FSU-12'), (100017849, 'World, excl China'), (100022669, 'Commonwealth of Independent States')]}\n",
      "{'#': 2, 'id': 12277, 'name': 'Botosani', 'dist': {'total': 0.769464215711921, 'covar': 0.40844958257188463, 'cation_exchange_30cm': 0.04328607750164215, 'clay_30cm': 0.04588192848041994, 'land_surface_temperature': 0.035818998940930546, 'organic_carbon_content_fine_earth_30cm': 0.0730783746412905, 'ph_h2o_30cm': 0.19615102059413836, 'rainfall': 0.36299699167162136, 'sand_30cm': 0.15194932548426976, 'silt_30cm': 0.22762773245179413, 'soil_moisture': 0.41168220907606545, 'soil_water_capacity_100cm': 0.0038170875445286967}, 'parents': [(1167, 'Romania'), (100000592, 'Macroregiunea doi'), (100000708, 'Nord-Est (RO)')], 'grand_parents': [(0, 'World'), (14, 'Europe'), (1290, 'EU-28'), (100000022, 'Eastern Europe'), (100000035, 'EU (European Union)'), (100000112, 'EU-27'), (100000560, 'EU-11'), (100000561, 'EU-13'), (100017849, 'World, excl China')]}\n",
      "{'#': 3, 'id': 12298, 'name': 'Mures', 'dist': {'total': 0.7830550120462726, 'covar': 0.43227199485739715, 'cation_exchange_30cm': 0.1840624298359057, 'clay_30cm': 0.004616902819124524, 'land_surface_temperature': 0.08390710456133466, 'organic_carbon_content_fine_earth_30cm': 0.13700891151410424, 'ph_h2o_30cm': 0.010807290427539584, 'rainfall': 0.3794638990354561, 'sand_30cm': 0.27116087558306634, 'silt_30cm': 0.332091055875986, 'soil_moisture': 0.17475447757065288, 'soil_water_capacity_100cm': 0.09023564143695628}, 'parents': [(1167, 'Romania'), (100000535, 'Centru'), (100000595, 'Macroregiunea unu')], 'grand_parents': [(0, 'World'), (14, 'Europe'), (1290, 'EU-28'), (100000022, 'Eastern Europe'), (100000035, 'EU (European Union)'), (100000112, 'EU-27'), (100000560, 'EU-11'), (100000561, 'EU-13'), (100017849, 'World, excl China')]}\n",
      "{'#': 4, 'id': 12295, 'name': 'Iasi', 'dist': {'total': 0.792558085925751, 'covar': 0.43589148946154577, 'cation_exchange_30cm': 0.039579486998079005, 'clay_30cm': 0.10542309225392121, 'land_surface_temperature': 0.08241189527330128, 'organic_carbon_content_fine_earth_30cm': 0.06302990136518474, 'ph_h2o_30cm': 0.23489316179241904, 'rainfall': 0.33942195637907213, 'sand_30cm': 0.14078563392829535, 'silt_30cm': 0.2653094037682002, 'soil_moisture': 0.392363344276492, 'soil_water_capacity_100cm': 0.012694311794414492}, 'parents': [(1167, 'Romania'), (100000592, 'Macroregiunea doi'), (100000708, 'Nord-Est (RO)')], 'grand_parents': [(0, 'World'), (14, 'Europe'), (1290, 'EU-28'), (100000022, 'Eastern Europe'), (100000035, 'EU (European Union)'), (100000112, 'EU-27'), (100000560, 'EU-11'), (100000561, 'EU-13'), (100017849, 'World, excl China')]}\n",
      "{'#': 5, 'id': 12301, 'name': 'Prahova', 'dist': {'total': 0.8069739506366439, 'covar': 0.46493575865427944, 'cation_exchange_30cm': 0.19485385681247092, 'clay_30cm': 0.01136551894633242, 'land_surface_temperature': 0.040135706068832544, 'organic_carbon_content_fine_earth_30cm': 0.1351271221220999, 'ph_h2o_30cm': 0.07985736058669035, 'rainfall': 0.18558360598476353, 'sand_30cm': 0.27253879939950565, 'silt_30cm': 0.3284302488930788, 'soil_moisture': 0.3826426310478239, 'soil_water_capacity_100cm': 0.08773027555495139}, 'parents': [(1167, 'Romania'), (100000594, 'Macroregiunea trei'), (100000676, 'Sud-Muntenia')], 'grand_parents': [(0, 'World'), (14, 'Europe'), (1290, 'EU-28'), (100000022, 'Eastern Europe'), (100000035, 'EU (European Union)'), (100000112, 'EU-27'), (100000560, 'EU-11'), (100000561, 'EU-13'), (100017849, 'World, excl China')]}\n",
      "{'#': 6, 'id': 11697, 'name': 'Soldanesti', 'dist': {'total': 0.8149379626428437, 'covar': 0.43789556775901767, 'cation_exchange_30cm': 0.01900935830101025, 'clay_30cm': 0.02907999278745166, 'land_surface_temperature': 0.05024500198752979, 'organic_carbon_content_fine_earth_30cm': 0.08427804159156985, 'ph_h2o_30cm': 0.26851030800073694, 'rainfall': 0.3591944879666892, 'sand_30cm': 0.12264687288596388, 'silt_30cm': 0.17682627580582277, 'soil_moisture': 0.4625230108934604, 'soil_water_capacity_100cm': 0.013461647461858739}, 'parents': [(1134, 'Moldova')], 'grand_parents': [(0, 'World'), (14, 'Europe'), (1281, 'USSR (historical)'), (100000022, 'Eastern Europe'), (100000164, 'FSU-12'), (100017849, 'World, excl China'), (100022669, 'Commonwealth of Independent States')]}\n",
      "{'#': 7, 'id': 11703, 'name': 'Briceni', 'dist': {'total': 0.820093293039515, 'covar': 0.4025062730849038, 'cation_exchange_30cm': 0.0810519135667469, 'clay_30cm': 0.08967642049308489, 'land_surface_temperature': 0.00555515450248345, 'organic_carbon_content_fine_earth_30cm': 0.09217121486032134, 'ph_h2o_30cm': 0.19560484518067645, 'rainfall': 0.39238903969925765, 'sand_30cm': 0.21818508004304948, 'silt_30cm': 0.192005858496767, 'soil_moisture': 0.4502917714117223, 'soil_water_capacity_100cm': 0.08910651802308056}, 'parents': [(1134, 'Moldova')], 'grand_parents': [(0, 'World'), (14, 'Europe'), (1281, 'USSR (historical)'), (100000022, 'Eastern Europe'), (100000164, 'FSU-12'), (100017849, 'World, excl China'), (100022669, 'Commonwealth of Independent States')]}\n",
      "{'#': 8, 'id': 11733, 'name': 'Ungheni', 'dist': {'total': 0.8241366575715304, 'covar': 0.46765861073625403, 'cation_exchange_30cm': 0.006519597270533195, 'clay_30cm': 0.1339025969095784, 'land_surface_temperature': 0.12440652592447954, 'organic_carbon_content_fine_earth_30cm': 0.07377628899897012, 'ph_h2o_30cm': 0.30528111092153054, 'rainfall': 0.366741082948814, 'sand_30cm': 0.12206258371421741, 'silt_30cm': 0.266432645544598, 'soil_moisture': 0.32673367598898473, 'soil_water_capacity_100cm': 0.0356120267682547}, 'parents': [(1134, 'Moldova')], 'grand_parents': [(0, 'World'), (14, 'Europe'), (1281, 'USSR (historical)'), (100000022, 'Eastern Europe'), (100000164, 'FSU-12'), (100017849, 'World, excl China'), (100022669, 'Commonwealth of Independent States')]}\n",
      "{'#': 9, 'id': 11711, 'name': 'Donduseni', 'dist': {'total': 0.8243215912593514, 'covar': 0.4593984470325658, 'cation_exchange_30cm': 0.005226878583664218, 'clay_30cm': 0.0029975405631155194, 'land_surface_temperature': 0.060937054224847964, 'organic_carbon_content_fine_earth_30cm': 0.09342578867150395, 'ph_h2o_30cm': 0.22728859049935002, 'rainfall': 0.3920142702715492, 'sand_30cm': 0.053743507562183934, 'silt_30cm': 0.0684247571836869, 'soil_moisture': 0.49302690832238905, 'soil_water_capacity_100cm': 9.384232883258292e-05}, 'parents': [(1134, 'Moldova')], 'grand_parents': [(0, 'World'), (14, 'Europe'), (1281, 'USSR (historical)'), (100000022, 'Eastern Europe'), (100000164, 'FSU-12'), (100017849, 'World, excl China'), (100022669, 'Commonwealth of Independent States')]}\n"
     ]
    }
   ],
   "source": [
    "print(\"Provinces similar to Iowa in Europe:\")\n",
    "for i in sim.similar_to(13066, number_of_regions=10, requested_level=4, detailed_distance=True, compare_to=14):\n",
    "    print(i)"
   ]
  },
  {
   "cell_type": "markdown",
   "metadata": {},
   "source": [
    "## Example 4\n",
    "Larger number of provinces similar to Iowa (across entire world) printed with | separator (note that region names can have commas in them). Note that many of provinces from Example 3 are near the top of the list."
   ]
  },
  {
   "cell_type": "code",
   "execution_count": 6,
   "metadata": {
    "scrolled": true
   },
   "outputs": [
    {
     "name": "stderr",
     "output_type": "stream",
     "text": [
      "100%|██████████| 17/17 [00:00<00:00, 19.51it/s]\n",
      "100%|██████████| 17/17 [00:00<00:00, 23.28it/s]\n",
      "100%|██████████| 32/32 [00:55<00:00,  1.73s/it]\n",
      "100%|██████████| 17/17 [00:00<00:00, 21.21it/s]\n",
      "100%|██████████| 17/17 [00:00<00:00, 24.16it/s]\n",
      "  0%|          | 0/100 [00:00<?, ?it/s]HTTP 502: Bad Gateway\n",
      "HTTP 502: Bad Gateway\n",
      "HTTP 502: Bad Gateway\n",
      "HTTP 502: Bad Gateway\n",
      "HTTP 502: Bad Gateway\n",
      "HTTP 502: Bad Gateway\n",
      "  0%|          | 0/100 [14:55<?, ?it/s]\n",
      "  0%|          | 0/100 [00:00<?, ?it/s]HTTP 502: Bad Gateway\n",
      "HTTP 502: Bad Gateway\n",
      "HTTP 502: Bad Gateway\n",
      "HTTP 502: Bad Gateway\n",
      "HTTP 502: Bad Gateway\n",
      "HTTP 502: Bad Gateway\n",
      "  0%|          | 0/100 [09:36<?, ?it/s]\n",
      "  0%|          | 0/100 [00:00<?, ?it/s]HTTP 502: Bad Gateway\n",
      "HTTP 502: Bad Gateway\n",
      "HTTP 502: Bad Gateway\n",
      "HTTP 502: Bad Gateway\n",
      "HTTP 502: Bad Gateway\n",
      "HTTP 502: Bad Gateway\n",
      "  0%|          | 0/100 [13:22<?, ?it/s]\n",
      "  0%|          | 0/100 [00:00<?, ?it/s]HTTP 502: Bad Gateway\n",
      "HTTP 502: Bad Gateway\n",
      "HTTP 502: Bad Gateway\n",
      "HTTP 502: Bad Gateway\n",
      "HTTP 502: Bad Gateway\n",
      "HTTP 502: Bad Gateway\n",
      "  0%|          | 0/100 [10:15<?, ?it/s]\n",
      "100%|██████████| 2506/2506 [00:01<00:00, 1831.63it/s]\n",
      "100%|██████████| 2506/2506 [00:01<00:00, 1898.79it/s]\n",
      "100%|██████████| 2667/2667 [03:22<00:00, 13.20it/s]\n",
      "100%|██████████| 2506/2506 [00:01<00:00, 2023.85it/s]\n"
     ]
    },
    {
     "name": "stdout",
     "output_type": "stream",
     "text": [
      "0|13066|Iowa|7.146345858741878e-08|[(1215, 'United States'), (100000100, 'US Corn Belt States'), (100000101, 'US Soybean Belt States'), (100000108, 'PADD II (Midwest)'), (100017952, 'Midwest U.S. - AMS Retail'), (100022934, 'Central U.S. - AMS Poultry'), (100023362, 'Iowa and Minnesota'), (100023363, 'US Western Corn Belt States'), (100023403, 'Contiguous United States')] | (0, 'World')|(15, 'North America')|(100000016, 'Northern America')|(100017849, 'World, excl China')|(1215, 'United States')|(1215, 'United States')|(1215, 'United States')|(1215, 'United States')|(100000100, 'US Corn Belt States')|(1215, 'United States')\n",
      "1|12284|Cluj|0.7569978480749663|[(1167, 'Romania'), (100000615, 'Nord-Vest')] | (0, 'World')|(14, 'Europe')|(1290, 'EU-28')|(100000022, 'Eastern Europe')|(100000035, 'EU (European Union)')|(100000112, 'EU-27')|(100000560, 'EU-11')|(100000561, 'EU-13')|(100017849, 'World, excl China')\n",
      "2|11714|Edinet|0.7639849432992937|[(1134, 'Moldova')] | (0, 'World')|(14, 'Europe')|(1281, 'USSR (historical)')|(100000022, 'Eastern Europe')|(100000164, 'FSU-12')|(100017849, 'World, excl China')|(100022669, 'Commonwealth of Independent States')\n",
      "3|13064|Illinois|0.7655045070880194|[(1215, 'United States'), (100000100, 'US Corn Belt States'), (100000101, 'US Soybean Belt States'), (100000108, 'PADD II (Midwest)'), (100017952, 'Midwest U.S. - AMS Retail'), (100022931, 'Midwestern U.S. - AMS Poultry'), (100022934, 'Central U.S. - AMS Poultry'), (100023361, 'US Eastern Corn Belt States'), (100023364, 'Western US – AMS Livestock'), (100023403, 'Contiguous United States')] | (0, 'World')|(15, 'North America')|(100000016, 'Northern America')|(100017849, 'World, excl China')|(1215, 'United States')|(1215, 'United States')|(1215, 'United States')|(1215, 'United States')|(100000100, 'US Corn Belt States')|(1215, 'United States')|(1215, 'United States')\n",
      "4|12277|Botosani|0.7694642157119207|[(1167, 'Romania'), (100000592, 'Macroregiunea doi'), (100000708, 'Nord-Est (RO)')] | (0, 'World')|(14, 'Europe')|(1290, 'EU-28')|(100000022, 'Eastern Europe')|(100000035, 'EU (European Union)')|(100000112, 'EU-27')|(100000560, 'EU-11')|(100000561, 'EU-13')|(100017849, 'World, excl China')\n",
      "5|12298|Mures|0.7830550120462715|[(1167, 'Romania'), (100000535, 'Centru'), (100000595, 'Macroregiunea unu')] | (0, 'World')|(14, 'Europe')|(1290, 'EU-28')|(100000022, 'Eastern Europe')|(100000035, 'EU (European Union)')|(100000112, 'EU-27')|(100000560, 'EU-11')|(100000561, 'EU-13')|(100017849, 'World, excl China')\n",
      "6|12295|Iasi|0.7925580859257505|[(1167, 'Romania'), (100000592, 'Macroregiunea doi'), (100000708, 'Nord-Est (RO)')] | (0, 'World')|(14, 'Europe')|(1290, 'EU-28')|(100000022, 'Eastern Europe')|(100000035, 'EU (European Union)')|(100000112, 'EU-27')|(100000560, 'EU-11')|(100000561, 'EU-13')|(100017849, 'World, excl China')\n",
      "7|12301|Prahova|0.8069739506366441|[(1167, 'Romania'), (100000594, 'Macroregiunea trei'), (100000676, 'Sud-Muntenia')] | (0, 'World')|(14, 'Europe')|(1290, 'EU-28')|(100000022, 'Eastern Europe')|(100000035, 'EU (European Union)')|(100000112, 'EU-27')|(100000560, 'EU-11')|(100000561, 'EU-13')|(100017849, 'World, excl China')\n",
      "8|11697|Soldanesti|0.814937962642843|[(1134, 'Moldova')] | (0, 'World')|(14, 'Europe')|(1281, 'USSR (historical)')|(100000022, 'Eastern Europe')|(100000164, 'FSU-12')|(100017849, 'World, excl China')|(100022669, 'Commonwealth of Independent States')\n",
      "9|11703|Briceni|0.8200932930395138|[(1134, 'Moldova')] | (0, 'World')|(14, 'Europe')|(1281, 'USSR (historical)')|(100000022, 'Eastern Europe')|(100000164, 'FSU-12')|(100017849, 'World, excl China')|(100022669, 'Commonwealth of Independent States')\n",
      "10|11733|Ungheni|0.8241366575715298|[(1134, 'Moldova')] | (0, 'World')|(14, 'Europe')|(1281, 'USSR (historical)')|(100000022, 'Eastern Europe')|(100000164, 'FSU-12')|(100017849, 'World, excl China')|(100022669, 'Commonwealth of Independent States')\n",
      "11|11711|Donduseni|0.8243215912593512|[(1134, 'Moldova')] | (0, 'World')|(14, 'Europe')|(1281, 'USSR (historical)')|(100000022, 'Eastern Europe')|(100000164, 'FSU-12')|(100017849, 'World, excl China')|(100022669, 'Commonwealth of Independent States')\n",
      "12|11722|Nisporeni|0.831647482505738|[(1134, 'Moldova')] | (0, 'World')|(14, 'Europe')|(1281, 'USSR (historical)')|(100000022, 'Eastern Europe')|(100000164, 'FSU-12')|(100017849, 'World, excl China')|(100022669, 'Commonwealth of Independent States')\n",
      "13|11716|Floresti|0.8344222790131954|[(1134, 'Moldova')] | (0, 'World')|(14, 'Europe')|(1281, 'USSR (historical)')|(100000022, 'Eastern Europe')|(100000164, 'FSU-12')|(100017849, 'World, excl China')|(100022669, 'Commonwealth of Independent States')\n",
      "14|11719|Hîncesti|0.8385989847456697|[(1134, 'Moldova')] | (0, 'World')|(14, 'Europe')|(1281, 'USSR (historical)')|(100000022, 'Eastern Europe')|(100000164, 'FSU-12')|(100017849, 'World, excl China')|(100022669, 'Commonwealth of Independent States')\n",
      "15|12280|Bucharest|0.8413698337023034|[(1167, 'Romania'), (100000594, 'Macroregiunea trei')] | (0, 'World')|(14, 'Europe')|(1290, 'EU-28')|(100000022, 'Eastern Europe')|(100000035, 'EU (European Union)')|(100000112, 'EU-27')|(100000560, 'EU-11')|(100000561, 'EU-13')|(100017849, 'World, excl China')\n",
      "16|12350|Krasnodar|0.8418897665171804|[(1168, 'Russia'), (100000138, 'Southern Federal (2010-2016)'), (100000139, 'Southern Federal')] | (0, 'World')|(14, 'Europe')|(1281, 'USSR (historical)')|(100000022, 'Eastern Europe')|(100000164, 'FSU-12')|(100000165, 'Major Wheat Exporters - WASDE')|(100000170, 'Major Coarse Grain Exporters - WASDE')|(100000174, 'Major Corn Exporters - WASDE')|(100000185, 'Major Cotton Importers - WASDE')|(100000196, 'Black Sea')|(100017849, 'World, excl China')|(100022669, 'Commonwealth of Independent States')\n",
      "17|11725|Rezina|0.8423943526183129|[(1134, 'Moldova')] | (0, 'World')|(14, 'Europe')|(1281, 'USSR (historical)')|(100000022, 'Eastern Europe')|(100000164, 'FSU-12')|(100017849, 'World, excl China')|(100022669, 'Commonwealth of Independent States')\n",
      "18|13076|Missouri|0.8492227571308649|[(1215, 'United States'), (100000100, 'US Corn Belt States'), (100000101, 'US Soybean Belt States'), (100000108, 'PADD II (Midwest)'), (100017953, 'South Central U.S. - AMS Retail'), (100022926, 'Southern U.S. - AMS Poultry'), (100022930, 'South Central U.S. - AMS Poultry'), (100022931, 'Midwestern U.S. - AMS Poultry'), (100022934, 'Central U.S. - AMS Poultry'), (100023363, 'US Western Corn Belt States'), (100023403, 'Contiguous United States')] | (0, 'World')|(15, 'North America')|(100000016, 'Northern America')|(100017849, 'World, excl China')|(1215, 'United States')|(1215, 'United States')|(1215, 'United States')|(1215, 'United States')|(1215, 'United States')|(1215, 'United States')|(100000100, 'US Corn Belt States')|(1215, 'United States')\n",
      "19|11724|Orhei|0.850624046353617|[(1134, 'Moldova')] | (0, 'World')|(14, 'Europe')|(1281, 'USSR (historical)')|(100000022, 'Eastern Europe')|(100000164, 'FSU-12')|(100017849, 'World, excl China')|(100022669, 'Commonwealth of Independent States')\n",
      "20|11726|Rîscani|0.8532924251941125|[(1134, 'Moldova')] | (0, 'World')|(14, 'Europe')|(1281, 'USSR (historical)')|(100000022, 'Eastern Europe')|(100000164, 'FSU-12')|(100017849, 'World, excl China')|(100022669, 'Commonwealth of Independent States')\n",
      "21|12287|Dâmbovita|0.8539490860513356|[(1167, 'Romania'), (100000676, 'Sud-Muntenia')] | (0, 'World')|(14, 'Europe')|(1290, 'EU-28')|(100000022, 'Eastern Europe')|(100000035, 'EU (European Union)')|(100000112, 'EU-27')|(100000560, 'EU-11')|(100000561, 'EU-13')|(100017849, 'World, excl China')\n",
      "22|13092|South Dakota|0.8542032525857446|[(1215, 'United States'), (100000100, 'US Corn Belt States'), (100000101, 'US Soybean Belt States'), (100000108, 'PADD II (Midwest)'), (100017952, 'Midwest U.S. - AMS Retail'), (100022934, 'Central U.S. - AMS Poultry'), (100023363, 'US Western Corn Belt States'), (100023403, 'Contiguous United States')] | (0, 'World')|(15, 'North America')|(100000016, 'Northern America')|(100017849, 'World, excl China')|(1215, 'United States')|(1215, 'United States')|(1215, 'United States')|(100000100, 'US Corn Belt States')|(1215, 'United States')\n",
      "23|12304|Sibiu|0.8553177815811243|[(1167, 'Romania'), (100000535, 'Centru'), (100000595, 'Macroregiunea unu')] | (0, 'World')|(14, 'Europe')|(1290, 'EU-28')|(100000022, 'Eastern Europe')|(100000035, 'EU (European Union)')|(100000112, 'EU-27')|(100000560, 'EU-11')|(100000561, 'EU-13')|(100017849, 'World, excl China')\n"
     ]
    },
    {
     "name": "stdout",
     "output_type": "stream",
     "text": [
      "24|10778|P'yongyang|0.8553686385074424|[(1053, 'North Korea')] | (0, 'World')|(12, 'Asia')|(100000018, 'Eastern Asia')|(100017849, 'World, excl China')\n",
      "25|11723|Ocnita|0.8564968515577026|[(1134, 'Moldova')] | (0, 'World')|(14, 'Europe')|(1281, 'USSR (historical)')|(100000022, 'Eastern Europe')|(100000164, 'FSU-12')|(100017849, 'World, excl China')|(100022669, 'Commonwealth of Independent States')\n",
      "26|11729|Straseni|0.8577676540608519|[(1134, 'Moldova')] | (0, 'World')|(14, 'Europe')|(1281, 'USSR (historical)')|(100000022, 'Eastern Europe')|(100000164, 'FSU-12')|(100017849, 'World, excl China')|(100022669, 'Commonwealth of Independent States')\n",
      "27|11705|Calarasi|0.8652751406793618|[(1134, 'Moldova')] | (0, 'World')|(14, 'Europe')|(1281, 'USSR (historical)')|(100000022, 'Eastern Europe')|(100000164, 'FSU-12')|(100017849, 'World, excl China')|(100022669, 'Commonwealth of Independent States')\n",
      "28|12302|Salaj|0.8656776825920137|[(1167, 'Romania'), (100000615, 'Nord-Vest')] | (0, 'World')|(14, 'Europe')|(1290, 'EU-28')|(100000022, 'Eastern Europe')|(100000035, 'EU (European Union)')|(100000112, 'EU-27')|(100000560, 'EU-11')|(100000561, 'EU-13')|(100017849, 'World, excl China')\n",
      "29|12281|Buzau|0.8658013926664406|[(1167, 'Romania'), (100000592, 'Macroregiunea doi'), (100000719, 'Sud-Est (RO)')] | (0, 'World')|(14, 'Europe')|(1290, 'EU-28')|(100000022, 'Eastern Europe')|(100000035, 'EU (European Union)')|(100000112, 'EU-27')|(100000560, 'EU-11')|(100000561, 'EU-13')|(100017849, 'World, excl China')\n",
      "30|12312|Adygey|0.8685028224234479|[(1168, 'Russia'), (100000138, 'Southern Federal (2010-2016)'), (100000139, 'Southern Federal')] | (0, 'World')|(14, 'Europe')|(1281, 'USSR (historical)')|(100000022, 'Eastern Europe')|(100000164, 'FSU-12')|(100000165, 'Major Wheat Exporters - WASDE')|(100000170, 'Major Coarse Grain Exporters - WASDE')|(100000174, 'Major Corn Exporters - WASDE')|(100000185, 'Major Cotton Importers - WASDE')|(100000196, 'Black Sea')|(100017849, 'World, excl China')|(100022669, 'Commonwealth of Independent States')\n",
      "31|11731|Telenesti|0.868582790961752|[(1134, 'Moldova')] | (0, 'World')|(14, 'Europe')|(1281, 'USSR (historical)')|(100000022, 'Eastern Europe')|(100000164, 'FSU-12')|(100017849, 'World, excl China')|(100022669, 'Commonwealth of Independent States')\n",
      "32|11718|Glodeni|0.8756767703357562|[(1134, 'Moldova')] | (0, 'World')|(14, 'Europe')|(1281, 'USSR (historical)')|(100000022, 'Eastern Europe')|(100000164, 'FSU-12')|(100017849, 'World, excl China')|(100022669, 'Commonwealth of Independent States')\n",
      "33|11720|Ialoveni|0.8772589707938216|[(1134, 'Moldova')] | (0, 'World')|(14, 'Europe')|(1281, 'USSR (historical)')|(100000022, 'Eastern Europe')|(100000164, 'FSU-12')|(100017849, 'World, excl China')|(100022669, 'Commonwealth of Independent States')\n",
      "34|12279|Brasov|0.8772787597538709|[(1167, 'Romania'), (100000535, 'Centru'), (100000595, 'Macroregiunea unu')] | (0, 'World')|(14, 'Europe')|(1290, 'EU-28')|(100000022, 'Eastern Europe')|(100000035, 'EU (European Union)')|(100000112, 'EU-27')|(100000560, 'EU-11')|(100000561, 'EU-13')|(100017849, 'World, excl China')\n",
      "35|13006|Vinnytsya|0.879294359484533|[(1210, 'Ukraine')] | (0, 'World')|(14, 'Europe')|(1281, 'USSR (historical)')|(100000022, 'Eastern Europe')|(100000164, 'FSU-12')|(100000165, 'Major Wheat Exporters - WASDE')|(100000170, 'Major Coarse Grain Exporters - WASDE')|(100000174, 'Major Corn Exporters - WASDE')|(100000196, 'Black Sea')|(100017849, 'World, excl China')|(100022669, 'Commonwealth of Independent States')\n",
      "36|12310|Vaslui|0.8797767068896644|[(1167, 'Romania'), (100000592, 'Macroregiunea doi'), (100000708, 'Nord-Est (RO)')] | (0, 'World')|(14, 'Europe')|(1290, 'EU-28')|(100000022, 'Eastern Europe')|(100000035, 'EU (European Union)')|(100000112, 'EU-27')|(100000560, 'EU-11')|(100000561, 'EU-13')|(100017849, 'World, excl China')\n",
      "37|13268|Šumadijski|0.879802858152077|[(1228, 'Serbia'), (100000646, 'Region Sumadije i Zapadne Srbije'), (100000672, 'Srbija-jug')] | (0, 'World')|(14, 'Europe')|(1262, 'Serbia and Kosovo (historical)')|(1263, 'Serbia Montenegro and Kosovo (historical)')|(1276, 'Yugoslav SFR (historical)')|(1280, 'Serbia and Montenegro (historical)')|(1286, 'Yugoslavia (historical)')|(100000024, 'Southern Europe')|(100017849, 'World, excl China')\n",
      "38|11728|Soroca|0.8835352540046135|[(1134, 'Moldova')] | (0, 'World')|(14, 'Europe')|(1281, 'USSR (historical)')|(100000022, 'Eastern Europe')|(100000164, 'FSU-12')|(100017849, 'World, excl China')|(100022669, 'Commonwealth of Independent States')\n",
      "39|13004|Ternopil'|0.888344589134886|[(1210, 'Ukraine')] | (0, 'World')|(14, 'Europe')|(1281, 'USSR (historical)')|(100000022, 'Eastern Europe')|(100000164, 'FSU-12')|(100000165, 'Major Wheat Exporters - WASDE')|(100000170, 'Major Coarse Grain Exporters - WASDE')|(100000174, 'Major Corn Exporters - WASDE')|(100000196, 'Black Sea')|(100017849, 'World, excl China')|(100022669, 'Commonwealth of Independent States')\n",
      "40|11721|Leova|0.8924581824270641|[(1134, 'Moldova')] | (0, 'World')|(14, 'Europe')|(1281, 'USSR (historical)')|(100000022, 'Eastern Europe')|(100000164, 'FSU-12')|(100017849, 'World, excl China')|(100022669, 'Commonwealth of Independent States')\n",
      "41|11715|Falesti|0.8949868218350578|[(1134, 'Moldova')] | (0, 'World')|(14, 'Europe')|(1281, 'USSR (historical)')|(100000022, 'Eastern Europe')|(100000164, 'FSU-12')|(100017849, 'World, excl China')|(100022669, 'Commonwealth of Independent States')\n",
      "42|10455|Targovishte|0.8955699551104538|[(1032, 'Bulgaria'), (100000653, 'Severna Bulgaria'), (100000654, 'Severna i yugoiztochna Bulgaria'), (100000655, 'Severoiztochen')] | (0, 'World')|(14, 'Europe')|(1290, 'EU-28')|(100000022, 'Eastern Europe')|(100000035, 'EU (European Union)')|(100000112, 'EU-27')|(100000560, 'EU-11')|(100000561, 'EU-13')|(100017849, 'World, excl China')\n",
      "43|12311|Vrancea|0.8958999516761007|[(1167, 'Romania'), (100000592, 'Macroregiunea doi'), (100000719, 'Sud-Est (RO)')] | (0, 'World')|(14, 'Europe')|(1290, 'EU-28')|(100000022, 'Eastern Europe')|(100000035, 'EU (European Union)')|(100000112, 'EU-27')|(100000560, 'EU-11')|(100000561, 'EU-13')|(100017849, 'World, excl China')\n",
      "44|11708|Chisinau|0.8983462123360317|[(1134, 'Moldova')] | (0, 'World')|(14, 'Europe')|(1281, 'USSR (historical)')|(100000022, 'Eastern Europe')|(100000164, 'FSU-12')|(100017849, 'World, excl China')|(100022669, 'Commonwealth of Independent States')\n",
      "45|11727|Sîngerei|0.8990361203455904|[(1134, 'Moldova')] | (0, 'World')|(14, 'Europe')|(1281, 'USSR (historical)')|(100000022, 'Eastern Europe')|(100000164, 'FSU-12')|(100017849, 'World, excl China')|(100022669, 'Commonwealth of Independent States')\n",
      "46|10240|Qusar|0.899136399864334|[(1015, 'Azerbaijan')] | (0, 'World')|(12, 'Asia')|(1281, 'USSR (historical)')|(100000021, 'Western Asia')|(100000164, 'FSU-12')|(100000181, 'Major Cotton Exporters - WASDE')|(100000182, 'Central Asia - Cotton - WASDE')|(100017849, 'World, excl China')|(100022669, 'Commonwealth of Independent States')\n",
      "47|11706|Cantemir|0.8996065676651597|[(1134, 'Moldova')] | (0, 'World')|(14, 'Europe')|(1281, 'USSR (historical)')|(100000022, 'Eastern Europe')|(100000164, 'FSU-12')|(100017849, 'World, excl China')|(100022669, 'Commonwealth of Independent States')\n",
      "48|10238|Quba|0.9012684269025029|[(1015, 'Azerbaijan')] | (0, 'World')|(12, 'Asia')|(1281, 'USSR (historical)')|(100000021, 'Western Asia')|(100000164, 'FSU-12')|(100000181, 'Major Cotton Exporters - WASDE')|(100000182, 'Central Asia - Cotton - WASDE')|(100017849, 'World, excl China')|(100022669, 'Commonwealth of Independent States')\n",
      "49|10441|Lovech|0.9055008834405166|[(1032, 'Bulgaria'), (100000653, 'Severna Bulgaria'), (100000654, 'Severna i yugoiztochna Bulgaria'), (100017850, 'Severozapaden')] | (0, 'World')|(14, 'Europe')|(1290, 'EU-28')|(100000022, 'Eastern Europe')|(100000035, 'EU (European Union)')|(100000112, 'EU-27')|(100000560, 'EU-11')|(100000561, 'EU-13')|(100017849, 'World, excl China')\n",
      "50|12290|Giurgiu|0.9079114164444555|[(1167, 'Romania'), (100000594, 'Macroregiunea trei'), (100000676, 'Sud-Muntenia')] | (0, 'World')|(14, 'Europe')|(1290, 'EU-28')|(100000022, 'Eastern Europe')|(100000035, 'EU (European Union)')|(100000112, 'EU-27')|(100000560, 'EU-11')|(100000561, 'EU-13')|(100017849, 'World, excl China')\n"
     ]
    },
    {
     "name": "stdout",
     "output_type": "stream",
     "text": [
      "51|12271|Alba|0.9134300562713099|[(1167, 'Romania'), (100000535, 'Centru'), (100000595, 'Macroregiunea unu')] | (0, 'World')|(14, 'Europe')|(1290, 'EU-28')|(100000022, 'Eastern Europe')|(100000035, 'EU (European Union)')|(100000112, 'EU-27')|(100000560, 'EU-11')|(100000561, 'EU-13')|(100017849, 'World, excl China')\n",
      "52|11700|Balti|0.9149056209523124|[(1134, 'Moldova')] | (0, 'World')|(14, 'Europe')|(1281, 'USSR (historical)')|(100000022, 'Eastern Europe')|(100000164, 'FSU-12')|(100017849, 'World, excl China')|(100022669, 'Commonwealth of Independent States')\n",
      "53|11712|Drochia|0.9150864751422564|[(1134, 'Moldova')] | (0, 'World')|(14, 'Europe')|(1281, 'USSR (historical)')|(100000022, 'Eastern Europe')|(100000164, 'FSU-12')|(100017849, 'World, excl China')|(100022669, 'Commonwealth of Independent States')\n",
      "54|12300|Olt|0.9168773250945637|[(1167, 'Romania'), (100000593, 'Macroregiunea patru'), (100000677, 'Sud-Vest Oltenia')] | (0, 'World')|(14, 'Europe')|(1290, 'EU-28')|(100000022, 'Eastern Europe')|(100000035, 'EU (European Union)')|(100000112, 'EU-27')|(100000560, 'EU-11')|(100000561, 'EU-13')|(100017849, 'World, excl China')\n",
      "55|11704|Cahul|0.9210649729477426|[(1134, 'Moldova')] | (0, 'World')|(14, 'Europe')|(1281, 'USSR (historical)')|(100000022, 'Eastern Europe')|(100000164, 'FSU-12')|(100017849, 'World, excl China')|(100022669, 'Commonwealth of Independent States')\n",
      "56|10457|Veliko Tarnovo|0.9258412249332669|[(1032, 'Bulgaria'), (100000652, 'Severen tsentralen'), (100000653, 'Severna Bulgaria'), (100000654, 'Severna i yugoiztochna Bulgaria')] | (0, 'World')|(14, 'Europe')|(1290, 'EU-28')|(100000022, 'Eastern Europe')|(100000035, 'EU (European Union)')|(100000112, 'EU-27')|(100000560, 'EU-11')|(100000561, 'EU-13')|(100017849, 'World, excl China')\n",
      "57|10449|Shumen|0.929580622301158|[(1032, 'Bulgaria'), (100000653, 'Severna Bulgaria'), (100000654, 'Severna i yugoiztochna Bulgaria'), (100000655, 'Severoiztochen')] | (0, 'World')|(14, 'Europe')|(1290, 'EU-28')|(100000022, 'Eastern Europe')|(100000035, 'EU (European Union)')|(100000112, 'EU-27')|(100000560, 'EU-11')|(100000561, 'EU-13')|(100017849, 'World, excl China')\n",
      "58|13254|Kolubarski|0.9334724769931317|[(1228, 'Serbia'), (100000646, 'Region Sumadije i Zapadne Srbije'), (100000672, 'Srbija-jug')] | (0, 'World')|(14, 'Europe')|(1262, 'Serbia and Kosovo (historical)')|(1263, 'Serbia Montenegro and Kosovo (historical)')|(1276, 'Yugoslav SFR (historical)')|(1280, 'Serbia and Montenegro (historical)')|(1286, 'Yugoslavia (historical)')|(100000024, 'Southern Europe')|(100017849, 'World, excl China')\n",
      "59|11710|Criuleni|0.9336864520460749|[(1134, 'Moldova')] | (0, 'World')|(14, 'Europe')|(1281, 'USSR (historical)')|(100000022, 'Eastern Europe')|(100000164, 'FSU-12')|(100017849, 'World, excl China')|(100022669, 'Commonwealth of Independent States')\n",
      "60|12331|Ingush|0.939771351589247|[(1168, 'Russia'), (100000130, 'North Caucasus'), (100000131, 'North Caucasus Federal')] | (0, 'World')|(14, 'Europe')|(1281, 'USSR (historical)')|(100000022, 'Eastern Europe')|(100000164, 'FSU-12')|(100000165, 'Major Wheat Exporters - WASDE')|(100000170, 'Major Coarse Grain Exporters - WASDE')|(100000174, 'Major Corn Exporters - WASDE')|(100000185, 'Major Cotton Importers - WASDE')|(100000196, 'Black Sea')|(100017849, 'World, excl China')|(100022669, 'Commonwealth of Independent States')\n",
      "61|10447|Razgrad|0.9424814245281259|[(1032, 'Bulgaria'), (100000652, 'Severen tsentralen'), (100000653, 'Severna Bulgaria'), (100000654, 'Severna i yugoiztochna Bulgaria')] | (0, 'World')|(14, 'Europe')|(1290, 'EU-28')|(100000022, 'Eastern Europe')|(100000035, 'EU (European Union)')|(100000112, 'EU-27')|(100000560, 'EU-11')|(100000561, 'EU-13')|(100017849, 'World, excl China')\n",
      "62|13067|Kansas|0.9429146220223499|[(1215, 'United States'), (100000100, 'US Corn Belt States'), (100000101, 'US Soybean Belt States'), (100000108, 'PADD II (Midwest)'), (100017953, 'South Central U.S. - AMS Retail'), (100022926, 'Southern U.S. - AMS Poultry'), (100022930, 'South Central U.S. - AMS Poultry'), (100022934, 'Central U.S. - AMS Poultry'), (100023363, 'US Western Corn Belt States'), (100023403, 'Contiguous United States')] | (0, 'World')|(15, 'North America')|(100000016, 'Northern America')|(100017849, 'World, excl China')|(1215, 'United States')|(1215, 'United States')|(1215, 'United States')|(1215, 'United States')|(1215, 'United States')|(100000100, 'US Corn Belt States')|(1215, 'United States')\n",
      "63|10450|Silistra|0.9446307698847022|[(1032, 'Bulgaria'), (100000652, 'Severen tsentralen'), (100000653, 'Severna Bulgaria'), (100000654, 'Severna i yugoiztochna Bulgaria')] | (0, 'World')|(14, 'Europe')|(1290, 'EU-28')|(100000022, 'Eastern Europe')|(100000035, 'EU (European Union)')|(100000112, 'EU-27')|(100000560, 'EU-11')|(100000561, 'EU-13')|(100017849, 'World, excl China')\n",
      "64|12289|Galati|0.9485749988565956|[(1167, 'Romania'), (100000592, 'Macroregiunea doi'), (100000719, 'Sud-Est (RO)')] | (0, 'World')|(14, 'Europe')|(1290, 'EU-28')|(100000022, 'Eastern Europe')|(100000035, 'EU (European Union)')|(100000112, 'EU-27')|(100000560, 'EU-11')|(100000561, 'EU-13')|(100017849, 'World, excl China')\n",
      "65|10436|Gabrovo|0.9498810180121431|[(1032, 'Bulgaria'), (100000652, 'Severen tsentralen'), (100000653, 'Severna Bulgaria'), (100000654, 'Severna i yugoiztochna Bulgaria')] | (0, 'World')|(14, 'Europe')|(1290, 'EU-28')|(100000022, 'Eastern Europe')|(100000035, 'EU (European Union)')|(100000112, 'EU-27')|(100000560, 'EU-11')|(100000561, 'EU-13')|(100017849, 'World, excl China')\n",
      "66|10448|Ruse|0.9521124078848388|[(1032, 'Bulgaria'), (100000652, 'Severen tsentralen'), (100000653, 'Severna Bulgaria'), (100000654, 'Severna i yugoiztochna Bulgaria')] | (0, 'World')|(14, 'Europe')|(1290, 'EU-28')|(100000022, 'Eastern Europe')|(100000035, 'EU (European Union)')|(100000112, 'EU-27')|(100000560, 'EU-11')|(100000561, 'EU-13')|(100017849, 'World, excl China')\n",
      "67|13086|Ohio|0.9526448488405737|[(1215, 'United States'), (100000100, 'US Corn Belt States'), (100000101, 'US Soybean Belt States'), (100000108, 'PADD II (Midwest)'), (100017952, 'Midwest U.S. - AMS Retail'), (100022931, 'Midwestern U.S. - AMS Poultry'), (100022934, 'Central U.S. - AMS Poultry'), (100023361, 'US Eastern Corn Belt States'), (100023403, 'Contiguous United States')] | (0, 'World')|(15, 'North America')|(100000016, 'Northern America')|(100017849, 'World, excl China')|(1215, 'United States')|(1215, 'United States')|(1215, 'United States')|(1215, 'United States')|(100000100, 'US Corn Belt States')|(1215, 'United States')\n",
      "68|12985|Chernivtsi|0.9552264024982053|[(1210, 'Ukraine')] | (0, 'World')|(14, 'Europe')|(1281, 'USSR (historical)')|(100000022, 'Eastern Europe')|(100000164, 'FSU-12')|(100000165, 'Major Wheat Exporters - WASDE')|(100000170, 'Major Coarse Grain Exporters - WASDE')|(100000174, 'Major Corn Exporters - WASDE')|(100000196, 'Black Sea')|(100017849, 'World, excl China')|(100022669, 'Commonwealth of Independent States')\n",
      "69|11713|Dubasari|0.9564309714152408|[(1134, 'Moldova')] | (0, 'World')|(14, 'Europe')|(1281, 'USSR (historical)')|(100000022, 'Eastern Europe')|(100000164, 'FSU-12')|(100017849, 'World, excl China')|(100022669, 'Commonwealth of Independent States')\n",
      "70|10390|Brcko|0.958147450456862|[(1027, 'Bosnia and Herzegovina')] | (0, 'World')|(14, 'Europe')|(1276, 'Yugoslav SFR (historical)')|(1286, 'Yugoslavia (historical)')|(100000024, 'Southern Europe')|(100017849, 'World, excl China')\n",
      "71|10777|P'yongan-namdo|0.9582012942221562|[(1053, 'North Korea')] | (0, 'World')|(12, 'Asia')|(100000018, 'Eastern Asia')|(100017849, 'World, excl China')\n",
      "72|11699|Anenii Noi|0.9648450532206592|[(1134, 'Moldova')] | (0, 'World')|(14, 'Europe')|(1281, 'USSR (historical)')|(100000022, 'Eastern Europe')|(100000164, 'FSU-12')|(100017849, 'World, excl China')|(100022669, 'Commonwealth of Independent States')\n",
      "73|12274|Bacau|0.964874015012636|[(1167, 'Romania'), (100000592, 'Macroregiunea doi'), (100000708, 'Nord-Est (RO)')] | (0, 'World')|(14, 'Europe')|(1290, 'EU-28')|(100000022, 'Eastern Europe')|(100000035, 'EU (European Union)')|(100000112, 'EU-27')|(100000560, 'EU-11')|(100000561, 'EU-13')|(100017849, 'World, excl China')\n"
     ]
    },
    {
     "name": "stdout",
     "output_type": "stream",
     "text": [
      "74|10781|Sinuiju|0.9669710675065613|[(1053, 'North Korea')] | (0, 'World')|(12, 'Asia')|(100000018, 'Eastern Asia')|(100017849, 'World, excl China')\n",
      "75|12288|Dolj|0.9676009284551631|[(1167, 'Romania'), (100000593, 'Macroregiunea patru'), (100000677, 'Sud-Vest Oltenia')] | (0, 'World')|(14, 'Europe')|(1290, 'EU-28')|(100000022, 'Eastern Europe')|(100000035, 'EU (European Union)')|(100000112, 'EU-27')|(100000560, 'EU-11')|(100000561, 'EU-13')|(100017849, 'World, excl China')\n",
      "76|13065|Indiana|0.9684299194683439|[(1215, 'United States'), (100000100, 'US Corn Belt States'), (100000101, 'US Soybean Belt States'), (100000108, 'PADD II (Midwest)'), (100017952, 'Midwest U.S. - AMS Retail'), (100022931, 'Midwestern U.S. - AMS Poultry'), (100022934, 'Central U.S. - AMS Poultry'), (100023361, 'US Eastern Corn Belt States'), (100023403, 'Contiguous United States')] | (0, 'World')|(15, 'North America')|(100000016, 'Northern America')|(100017849, 'World, excl China')|(1215, 'United States')|(1215, 'United States')|(1215, 'United States')|(1215, 'United States')|(100000100, 'US Corn Belt States')|(1215, 'United States')\n",
      "77|12983|Cherkasy|0.9686545360324801|[(1210, 'Ukraine')] | (0, 'World')|(14, 'Europe')|(1281, 'USSR (historical)')|(100000022, 'Eastern Europe')|(100000164, 'FSU-12')|(100000165, 'Major Wheat Exporters - WASDE')|(100000170, 'Major Coarse Grain Exporters - WASDE')|(100000174, 'Major Corn Exporters - WASDE')|(100000196, 'Black Sea')|(100017849, 'World, excl China')|(100022669, 'Commonwealth of Independent States')\n",
      "78|12995|Kirovohrad|0.9695133518891452|[(1210, 'Ukraine')] | (0, 'World')|(14, 'Europe')|(1281, 'USSR (historical)')|(100000022, 'Eastern Europe')|(100000164, 'FSU-12')|(100000165, 'Major Wheat Exporters - WASDE')|(100000170, 'Major Coarse Grain Exporters - WASDE')|(100000174, 'Major Corn Exporters - WASDE')|(100000196, 'Black Sea')|(100017849, 'World, excl China')|(100022669, 'Commonwealth of Independent States')\n",
      "79|10745|Prague|0.9698983974281401|[(1051, 'Czech Republic')] | (0, 'World')|(14, 'Europe')|(1275, 'Czechoslovakia (historical)')|(1289, 'EU-25')|(1290, 'EU-28')|(100000022, 'Eastern Europe')|(100000035, 'EU (European Union)')|(100000112, 'EU-27')|(100000560, 'EU-11')|(100000561, 'EU-13')|(100017849, 'World, excl China')\n",
      "80|12303|Satu Mare|0.9704007742630166|[(1167, 'Romania'), (100000615, 'Nord-Vest')] | (0, 'World')|(14, 'Europe')|(1290, 'EU-28')|(100000022, 'Eastern Europe')|(100000035, 'EU (European Union)')|(100000112, 'EU-27')|(100000560, 'EU-11')|(100000561, 'EU-13')|(100017849, 'World, excl China')\n",
      "81|12992|Khmel'nyts'kyy|0.970609209856716|[(1210, 'Ukraine')] | (0, 'World')|(14, 'Europe')|(1281, 'USSR (historical)')|(100000022, 'Eastern Europe')|(100000164, 'FSU-12')|(100000165, 'Major Wheat Exporters - WASDE')|(100000170, 'Major Coarse Grain Exporters - WASDE')|(100000174, 'Major Corn Exporters - WASDE')|(100000196, 'Black Sea')|(100017849, 'World, excl China')|(100022669, 'Commonwealth of Independent States')\n",
      "82|11730|Taraclia|0.9714149330755218|[(1134, 'Moldova')] | (0, 'World')|(14, 'Europe')|(1281, 'USSR (historical)')|(100000022, 'Eastern Europe')|(100000164, 'FSU-12')|(100017849, 'World, excl China')|(100022669, 'Commonwealth of Independent States')\n",
      "83|12353|Kursk|0.9721491627995122|[(1168, 'Russia'), (100000135, 'Central Black Earth'), (100000136, 'Central'), (100000137, 'Central Federal')] | (0, 'World')|(14, 'Europe')|(1281, 'USSR (historical)')|(100000022, 'Eastern Europe')|(100000164, 'FSU-12')|(100000165, 'Major Wheat Exporters - WASDE')|(100000170, 'Major Coarse Grain Exporters - WASDE')|(100000174, 'Major Corn Exporters - WASDE')|(100000185, 'Major Cotton Importers - WASDE')|(100000196, 'Black Sea')|(100017849, 'World, excl China')|(100022669, 'Commonwealth of Independent States')\n",
      "84|12308|Tulcea|0.9733591922644375|[(1167, 'Romania'), (100000719, 'Sud-Est (RO)')] | (0, 'World')|(14, 'Europe')|(1290, 'EU-28')|(100000022, 'Eastern Europe')|(100000035, 'EU (European Union)')|(100000112, 'EU-27')|(100000560, 'EU-11')|(100000561, 'EU-13')|(100017849, 'World, excl China')\n",
      "85|11717|Gagauzia|0.9737597594918032|[(1134, 'Moldova')] | (0, 'World')|(14, 'Europe')|(1281, 'USSR (historical)')|(100000022, 'Eastern Europe')|(100000164, 'FSU-12')|(100017849, 'World, excl China')|(100022669, 'Commonwealth of Independent States')\n",
      "86|10459|Vratsa|0.9743783859854216|[(1032, 'Bulgaria'), (100000653, 'Severna Bulgaria'), (100000654, 'Severna i yugoiztochna Bulgaria'), (100017850, 'Severozapaden')] | (0, 'World')|(14, 'Europe')|(1290, 'EU-28')|(100000022, 'Eastern Europe')|(100000035, 'EU (European Union)')|(100000112, 'EU-27')|(100000560, 'EU-11')|(100000561, 'EU-13')|(100017849, 'World, excl China')\n",
      "87|11709|Cimislia|0.9790093335517946|[(1134, 'Moldova')] | (0, 'World')|(14, 'Europe')|(1281, 'USSR (historical)')|(100000022, 'Eastern Europe')|(100000164, 'FSU-12')|(100017849, 'World, excl China')|(100022669, 'Commonwealth of Independent States')\n",
      "88|12273|Arges|0.9815583071864143|[(1167, 'Romania'), (100000594, 'Macroregiunea trei'), (100000676, 'Sud-Muntenia')] | (0, 'World')|(14, 'Europe')|(1290, 'EU-28')|(100000022, 'Eastern Europe')|(100000035, 'EU (European Union)')|(100000112, 'EU-27')|(100000560, 'EU-11')|(100000561, 'EU-13')|(100017849, 'World, excl China')\n",
      "89|12294|Ialomita|0.9844157856270307|[(1167, 'Romania'), (100000594, 'Macroregiunea trei'), (100000676, 'Sud-Muntenia')] | (0, 'World')|(14, 'Europe')|(1290, 'EU-28')|(100000022, 'Eastern Europe')|(100000035, 'EU (European Union)')|(100000112, 'EU-27')|(100000560, 'EU-11')|(100000561, 'EU-13')|(100017849, 'World, excl China')\n",
      "90|12278|Braila|0.9847316219838171|[(1167, 'Romania'), (100000592, 'Macroregiunea doi'), (100000719, 'Sud-Est (RO)')] | (0, 'World')|(14, 'Europe')|(1290, 'EU-28')|(100000022, 'Eastern Europe')|(100000035, 'EU (European Union)')|(100000112, 'EU-27')|(100000560, 'EU-11')|(100000561, 'EU-13')|(100017849, 'World, excl China')\n",
      "91|13260|Podunavski|0.9858547012982423|[(1228, 'Serbia'), (100000644, 'Region Juzne i Istocne Srbije'), (100000672, 'Srbija-jug')] | (0, 'World')|(14, 'Europe')|(1262, 'Serbia and Kosovo (historical)')|(1263, 'Serbia Montenegro and Kosovo (historical)')|(1276, 'Yugoslav SFR (historical)')|(1280, 'Serbia and Montenegro (historical)')|(1286, 'Yugoslavia (historical)')|(100000024, 'Southern Europe')|(100017849, 'World, excl China')\n",
      "92|11732|Transnistria|0.9873136442105426|[(1134, 'Moldova')] | (0, 'World')|(14, 'Europe')|(1281, 'USSR (historical)')|(100000022, 'Eastern Europe')|(100000164, 'FSU-12')|(100017849, 'World, excl China')|(100022669, 'Commonwealth of Independent States')\n",
      "93|12297|Mehedinti|0.9899684656008257|[(1167, 'Romania'), (100000593, 'Macroregiunea patru'), (100000677, 'Sud-Vest Oltenia')] | (0, 'World')|(14, 'Europe')|(1290, 'EU-28')|(100000022, 'Eastern Europe')|(100000035, 'EU (European Union)')|(100000112, 'EU-27')|(100000560, 'EU-11')|(100000561, 'EU-13')|(100017849, 'World, excl China')\n",
      "94|11707|Causeni|0.9899757688939426|[(1134, 'Moldova')] | (0, 'World')|(14, 'Europe')|(1281, 'USSR (historical)')|(100000022, 'Eastern Europe')|(100000164, 'FSU-12')|(100017849, 'World, excl China')|(100022669, 'Commonwealth of Independent States')\n",
      "95|12306|Teleorman|0.9907722801301277|[(1167, 'Romania'), (100000594, 'Macroregiunea trei'), (100000676, 'Sud-Muntenia')] | (0, 'World')|(14, 'Europe')|(1290, 'EU-28')|(100000022, 'Eastern Europe')|(100000035, 'EU (European Union)')|(100000112, 'EU-27')|(100000560, 'EU-11')|(100000561, 'EU-13')|(100017849, 'World, excl China')\n",
      "96|10445|Pleven|0.9912571961815236|[(1032, 'Bulgaria'), (100000653, 'Severna Bulgaria'), (100000654, 'Severna i yugoiztochna Bulgaria'), (100017850, 'Severozapaden')] | (0, 'World')|(14, 'Europe')|(1290, 'EU-28')|(100000022, 'Eastern Europe')|(100000035, 'EU (European Union)')|(100000112, 'EU-27')|(100000560, 'EU-11')|(100000561, 'EU-13')|(100017849, 'World, excl China')\n",
      "97|10435|Dobrich|0.9935518538217587|[(1032, 'Bulgaria'), (100000653, 'Severna Bulgaria'), (100000654, 'Severna i yugoiztochna Bulgaria'), (100000655, 'Severoiztochen')] | (0, 'World')|(14, 'Europe')|(1290, 'EU-28')|(100000022, 'Eastern Europe')|(100000035, 'EU (European Union)')|(100000112, 'EU-27')|(100000560, 'EU-11')|(100000561, 'EU-13')|(100017849, 'World, excl China')\n"
     ]
    },
    {
     "name": "stdout",
     "output_type": "stream",
     "text": [
      "98|10458|Vidin|0.9993953248282849|[(1032, 'Bulgaria'), (100000653, 'Severna Bulgaria'), (100000654, 'Severna i yugoiztochna Bulgaria'), (100017850, 'Severozapaden')] | (0, 'World')|(14, 'Europe')|(1290, 'EU-28')|(100000022, 'Eastern Europe')|(100000035, 'EU (European Union)')|(100000112, 'EU-27')|(100000560, 'EU-11')|(100000561, 'EU-13')|(100017849, 'World, excl China')\n",
      "99|13000|Poltava|1.0035975481113357|[(1210, 'Ukraine')] | (0, 'World')|(14, 'Europe')|(1281, 'USSR (historical)')|(100000022, 'Eastern Europe')|(100000164, 'FSU-12')|(100000165, 'Major Wheat Exporters - WASDE')|(100000170, 'Major Coarse Grain Exporters - WASDE')|(100000174, 'Major Corn Exporters - WASDE')|(100000196, 'Black Sea')|(100017849, 'World, excl China')|(100022669, 'Commonwealth of Independent States')\n",
      "100|12282|Calarasi|1.0038357090659213|[(1167, 'Romania'), (100000594, 'Macroregiunea trei'), (100000676, 'Sud-Muntenia')] | (0, 'World')|(14, 'Europe')|(1290, 'EU-28')|(100000022, 'Eastern Europe')|(100000035, 'EU (European Union)')|(100000112, 'EU-27')|(100000560, 'EU-11')|(100000561, 'EU-13')|(100017849, 'World, excl China')\n",
      "101|12276|Bistrita-Nasaud|1.0044899193922576|[(1167, 'Romania'), (100000615, 'Nord-Vest')] | (0, 'World')|(14, 'Europe')|(1290, 'EU-28')|(100000022, 'Eastern Europe')|(100000035, 'EU (European Union)')|(100000112, 'EU-27')|(100000560, 'EU-11')|(100000561, 'EU-13')|(100017849, 'World, excl China')\n",
      "102|12374|Rostov|1.005269299816611|[(1168, 'Russia'), (100000138, 'Southern Federal (2010-2016)'), (100000139, 'Southern Federal')] | (0, 'World')|(14, 'Europe')|(1281, 'USSR (historical)')|(100000022, 'Eastern Europe')|(100000164, 'FSU-12')|(100000165, 'Major Wheat Exporters - WASDE')|(100000170, 'Major Coarse Grain Exporters - WASDE')|(100000174, 'Major Corn Exporters - WASDE')|(100000185, 'Major Cotton Importers - WASDE')|(100000196, 'Black Sea')|(100017849, 'World, excl China')|(100022669, 'Commonwealth of Independent States')\n",
      "103|11558|Grevenmacher|1.0060776286854611|[(1119, 'Luxembourg')] | (0, 'World')|(14, 'Europe')|(1279, 'Belgium-Luxembourg')|(1288, 'EU-15')|(1289, 'EU-25')|(1290, 'EU-28')|(100000025, 'Western Europe')|(100000035, 'EU (European Union)')|(100000103, 'EU-12')|(100000112, 'EU-27')|(100017849, 'World, excl China')\n",
      "104|11698|Stefan Voda|1.006885448151817|[(1134, 'Moldova')] | (0, 'World')|(14, 'Europe')|(1281, 'USSR (historical)')|(100000022, 'Eastern Europe')|(100000164, 'FSU-12')|(100017849, 'World, excl China')|(100022669, 'Commonwealth of Independent States')\n",
      "105|11559|Luxembourg|1.0078690585533117|[(1119, 'Luxembourg')] | (0, 'World')|(14, 'Europe')|(1279, 'Belgium-Luxembourg')|(1288, 'EU-15')|(1289, 'EU-25')|(1290, 'EU-28')|(100000025, 'Western Europe')|(100000035, 'EU (European Union)')|(100000103, 'EU-12')|(100000112, 'EU-27')|(100017849, 'World, excl China')\n",
      "106|12319|Belgorod|1.0098031212542038|[(1168, 'Russia'), (100000135, 'Central Black Earth'), (100000136, 'Central'), (100000137, 'Central Federal')] | (0, 'World')|(14, 'Europe')|(1281, 'USSR (historical)')|(100000022, 'Eastern Europe')|(100000164, 'FSU-12')|(100000165, 'Major Wheat Exporters - WASDE')|(100000170, 'Major Coarse Grain Exporters - WASDE')|(100000174, 'Major Corn Exporters - WASDE')|(100000185, 'Major Cotton Importers - WASDE')|(100000196, 'Black Sea')|(100017849, 'World, excl China')|(100022669, 'Commonwealth of Independent States')\n",
      "107|12999|Odessa|1.0224845557296283|[(1210, 'Ukraine')] | (0, 'World')|(14, 'Europe')|(1281, 'USSR (historical)')|(100000022, 'Eastern Europe')|(100000164, 'FSU-12')|(100000165, 'Major Wheat Exporters - WASDE')|(100000170, 'Major Coarse Grain Exporters - WASDE')|(100000174, 'Major Corn Exporters - WASDE')|(100000196, 'Black Sea')|(100017849, 'World, excl China')|(100022669, 'Commonwealth of Independent States')\n",
      "108|13250|Grad Beograd|1.0229039552873673|[(1228, 'Serbia'), (100000673, 'Srbija-sever')] | (0, 'World')|(14, 'Europe')|(1262, 'Serbia and Kosovo (historical)')|(1263, 'Serbia Montenegro and Kosovo (historical)')|(1276, 'Yugoslav SFR (historical)')|(1280, 'Serbia and Montenegro (historical)')|(1286, 'Yugoslavia (historical)')|(100000024, 'Southern Europe')|(100017849, 'World, excl China')\n",
      "109|10771|Hwanghae-bukto|1.0259639380246015|[(1053, 'North Korea')] | (0, 'World')|(12, 'Asia')|(100000018, 'Eastern Asia')|(100017849, 'World, excl China')\n",
      "110|13261|Pomoravski|1.0275262295827228|[(1228, 'Serbia'), (100000646, 'Region Sumadije i Zapadne Srbije'), (100000672, 'Srbija-jug')] | (0, 'World')|(14, 'Europe')|(1262, 'Serbia and Kosovo (historical)')|(1263, 'Serbia Montenegro and Kosovo (historical)')|(1276, 'Yugoslav SFR (historical)')|(1280, 'Serbia and Montenegro (historical)')|(1286, 'Yugoslavia (historical)')|(100000024, 'Southern Europe')|(100017849, 'World, excl China')\n",
      "111|11701|Basarabeasca|1.0284822608080604|[(1134, 'Moldova')] | (0, 'World')|(14, 'Europe')|(1281, 'USSR (historical)')|(100000022, 'Eastern Europe')|(100000164, 'FSU-12')|(100017849, 'World, excl China')|(100022669, 'Commonwealth of Independent States')\n",
      "112|10456|Varna|1.0297826190158719|[(1032, 'Bulgaria'), (100000653, 'Severna Bulgaria'), (100000654, 'Severna i yugoiztochna Bulgaria'), (100000655, 'Severoiztochen')] | (0, 'World')|(14, 'Europe')|(1290, 'EU-28')|(100000022, 'Eastern Europe')|(100000035, 'EU (European Union)')|(100000112, 'EU-27')|(100000560, 'EU-11')|(100000561, 'EU-13')|(100017849, 'World, excl China')\n",
      "113|12307|Timis|1.0307651774922486|[(1167, 'Romania'), (100000593, 'Macroregiunea patru'), (100000686, 'Vest')] | (0, 'World')|(14, 'Europe')|(1290, 'EU-28')|(100000022, 'Eastern Europe')|(100000035, 'EU (European Union)')|(100000112, 'EU-27')|(100000560, 'EU-11')|(100000561, 'EU-13')|(100017849, 'World, excl China')\n",
      "114|13256|Moravicki|1.0314045402764134|[(1228, 'Serbia'), (100000646, 'Region Sumadije i Zapadne Srbije'), (100000672, 'Srbija-jug')] | (0, 'World')|(14, 'Europe')|(1262, 'Serbia and Kosovo (historical)')|(1263, 'Serbia Montenegro and Kosovo (historical)')|(1276, 'Yugoslav SFR (historical)')|(1280, 'Serbia and Montenegro (historical)')|(1286, 'Yugoslavia (historical)')|(100000024, 'Southern Europe')|(100017849, 'World, excl China')\n",
      "115|10442|Montana|1.0320041138409617|[(1032, 'Bulgaria'), (100000653, 'Severna Bulgaria'), (100000654, 'Severna i yugoiztochna Bulgaria'), (100017850, 'Severozapaden')] | (0, 'World')|(14, 'Europe')|(1290, 'EU-28')|(100000022, 'Eastern Europe')|(100000035, 'EU (European Union)')|(100000112, 'EU-27')|(100000560, 'EU-11')|(100000561, 'EU-13')|(100017849, 'World, excl China')\n",
      "116|11702|Bender|1.032330454151443|[(1134, 'Moldova')] | (0, 'World')|(14, 'Europe')|(1281, 'USSR (historical)')|(100000022, 'Eastern Europe')|(100000164, 'FSU-12')|(100017849, 'World, excl China')|(100022669, 'Commonwealth of Independent States')\n",
      "117|10186|Oberösterreich|1.0325431884249094|[(1014, 'Austria'), (100000696, 'Westösterreich')] | (0, 'World')|(14, 'Europe')|(1288, 'EU-15')|(1289, 'EU-25')|(1290, 'EU-28')|(100000025, 'Western Europe')|(100000035, 'EU (European Union)')|(100000112, 'EU-27')|(100017849, 'World, excl China')\n",
      "118|10989|Kvemo Kartli|1.033587734978318|[(1075, 'Georgia')] | (0, 'World')|(12, 'Asia')|(1281, 'USSR (historical)')|(100000021, 'Western Asia')|(100000164, 'FSU-12')|(100017849, 'World, excl China')|(100022669, 'Commonwealth of Independent States')\n",
      "119|12990|Kharkiv|1.0350850207036357|[(1210, 'Ukraine')] | (0, 'World')|(14, 'Europe')|(1281, 'USSR (historical)')|(100000022, 'Eastern Europe')|(100000164, 'FSU-12')|(100000165, 'Major Wheat Exporters - WASDE')|(100000170, 'Major Coarse Grain Exporters - WASDE')|(100000174, 'Major Corn Exporters - WASDE')|(100000196, 'Black Sea')|(100017849, 'World, excl China')|(100022669, 'Commonwealth of Independent States')\n",
      "120|12272|Arad|1.03540164618295|[(1167, 'Romania'), (100000593, 'Macroregiunea patru'), (100000686, 'Vest')] | (0, 'World')|(14, 'Europe')|(1290, 'EU-28')|(100000022, 'Eastern Europe')|(100000035, 'EU (European Union)')|(100000112, 'EU-27')|(100000560, 'EU-11')|(100000561, 'EU-13')|(100017849, 'World, excl China')\n",
      "121|12368|Orel|1.038305928309519|[(1168, 'Russia'), (100000135, 'Central Black Earth'), (100000136, 'Central'), (100000137, 'Central Federal')] | (0, 'World')|(14, 'Europe')|(1281, 'USSR (historical)')|(100000022, 'Eastern Europe')|(100000164, 'FSU-12')|(100000165, 'Major Wheat Exporters - WASDE')|(100000170, 'Major Coarse Grain Exporters - WASDE')|(100000174, 'Major Corn Exporters - WASDE')|(100000185, 'Major Cotton Importers - WASDE')|(100000196, 'Black Sea')|(100017849, 'World, excl China')|(100022669, 'Commonwealth of Independent States')\n"
     ]
    },
    {
     "name": "stdout",
     "output_type": "stream",
     "text": [
      "122|12512|Podravska|1.0404480229755873|[(1184, 'Slovenia'), (100000691, 'Vzhodna Slovenija')] | (0, 'World')|(14, 'Europe')|(1276, 'Yugoslav SFR (historical)')|(1286, 'Yugoslavia (historical)')|(1289, 'EU-25')|(1290, 'EU-28')|(100000024, 'Southern Europe')|(100000035, 'EU (European Union)')|(100000112, 'EU-27')|(100000560, 'EU-11')|(100000561, 'EU-13')|(100017849, 'World, excl China')\n",
      "123|13225|Prizren|1.0422070005655442|[(1226, 'Kosovo')] | (0, 'World')|(14, 'Europe')|(1262, 'Serbia and Kosovo (historical)')|(1263, 'Serbia Montenegro and Kosovo (historical)')|(1276, 'Yugoslav SFR (historical)')|(1286, 'Yugoslavia (historical)')|(100000024, 'Southern Europe')|(100017849, 'World, excl China')\n",
      "124|13262|Rasinski|1.0427710350575365|[(1228, 'Serbia'), (100000646, 'Region Sumadije i Zapadne Srbije'), (100000672, 'Srbija-jug')] | (0, 'World')|(14, 'Europe')|(1262, 'Serbia and Kosovo (historical)')|(1263, 'Serbia Montenegro and Kosovo (historical)')|(1276, 'Yugoslav SFR (historical)')|(1280, 'Serbia and Montenegro (historical)')|(1286, 'Yugoslavia (historical)')|(100000024, 'Southern Europe')|(100017849, 'World, excl China')\n",
      "125|11341|Veneto|1.0428175199461047|[(1101, 'Italy'), (100000611, 'Northeast Italy')] | (0, 'World')|(14, 'Europe')|(1288, 'EU-15')|(1289, 'EU-25')|(1290, 'EU-28')|(100000024, 'Southern Europe')|(100000035, 'EU (European Union)')|(100000103, 'EU-12')|(100000112, 'EU-27')|(100017849, 'World, excl China')\n",
      "126|12275|Bihor|1.0441016798274645|[(1167, 'Romania'), (100000615, 'Nord-Vest')] | (0, 'World')|(14, 'Europe')|(1290, 'EU-28')|(100000022, 'Eastern Europe')|(100000035, 'EU (European Union)')|(100000112, 'EU-27')|(100000560, 'EU-11')|(100000561, 'EU-13')|(100017849, 'World, excl China')\n",
      "127|13255|Macvanski|1.0515938599721835|[(1228, 'Serbia'), (100000646, 'Region Sumadije i Zapadne Srbije'), (100000672, 'Srbija-jug')] | (0, 'World')|(14, 'Europe')|(1262, 'Serbia and Kosovo (historical)')|(1263, 'Serbia Montenegro and Kosovo (historical)')|(1276, 'Yugoslav SFR (historical)')|(1280, 'Serbia and Montenegro (historical)')|(1286, 'Yugoslavia (historical)')|(100000024, 'Southern Europe')|(100017849, 'World, excl China')\n",
      "128|10446|Plovdiv|1.0523828869925278|[(1032, 'Bulgaria'), (100000700, 'Yugozapadna i yuzhna tsentralna Bulgaria'), (100000701, 'Yuzhen tsentralen')] | (0, 'World')|(14, 'Europe')|(1290, 'EU-28')|(100000022, 'Eastern Europe')|(100000035, 'EU (European Union)')|(100000112, 'EU-27')|(100000560, 'EU-11')|(100000561, 'EU-13')|(100017849, 'World, excl China')\n",
      "129|10713|Zagrebacka|1.053453373823031|[(1048, 'Croatia'), (100000584, 'Kontinentalna Hrvatska')] | (0, 'World')|(14, 'Europe')|(1276, 'Yugoslav SFR (historical)')|(1286, 'Yugoslavia (historical)')|(1290, 'EU-28')|(100000024, 'Southern Europe')|(100000035, 'EU (European Union)')|(100000560, 'EU-11')|(100000561, 'EU-13')|(100017849, 'World, excl China')\n",
      "130|12265|Incheon|1.0545128809730817|[(1166, 'South Korea')] | (0, 'World')|(12, 'Asia')|(100000018, 'Eastern Asia')|(100000166, 'Major Wheat Importers - WASDE')|(100000171, 'Major Coarse Grain Importers - WASDE')|(100000175, 'Major Corn Importers - WASDE')|(100000185, 'Major Cotton Importers - WASDE')|(100017849, 'World, excl China')\n",
      "131|10953|Lorraine|1.066780066270516|[(1070, 'France'), (100000514, 'Alsace-Champagne-Ardenne-Lorraine'), (100000720, 'Est (FR)')] | (0, 'World')|(14, 'Europe')|(1288, 'EU-15')|(1289, 'EU-25')|(1290, 'EU-28')|(100000025, 'Western Europe')|(100000035, 'EU (European Union)')|(100000103, 'EU-12')|(100000112, 'EU-27')|(100000649, 'RUP FR-Régions ultrapériphériques françaises')|(100017849, 'World, excl China')\n",
      "132|10772|Hwanghae-namdo|1.0679334612903693|[(1053, 'North Korea')] | (0, 'World')|(12, 'Asia')|(100000018, 'Eastern Asia')|(100017849, 'World, excl China')\n",
      "133|12987|Dnipropetrovs'k|1.0686980705435165|[(1210, 'Ukraine')] | (0, 'World')|(14, 'Europe')|(1281, 'USSR (historical)')|(100000022, 'Eastern Europe')|(100000164, 'FSU-12')|(100000165, 'Major Wheat Exporters - WASDE')|(100000170, 'Major Coarse Grain Exporters - WASDE')|(100000174, 'Major Corn Exporters - WASDE')|(100000196, 'Black Sea')|(100017849, 'World, excl China')|(100022669, 'Commonwealth of Independent States')\n",
      "134|11444|Chuy|1.0704430812376975|[(1110, 'Kyrgyzstan')] | (0, 'World')|(12, 'Asia')|(1281, 'USSR (historical)')|(100000017, 'Central Asia')|(100000164, 'FSU-12')|(100000181, 'Major Cotton Exporters - WASDE')|(100000182, 'Central Asia - Cotton - WASDE')|(100017849, 'World, excl China')|(100022669, 'Commonwealth of Independent States')\n",
      "135|13317|Anhui|1.0722156166790489|[(1231, 'China, mainland'), (100022749, 'East China'), (100022750, 'East China, excl Shandong, Fujian, Jiangxi')] | (0, 'World')|(12, 'Asia')|(100000018, 'Eastern Asia')|(100000166, 'Major Wheat Importers - WASDE')|(100000178, 'Major Rice Importers - WASDE')|(100000185, 'Major Cotton Importers - WASDE')|(100000187, 'Major Soybean Importers - WASDE')|(100000193, 'Major Soybean Oil Importers - WASDE')|(100022935, 'China')|(1231, 'China, mainland')|(1231, 'China, mainland')\n",
      "136|12299|Neamt|1.0730327327711382|[(1167, 'Romania'), (100000592, 'Macroregiunea doi'), (100000708, 'Nord-Est (RO)')] | (0, 'World')|(14, 'Europe')|(1290, 'EU-28')|(100000022, 'Eastern Europe')|(100000035, 'EU (European Union)')|(100000112, 'EU-27')|(100000560, 'EU-11')|(100000561, 'EU-13')|(100017849, 'World, excl China')\n",
      "137|12381|Stavropol'|1.0737150896613545|[(1168, 'Russia'), (100000130, 'North Caucasus'), (100000131, 'North Caucasus Federal')] | (0, 'World')|(14, 'Europe')|(1281, 'USSR (historical)')|(100000022, 'Eastern Europe')|(100000164, 'FSU-12')|(100000165, 'Major Wheat Exporters - WASDE')|(100000170, 'Major Coarse Grain Exporters - WASDE')|(100000174, 'Major Corn Exporters - WASDE')|(100000185, 'Major Cotton Importers - WASDE')|(100000196, 'Black Sea')|(100017849, 'World, excl China')|(100022669, 'Commonwealth of Independent States')\n",
      "138|10219|Gədəbəy|1.0799966320790064|[(1015, 'Azerbaijan')] | (0, 'World')|(12, 'Asia')|(1281, 'USSR (historical)')|(100000021, 'Western Asia')|(100000164, 'FSU-12')|(100000181, 'Major Cotton Exporters - WASDE')|(100000182, 'Central Asia - Cotton - WASDE')|(100017849, 'World, excl China')|(100022669, 'Commonwealth of Independent States')\n",
      "139|11327|Emilia-Romagna|1.081765964961455|[(1101, 'Italy'), (100000611, 'Northeast Italy')] | (0, 'World')|(14, 'Europe')|(1288, 'EU-15')|(1289, 'EU-25')|(1290, 'EU-28')|(100000024, 'Southern Europe')|(100000035, 'EU (European Union)')|(100000103, 'EU-12')|(100000112, 'EU-27')|(100017849, 'World, excl China')\n",
      "140|12285|Constanta|1.0835827638506752|[(1167, 'Romania'), (100000592, 'Macroregiunea doi'), (100000719, 'Sud-Est (RO)')] | (0, 'World')|(14, 'Europe')|(1290, 'EU-28')|(100000022, 'Eastern Europe')|(100000035, 'EU (European Union)')|(100000112, 'EU-27')|(100000560, 'EU-11')|(100000561, 'EU-13')|(100017849, 'World, excl China')\n",
      "141|13267|Sremski|1.0841193140897831|[(1228, 'Serbia'), (100000647, 'Region Vojvodine'), (100000673, 'Srbija-sever')] | (0, 'World')|(14, 'Europe')|(1262, 'Serbia and Kosovo (historical)')|(1263, 'Serbia Montenegro and Kosovo (historical)')|(1276, 'Yugoslav SFR (historical)')|(1280, 'Serbia and Montenegro (historical)')|(1286, 'Yugoslavia (historical)')|(100000024, 'Southern Europe')|(100017849, 'World, excl China')\n",
      "142|13253|Južno-Banatski|1.0847098395044397|[(1228, 'Serbia'), (100000647, 'Region Vojvodine'), (100000673, 'Srbija-sever')] | (0, 'World')|(14, 'Europe')|(1262, 'Serbia and Kosovo (historical)')|(1263, 'Serbia Montenegro and Kosovo (historical)')|(1276, 'Yugoslav SFR (historical)')|(1280, 'Serbia and Montenegro (historical)')|(1286, 'Yugoslavia (historical)')|(100000024, 'Southern Europe')|(100017849, 'World, excl China')\n",
      "143|13226|Uroševac|1.0852521927149539|[(1226, 'Kosovo')] | (0, 'World')|(14, 'Europe')|(1262, 'Serbia and Kosovo (historical)')|(1263, 'Serbia Montenegro and Kosovo (historical)')|(1276, 'Yugoslav SFR (historical)')|(1286, 'Yugoslavia (historical)')|(100000024, 'Southern Europe')|(100017849, 'World, excl China')\n",
      "144|12334|Kabardin-Balkar|1.0877959136757525|[(1168, 'Russia'), (100000130, 'North Caucasus'), (100000131, 'North Caucasus Federal')] | (0, 'World')|(14, 'Europe')|(1281, 'USSR (historical)')|(100000022, 'Eastern Europe')|(100000164, 'FSU-12')|(100000165, 'Major Wheat Exporters - WASDE')|(100000170, 'Major Coarse Grain Exporters - WASDE')|(100000174, 'Major Corn Exporters - WASDE')|(100000185, 'Major Cotton Importers - WASDE')|(100000196, 'Black Sea')|(100017849, 'World, excl China')|(100022669, 'Commonwealth of Independent States')\n"
     ]
    },
    {
     "name": "stdout",
     "output_type": "stream",
     "text": [
      "145|10252|Xanlar|1.0889389286612914|[(1015, 'Azerbaijan')] | (0, 'World')|(12, 'Asia')|(1281, 'USSR (historical)')|(100000021, 'Western Asia')|(100000164, 'FSU-12')|(100000181, 'Major Cotton Exporters - WASDE')|(100000182, 'Central Asia - Cotton - WASDE')|(100017849, 'World, excl China')|(100022669, 'Commonwealth of Independent States')\n",
      "146|13220|Ðakovica|1.0912701921380998|[(1226, 'Kosovo')] | (0, 'World')|(14, 'Europe')|(1262, 'Serbia and Kosovo (historical)')|(1263, 'Serbia Montenegro and Kosovo (historical)')|(1276, 'Yugoslav SFR (historical)')|(1286, 'Yugoslavia (historical)')|(100000024, 'Southern Europe')|(100017849, 'World, excl China')\n",
      "147|10454|Stara Zagora|1.0918293968249029|[(1032, 'Bulgaria'), (100000654, 'Severna i yugoiztochna Bulgaria'), (100000698, 'Yugoiztochen')] | (0, 'World')|(14, 'Europe')|(1290, 'EU-28')|(100000022, 'Eastern Europe')|(100000035, 'EU (European Union)')|(100000112, 'EU-27')|(100000560, 'EU-11')|(100000561, 'EU-13')|(100017849, 'World, excl China')\n",
      "148|11328|Friuli-Venezia Giulia|1.09268241190774|[(1101, 'Italy'), (100000611, 'Northeast Italy')] | (0, 'World')|(14, 'Europe')|(1288, 'EU-15')|(1289, 'EU-25')|(1290, 'EU-28')|(100000024, 'Southern Europe')|(100000035, 'EU (European Union)')|(100000103, 'EU-12')|(100000112, 'EU-27')|(100017849, 'World, excl China')\n",
      "149|10707|Sisacko-Moslavacka|1.0950002799151528|[(1048, 'Croatia'), (100000584, 'Kontinentalna Hrvatska')] | (0, 'World')|(14, 'Europe')|(1276, 'Yugoslav SFR (historical)')|(1286, 'Yugoslavia (historical)')|(1290, 'EU-28')|(100000024, 'Southern Europe')|(100000035, 'EU (European Union)')|(100000560, 'EU-11')|(100000561, 'EU-13')|(100017849, 'World, excl China')\n",
      "150|13270|Zajecarski|1.0952837713900108|[(1228, 'Serbia'), (100000644, 'Region Juzne i Istocne Srbije'), (100000672, 'Srbija-jug')] | (0, 'World')|(14, 'Europe')|(1262, 'Serbia and Kosovo (historical)')|(1263, 'Serbia Montenegro and Kosovo (historical)')|(1276, 'Yugoslav SFR (historical)')|(1280, 'Serbia and Montenegro (historical)')|(1286, 'Yugoslavia (historical)')|(100000024, 'Southern Europe')|(100017849, 'World, excl China')\n",
      "151|12997|Luhans'k|1.0953091305199079|[(1210, 'Ukraine')] | (0, 'World')|(14, 'Europe')|(1281, 'USSR (historical)')|(100000022, 'Eastern Europe')|(100000164, 'FSU-12')|(100000165, 'Major Wheat Exporters - WASDE')|(100000170, 'Major Coarse Grain Exporters - WASDE')|(100000174, 'Major Corn Exporters - WASDE')|(100000196, 'Black Sea')|(100017849, 'World, excl China')|(100022669, 'Commonwealth of Independent States')\n",
      "152|10451|Sliven|1.0953368992768053|[(1032, 'Bulgaria'), (100000654, 'Severna i yugoiztochna Bulgaria'), (100000698, 'Yugoiztochen')] | (0, 'World')|(14, 'Europe')|(1290, 'EU-28')|(100000022, 'Eastern Europe')|(100000035, 'EU (European Union)')|(100000112, 'EU-27')|(100000560, 'EU-11')|(100000561, 'EU-13')|(100017849, 'World, excl China')\n",
      "153|10748|Zlínský|1.0961538039943701|[(1051, 'Czech Republic'), (100000675, 'Strední Morava')] | (0, 'World')|(14, 'Europe')|(1275, 'Czechoslovakia (historical)')|(1289, 'EU-25')|(1290, 'EU-28')|(100000022, 'Eastern Europe')|(100000035, 'EU (European Union)')|(100000112, 'EU-27')|(100000560, 'EU-11')|(100000561, 'EU-13')|(100017849, 'World, excl China')\n",
      "154|10217|Daşkəsən|1.0988898523917539|[(1015, 'Azerbaijan')] | (0, 'World')|(12, 'Asia')|(1281, 'USSR (historical)')|(100000021, 'Western Asia')|(100000164, 'FSU-12')|(100000181, 'Major Cotton Exporters - WASDE')|(100000182, 'Central Asia - Cotton - WASDE')|(100017849, 'World, excl China')|(100022669, 'Commonwealth of Independent States')\n",
      "155|10190|Wien|1.0994683787128419|[(1014, 'Austria'), (100000631, 'Ostösterreich')] | (0, 'World')|(14, 'Europe')|(1288, 'EU-15')|(1289, 'EU-25')|(1290, 'EU-28')|(100000025, 'Western Europe')|(100000035, 'EU (European Union)')|(100000112, 'EU-27')|(100017849, 'World, excl China')\n",
      "156|12513|Pomurska|1.0999185250688552|[(1184, 'Slovenia'), (100000691, 'Vzhodna Slovenija')] | (0, 'World')|(14, 'Europe')|(1276, 'Yugoslav SFR (historical)')|(1286, 'Yugoslavia (historical)')|(1289, 'EU-25')|(1290, 'EU-28')|(100000024, 'Southern Europe')|(100000035, 'EU (European Union)')|(100000112, 'EU-27')|(100000560, 'EU-11')|(100000561, 'EU-13')|(100017849, 'World, excl China')\n",
      "157|13329|Hubei|1.1000585565668983|[(1231, 'China, mainland'), (100022751, 'Central China'), (100022752, 'Central China, incl Jiangxi, excl Henan')] | (0, 'World')|(12, 'Asia')|(100000018, 'Eastern Asia')|(100000166, 'Major Wheat Importers - WASDE')|(100000178, 'Major Rice Importers - WASDE')|(100000185, 'Major Cotton Importers - WASDE')|(100000187, 'Major Soybean Importers - WASDE')|(100000193, 'Major Soybean Oil Importers - WASDE')|(100022935, 'China')|(1231, 'China, mainland')|(1231, 'China, mainland')\n",
      "158|10703|Osjecko-Baranjska|1.10249525925631|[(1048, 'Croatia'), (100000584, 'Kontinentalna Hrvatska')] | (0, 'World')|(14, 'Europe')|(1276, 'Yugoslav SFR (historical)')|(1286, 'Yugoslavia (historical)')|(1290, 'EU-28')|(100000024, 'Southern Europe')|(100000035, 'EU (European Union)')|(100000560, 'EU-11')|(100000561, 'EU-13')|(100017849, 'World, excl China')\n",
      "159|13257|Nišavski|1.104097789547779|[(1228, 'Serbia'), (100000644, 'Region Juzne i Istocne Srbije'), (100000672, 'Srbija-jug')] | (0, 'World')|(14, 'Europe')|(1262, 'Serbia and Kosovo (historical)')|(1263, 'Serbia Montenegro and Kosovo (historical)')|(1276, 'Yugoslav SFR (historical)')|(1280, 'Serbia and Montenegro (historical)')|(1286, 'Yugoslavia (historical)')|(100000024, 'Southern Europe')|(100017849, 'World, excl China')\n",
      "160|10987|Guria|1.105505902352007|[(1075, 'Georgia')] | (0, 'World')|(12, 'Asia')|(1281, 'USSR (historical)')|(100000021, 'Western Asia')|(100000164, 'FSU-12')|(100017849, 'World, excl China')|(100022669, 'Commonwealth of Independent States')\n",
      "161|12988|Donets'k|1.1063112936694472|[(1210, 'Ukraine')] | (0, 'World')|(14, 'Europe')|(1281, 'USSR (historical)')|(100000022, 'Eastern Europe')|(100000164, 'FSU-12')|(100000165, 'Major Wheat Exporters - WASDE')|(100000170, 'Major Coarse Grain Exporters - WASDE')|(100000174, 'Major Corn Exporters - WASDE')|(100000196, 'Black Sea')|(100017849, 'World, excl China')|(100022669, 'Commonwealth of Independent States')\n",
      "162|10955|Franche-Comté|1.1119070074337456|[(1070, 'France'), (100000528, 'Bourgogne-Franche-Comté'), (100000720, 'Est (FR)')] | (0, 'World')|(14, 'Europe')|(1288, 'EU-15')|(1289, 'EU-25')|(1290, 'EU-28')|(100000025, 'Western Europe')|(100000035, 'EU (European Union)')|(100000103, 'EU-12')|(100000112, 'EU-27')|(100000649, 'RUP FR-Régions ultrapériphériques françaises')|(100017849, 'World, excl China')\n",
      "163|12759|Skopje|1.1143897458901308|[(1198, 'Macedonia')] | (0, 'World')|(14, 'Europe')|(1276, 'Yugoslav SFR (historical)')|(1286, 'Yugoslavia (historical)')|(100000024, 'Southern Europe')|(100017849, 'World, excl China')\n",
      "164|12634|Appenzell Ausserrhoden|1.1150569405786295|[(1194, 'Switzerland'), (100000634, 'Ostschweiz')] | (0, 'World')|(14, 'Europe')|(100000025, 'Western Europe')|(100000562, 'European Free Trade Association')|(100017849, 'World, excl China')\n",
      "165|12291|Gorj|1.115278351826398|[(1167, 'Romania'), (100000593, 'Macroregiunea patru'), (100000677, 'Sud-Vest Oltenia')] | (0, 'World')|(14, 'Europe')|(1290, 'EU-28')|(100000022, 'Eastern Europe')|(100000035, 'EU (European Union)')|(100000112, 'EU-27')|(100000560, 'EU-11')|(100000561, 'EU-13')|(100017849, 'World, excl China')\n",
      "166|10185|Niederösterreich|1.1153318431309598|[(1014, 'Austria'), (100000631, 'Ostösterreich')] | (0, 'World')|(14, 'Europe')|(1288, 'EU-15')|(1289, 'EU-25')|(1290, 'EU-28')|(100000025, 'Western Europe')|(100000035, 'EU (European Union)')|(100000112, 'EU-27')|(100017849, 'World, excl China')\n",
      "167|13003|Sumy|1.1169994405715546|[(1210, 'Ukraine')] | (0, 'World')|(14, 'Europe')|(1281, 'USSR (historical)')|(100000022, 'Eastern Europe')|(100000164, 'FSU-12')|(100000165, 'Major Wheat Exporters - WASDE')|(100000170, 'Major Coarse Grain Exporters - WASDE')|(100000174, 'Major Corn Exporters - WASDE')|(100000196, 'Black Sea')|(100017849, 'World, excl China')|(100022669, 'Commonwealth of Independent States')\n",
      "168|10434|Burgas|1.117396965624978|[(1032, 'Bulgaria'), (100000654, 'Severna i yugoiztochna Bulgaria'), (100000698, 'Yugoiztochen')] | (0, 'World')|(14, 'Europe')|(1290, 'EU-28')|(100000022, 'Eastern Europe')|(100000035, 'EU (European Union)')|(100000112, 'EU-27')|(100000560, 'EU-11')|(100000561, 'EU-13')|(100017849, 'World, excl China')\n"
     ]
    },
    {
     "name": "stdout",
     "output_type": "stream",
     "text": [
      "169|10996|Baden-Württemberg|1.1201923227418606|[(1076, 'Germany')] | (0, 'World')|(14, 'Europe')|(1288, 'EU-15')|(1289, 'EU-25')|(1290, 'EU-28')|(100000025, 'Western Europe')|(100000035, 'EU (European Union)')|(100000103, 'EU-12')|(100000112, 'EU-27')|(100017849, 'World, excl China')\n",
      "170|10743|Pardubický|1.120212509514393|[(1051, 'Czech Republic'), (100000656, 'Severovýchod')] | (0, 'World')|(14, 'Europe')|(1275, 'Czechoslovakia (historical)')|(1289, 'EU-25')|(1290, 'EU-28')|(100000022, 'Eastern Europe')|(100000035, 'EU (European Union)')|(100000112, 'EU-27')|(100000560, 'EU-11')|(100000561, 'EU-13')|(100017849, 'World, excl China')\n",
      "171|12561|Comunidad Foral de Navarra|1.1208859078532138|[(1188, 'Spain'), (100000617, 'Noreste (ES)')] | (0, 'World')|(14, 'Europe')|(1288, 'EU-15')|(1289, 'EU-25')|(1290, 'EU-28')|(100000024, 'Southern Europe')|(100000035, 'EU (European Union)')|(100000103, 'EU-12')|(100000112, 'EU-27')|(100017849, 'World, excl China')\n",
      "172|10946|Champagne-Ardenne|1.1216663113224579|[(1070, 'France'), (100000514, 'Alsace-Champagne-Ardenne-Lorraine'), (100000521, 'Bassin Parisien')] | (0, 'World')|(14, 'Europe')|(1288, 'EU-15')|(1289, 'EU-25')|(1290, 'EU-28')|(100000025, 'Western Europe')|(100000035, 'EU (European Union)')|(100000103, 'EU-12')|(100000112, 'EU-27')|(100000649, 'RUP FR-Régions ultrapériphériques françaises')|(100017849, 'World, excl China')\n",
      "173|12986|Crimea|1.1230270275644216|[(1210, 'Ukraine'), (100000124, 'Crimean Federal'), (100000138, 'Southern Federal (2010-2016)'), (100000139, 'Southern Federal')] | (0, 'World')|(14, 'Europe')|(1281, 'USSR (historical)')|(100000022, 'Eastern Europe')|(100000164, 'FSU-12')|(100000165, 'Major Wheat Exporters - WASDE')|(100000170, 'Major Coarse Grain Exporters - WASDE')|(100000174, 'Major Corn Exporters - WASDE')|(100000196, 'Black Sea')|(100017849, 'World, excl China')|(100022669, 'Commonwealth of Independent States')\n",
      "174|10694|Brodsko-Posavska|1.1231998892084154|[(1048, 'Croatia'), (100000584, 'Kontinentalna Hrvatska')] | (0, 'World')|(14, 'Europe')|(1276, 'Yugoslav SFR (historical)')|(1286, 'Yugoslavia (historical)')|(1290, 'EU-28')|(100000024, 'Southern Europe')|(100000035, 'EU (European Union)')|(100000560, 'EU-11')|(100000561, 'EU-13')|(100017849, 'World, excl China')\n",
      "175|12463|Fiorentino|1.1256992797695062|[(1176, 'San Marino')] | (0, 'World')|(14, 'Europe')|(100000024, 'Southern Europe')|(100017849, 'World, excl China')\n",
      "176|10776|P'yongan-bukto|1.1261831273623981|[(1053, 'North Korea')] | (0, 'World')|(12, 'Asia')|(100000018, 'Eastern Asia')|(100017849, 'World, excl China')\n",
      "177|12989|Ivano-Frankivs'k|1.1284479957008022|[(1210, 'Ukraine')] | (0, 'World')|(14, 'Europe')|(1281, 'USSR (historical)')|(100000022, 'Eastern Europe')|(100000164, 'FSU-12')|(100000165, 'Major Wheat Exporters - WASDE')|(100000170, 'Major Coarse Grain Exporters - WASDE')|(100000174, 'Major Corn Exporters - WASDE')|(100000196, 'Black Sea')|(100017849, 'World, excl China')|(100022669, 'Commonwealth of Independent States')\n",
      "178|10773|Kaesong|1.1288652191053243|[(1053, 'North Korea')] | (0, 'World')|(12, 'Asia')|(100000018, 'Eastern Asia')|(100017849, 'World, excl China')\n",
      "179|10169|Tavush|1.1295296978844664|[(1011, 'Armenia')] | (0, 'World')|(12, 'Asia')|(1281, 'USSR (historical)')|(100000021, 'Western Asia')|(100000164, 'FSU-12')|(100017849, 'World, excl China')|(100022669, 'Commonwealth of Independent States')\n",
      "180|13328|Henan|1.135731167158432|[(1231, 'China, mainland'), (100022751, 'Central China'), (100022753, 'North China, incl Henan, Shandong, excl Nei Mongol')] | (0, 'World')|(12, 'Asia')|(100000018, 'Eastern Asia')|(100000166, 'Major Wheat Importers - WASDE')|(100000178, 'Major Rice Importers - WASDE')|(100000185, 'Major Cotton Importers - WASDE')|(100000187, 'Major Soybean Importers - WASDE')|(100000193, 'Major Soybean Oil Importers - WASDE')|(100022935, 'China')|(1231, 'China, mainland')|(1231, 'China, mainland')\n",
      "181|12322|Chechnya|1.137229560985167|[(1168, 'Russia'), (100000130, 'North Caucasus'), (100000131, 'North Caucasus Federal')] | (0, 'World')|(14, 'Europe')|(1281, 'USSR (historical)')|(100000022, 'Eastern Europe')|(100000164, 'FSU-12')|(100000165, 'Major Wheat Exporters - WASDE')|(100000170, 'Major Coarse Grain Exporters - WASDE')|(100000174, 'Major Corn Exporters - WASDE')|(100000185, 'Major Cotton Importers - WASDE')|(100000196, 'Black Sea')|(100017849, 'World, excl China')|(100022669, 'Commonwealth of Independent States')\n",
      "182|11331|Lombardia|1.1381788697606132|[(1101, 'Italy'), (100000613, 'Nord-Ovest')] | (0, 'World')|(14, 'Europe')|(1288, 'EU-15')|(1289, 'EU-25')|(1290, 'EU-28')|(100000024, 'Southern Europe')|(100000035, 'EU (European Union)')|(100000103, 'EU-12')|(100000112, 'EU-27')|(100017849, 'World, excl China')\n",
      "183|12387|Tula|1.139726048001887|[(1168, 'Russia'), (100000136, 'Central'), (100000137, 'Central Federal')] | (0, 'World')|(14, 'Europe')|(1281, 'USSR (historical)')|(100000022, 'Eastern Europe')|(100000164, 'FSU-12')|(100000165, 'Major Wheat Exporters - WASDE')|(100000170, 'Major Coarse Grain Exporters - WASDE')|(100000174, 'Major Corn Exporters - WASDE')|(100000185, 'Major Cotton Importers - WASDE')|(100000196, 'Black Sea')|(100017849, 'World, excl China')|(100022669, 'Commonwealth of Independent States')\n",
      "184|10709|Varaždinska|1.1401708302078146|[(1048, 'Croatia'), (100000584, 'Kontinentalna Hrvatska')] | (0, 'World')|(14, 'Europe')|(1276, 'Yugoslav SFR (historical)')|(1286, 'Yugoslavia (historical)')|(1290, 'EU-28')|(100000024, 'Southern Europe')|(100000035, 'EU (European Union)')|(100000560, 'EU-11')|(100000561, 'EU-13')|(100017849, 'World, excl China')\n",
      "185|13134|Tashkent|1.1404628665068135|[(1217, 'Uzbekistan')] | (0, 'World')|(12, 'Asia')|(1281, 'USSR (historical)')|(100000017, 'Central Asia')|(100000164, 'FSU-12')|(100000181, 'Major Cotton Exporters - WASDE')|(100000182, 'Central Asia - Cotton - WASDE')|(100017849, 'World, excl China')|(100022669, 'Commonwealth of Independent States')\n",
      "186|12991|Kherson|1.141715381002633|[(1210, 'Ukraine')] | (0, 'World')|(14, 'Europe')|(1281, 'USSR (historical)')|(100000022, 'Eastern Europe')|(100000164, 'FSU-12')|(100000165, 'Major Wheat Exporters - WASDE')|(100000170, 'Major Coarse Grain Exporters - WASDE')|(100000174, 'Major Corn Exporters - WASDE')|(100000196, 'Black Sea')|(100017849, 'World, excl China')|(100022669, 'Commonwealth of Independent States')\n",
      "187|12460|Chiesanuova|1.1433739701104675|[(1176, 'San Marino')] | (0, 'World')|(14, 'Europe')|(100000024, 'Southern Europe')|(100017849, 'World, excl China')\n",
      "188|10951|Bourgogne|1.1437978362396302|[(1070, 'France'), (100000521, 'Bassin Parisien'), (100000528, 'Bourgogne-Franche-Comté')] | (0, 'World')|(14, 'Europe')|(1288, 'EU-15')|(1289, 'EU-25')|(1290, 'EU-28')|(100000025, 'Western Europe')|(100000035, 'EU (European Union)')|(100000103, 'EU-12')|(100000112, 'EU-27')|(100000649, 'RUP FR-Régions ultrapériphériques françaises')|(100017849, 'World, excl China')\n",
      "189|13266|Srednje-Banatski|1.1453526174577493|[(1228, 'Serbia'), (100000647, 'Region Vojvodine'), (100000673, 'Srbija-sever')] | (0, 'World')|(14, 'Europe')|(1262, 'Serbia and Kosovo (historical)')|(1263, 'Serbia Montenegro and Kosovo (historical)')|(1276, 'Yugoslav SFR (historical)')|(1280, 'Serbia and Montenegro (historical)')|(1286, 'Yugoslavia (historical)')|(100000024, 'Southern Europe')|(100017849, 'World, excl China')\n",
      "190|10711|Vukovarsko-Srijemska|1.1486283765054384|[(1048, 'Croatia'), (100000584, 'Kontinentalna Hrvatska')] | (0, 'World')|(14, 'Europe')|(1276, 'Yugoslav SFR (historical)')|(1286, 'Yugoslavia (historical)')|(1290, 'EU-28')|(100000024, 'Southern Europe')|(100000035, 'EU (European Union)')|(100000560, 'EU-11')|(100000561, 'EU-13')|(100017849, 'World, excl China')\n",
      "191|10693|Bjelovarska-Bilogorska|1.1507968294336566|[(1048, 'Croatia'), (100000584, 'Kontinentalna Hrvatska')] | (0, 'World')|(14, 'Europe')|(1276, 'Yugoslav SFR (historical)')|(1286, 'Yugoslavia (historical)')|(1290, 'EU-28')|(100000024, 'Southern Europe')|(100000035, 'EU (European Union)')|(100000560, 'EU-11')|(100000561, 'EU-13')|(100017849, 'World, excl China')\n",
      "192|12283|Caras-Severin|1.1514607700358384|[(1167, 'Romania'), (100000593, 'Macroregiunea patru'), (100000686, 'Vest')] | (0, 'World')|(14, 'Europe')|(1290, 'EU-28')|(100000022, 'Eastern Europe')|(100000035, 'EU (European Union)')|(100000112, 'EU-27')|(100000560, 'EU-11')|(100000561, 'EU-13')|(100017849, 'World, excl China')\n"
     ]
    },
    {
     "name": "stdout",
     "output_type": "stream",
     "text": [
      "193|11148|Borsod-Abaúj-Zemplén|1.1531859577175765|[(1092, 'Hungary'), (100000559, 'Észak-Magyarország'), (100000706, 'Alföld és Észak')] | (0, 'World')|(14, 'Europe')|(1289, 'EU-25')|(1290, 'EU-28')|(100000022, 'Eastern Europe')|(100000035, 'EU (European Union)')|(100000112, 'EU-27')|(100000560, 'EU-11')|(100000561, 'EU-13')|(100017849, 'World, excl China')\n",
      "194|10700|Krapinsko-Zagorska|1.1534280397155923|[(1048, 'Croatia'), (100000584, 'Kontinentalna Hrvatska')] | (0, 'World')|(14, 'Europe')|(1276, 'Yugoslav SFR (historical)')|(1286, 'Yugoslavia (historical)')|(1290, 'EU-28')|(100000024, 'Southern Europe')|(100000035, 'EU (European Union)')|(100000560, 'EU-11')|(100000561, 'EU-13')|(100017849, 'World, excl China')\n",
      "195|12998|Mykolayiv|1.1542307718215825|[(1210, 'Ukraine')] | (0, 'World')|(14, 'Europe')|(1281, 'USSR (historical)')|(100000022, 'Eastern Europe')|(100000164, 'FSU-12')|(100000165, 'Major Wheat Exporters - WASDE')|(100000170, 'Major Coarse Grain Exporters - WASDE')|(100000174, 'Major Corn Exporters - WASDE')|(100000196, 'Black Sea')|(100017849, 'World, excl China')|(100022669, 'Commonwealth of Independent States')\n",
      "196|10960|Midi-Pyrénées|1.1545387721804006|[(1070, 'France'), (100000589, 'Languedoc-Roussillon-Midi-Pyrénées'), (100000714, 'Sud-Ouest')] | (0, 'World')|(14, 'Europe')|(1288, 'EU-15')|(1289, 'EU-25')|(1290, 'EU-28')|(100000025, 'Western Europe')|(100000035, 'EU (European Union)')|(100000103, 'EU-12')|(100000112, 'EU-27')|(100000649, 'RUP FR-Régions ultrapériphériques françaises')|(100017849, 'World, excl China')\n",
      "197|12643|Jura|1.1549870261231094|[(1194, 'Switzerland'), (100000556, 'Espace Mittelland')] | (0, 'World')|(14, 'Europe')|(100000025, 'Western Europe')|(100000562, 'European Free Trade Association')|(100017849, 'World, excl China')\n",
      "198|13008|Zaporizhzhya|1.1552516994762245|[(1210, 'Ukraine')] | (0, 'World')|(14, 'Europe')|(1281, 'USSR (historical)')|(100000022, 'Eastern Europe')|(100000164, 'FSU-12')|(100000165, 'Major Wheat Exporters - WASDE')|(100000170, 'Major Coarse Grain Exporters - WASDE')|(100000174, 'Major Corn Exporters - WASDE')|(100000196, 'Black Sea')|(100017849, 'World, excl China')|(100022669, 'Commonwealth of Independent States')\n",
      "199|13249|Branicevski|1.1564854442458241|[(1228, 'Serbia'), (100000644, 'Region Juzne i Istocne Srbije'), (100000672, 'Srbija-jug')] | (0, 'World')|(14, 'Europe')|(1262, 'Serbia and Kosovo (historical)')|(1263, 'Serbia Montenegro and Kosovo (historical)')|(1276, 'Yugoslav SFR (historical)')|(1280, 'Serbia and Montenegro (historical)')|(1286, 'Yugoslavia (historical)')|(100000024, 'Southern Europe')|(100017849, 'World, excl China')\n"
     ]
    }
   ],
   "source": [
    "for i in sim.similar_to(13066, number_of_regions=200, compare_to=0, requested_level=4, detailed_distance=False):\n",
    "    lv = list(i.values())\n",
    "    print(\"|\".join([str(v) for v in lv[:-1]]),\"|\",\"|\".join([str(v) for v in lv[-1]]))"
   ]
  }
 ],
 "metadata": {
  "kernelspec": {
   "display_name": "Python 3",
   "language": "python",
   "name": "python3"
  },
  "language_info": {
   "codemirror_mode": {
    "name": "ipython",
    "version": 3
   },
   "file_extension": ".py",
   "mimetype": "text/x-python",
   "name": "python",
   "nbconvert_exporter": "python",
   "pygments_lexer": "ipython3",
   "version": "3.6.9"
  }
 },
 "nbformat": 4,
 "nbformat_minor": 4
}
