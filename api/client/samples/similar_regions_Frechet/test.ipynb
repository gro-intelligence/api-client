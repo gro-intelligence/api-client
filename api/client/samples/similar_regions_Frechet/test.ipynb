{
 "cells": [
  {
   "cell_type": "markdown",
   "metadata": {},
   "source": [
    "# Similar Regions examples\n",
    "\n",
    "## Initialize"
   ]
  },
  {
   "cell_type": "code",
   "execution_count": 5,
   "metadata": {},
   "outputs": [],
   "source": [
    "import pandas as pd\n",
    "import numpy as np\n",
    "import logging\n",
    "import nest_asyncio\n",
    "from api.client.samples.similar_regions_Frechet.sr import SimilarRegion\n",
    "\n",
    "nest_asyncio.apply()\n",
    "\n",
    "sim = SimilarRegion()"
   ]
  },
  {
   "cell_type": "markdown",
   "metadata": {},
   "source": [
    "Example of preloading the data for a particular part of the world (this step is optional, you can skip ahead to Examples below)."
   ]
  },
  {
   "cell_type": "code",
   "execution_count": 6,
   "metadata": {},
   "outputs": [
    {
     "name": "stdout",
     "output_type": "stream",
     "text": [
      "CPU times: user 491 ms, sys: 8.11 ms, total: 499 ms\n",
      "Wall time: 498 ms\n"
     ]
    }
   ],
   "source": [
    "%%time\n",
    "# If search_region = 0 (\"World\"), this takes many hours the first time)\n",
    "# sim._logger.setLevel(logging.INFO)\n",
    "sim._load_region_info(root_region_ids=[1065])\n",
    "sim._load_data()"
   ]
  },
  {
   "cell_type": "markdown",
   "metadata": {},
   "source": [
    "# Examples\n",
    "\n",
    "Find districts in Ethiopia similar to Napa county, California, USA."
   ]
  },
  {
   "cell_type": "code",
   "execution_count": 7,
   "metadata": {
    "scrolled": false
   },
   "outputs": [
    {
     "name": "stdout",
     "output_type": "stream",
     "text": [
      "Similar to Napa:\n",
      "{'#': 0, 'id': 136969, 'name': 'Napa', 'dist': 3.650024149988857e-08, 'parent': ('', '', '', '')}\n",
      "{'#': 1, 'id': 115015, 'name': 'Eastern', 'dist': 2.179871841826362, 'parent': (10928, 'Tigray', 1065, 'Ethiopia')}\n",
      "{'#': 2, 'id': 142811, 'name': 'Guji', 'dist': 2.2823705100922163, 'parent': (10925, 'Oromia', 1065, 'Ethiopia')}\n",
      "{'#': 3, 'id': 114991, 'name': 'Liben', 'dist': 2.3559261928001587, 'parent': (10926, 'Somali', 1065, 'Ethiopia')}\n",
      "{'#': 4, 'id': 142824, 'name': 'South East', 'dist': 2.4452399031747416, 'parent': (10928, 'Tigray', 1065, 'Ethiopia')}\n",
      "{'#': 5, 'id': 114979, 'name': 'Borena', 'dist': 2.4907974208975663, 'parent': (10925, 'Oromia', 1065, 'Ethiopia')}\n",
      "{'#': 6, 'id': 142818, 'name': 'Afder', 'dist': 2.5459836750927067, 'parent': (10926, 'Somali', 1065, 'Ethiopia')}\n",
      "{'#': 7, 'id': 115011, 'name': 'South Omo', 'dist': 2.5553233985662738, 'parent': (10927, 'Southern Nations, Nationalities and Peoples', 1065, 'Ethiopia')}\n",
      "{'#': 8, 'id': 115014, 'name': 'Central', 'dist': 2.5582649972362774, 'parent': (10928, 'Tigray', 1065, 'Ethiopia')}\n",
      "{'#': 9, 'id': 142804, 'name': 'Agnuak', 'dist': 2.5673077969549927, 'parent': (10923, 'Gambela', 1065, 'Ethiopia')}\n"
     ]
    }
   ],
   "source": [
    "print(\"Similar to Napa:\")\n",
    "for i in sim.similar_to(136969, number_of_regions=10, requested_level=5, compare_to=1065):\n",
    "    print(i)"
   ]
  },
  {
   "cell_type": "markdown",
   "metadata": {},
   "source": [
    "Find provinces in Europe similar to the state of Iowa, USA."
   ]
  },
  {
   "cell_type": "code",
   "execution_count": 8,
   "metadata": {
    "scrolled": false
   },
   "outputs": [
    {
     "name": "stderr",
     "output_type": "stream",
     "text": [
      "Property cation_exchange_30cm is missing 14/9418 regions\n",
      "  0%|          | 0/14 [00:00<?, ?it/s]"
     ]
    },
    {
     "name": "stdout",
     "output_type": "stream",
     "text": [
      "Similar to Iowa:\n"
     ]
    },
    {
     "name": "stderr",
     "output_type": "stream",
     "text": [
      "100%|██████████| 14/14 [00:00<00:00, 42.78it/s]\n",
      "/home/nemo/src/api-client/api/client/samples/similar_regions_Frechet/sr.py:384: RuntimeWarning: invalid value encountered in true_divide\n",
      "  valid_data = valid_data/data_counters # division by zero where we do not have data\n",
      "Property clay_30cm is missing 14/9418 regions\n",
      "100%|██████████| 14/14 [00:00<00:00, 54.42it/s]\n",
      "Property land_surface_temperature is missing 11/9418 regions\n",
      "100%|██████████| 11/11 [00:06<00:00,  1.64it/s]\n",
      "Property organic_carbon_content_fine_earth_30cm is missing 14/9418 regions\n",
      "100%|██████████| 14/14 [00:00<00:00, 51.64it/s]\n",
      "Property ph_h2o_30cm is missing 14/9418 regions\n",
      "100%|██████████| 14/14 [00:00<00:00, 59.25it/s]\n",
      "Property rainfall is missing 9/9418 regions\n",
      "100%|██████████| 9/9 [00:13<00:00,  1.45s/it]\n",
      "Property sand_30cm is missing 14/9418 regions\n",
      "100%|██████████| 14/14 [00:00<00:00, 41.15it/s]\n",
      "Property silt_30cm is missing 14/9418 regions\n",
      "100%|██████████| 14/14 [00:00<00:00, 50.06it/s]\n",
      "Property soil_moisture is missing 532/9418 regions\n",
      " 19%|█▉        | 100/532 [00:04<00:20, 20.84it/s]\n",
      " 19%|█▉        | 100/532 [00:06<00:30, 14.35it/s]\n",
      " 19%|█▉        | 100/532 [00:06<00:29, 14.55it/s]\n",
      " 25%|██▍       | 132/532 [00:06<00:21, 18.95it/s]\n",
      "Property soil_water_capacity_100cm is missing 14/9418 regions\n",
      "100%|██████████| 14/14 [00:00<00:00, 57.43it/s]\n"
     ]
    },
    {
     "name": "stdout",
     "output_type": "stream",
     "text": [
      "{'#': 0, 'id': 13066, 'name': 'Iowa', 'dist': {'total': 7.146345858741878e-08, 'covar': 7.146345858741878e-08, 'cation_exchange_30cm': 0.0, 'clay_30cm': 0.0, 'land_surface_temperature': 0.0, 'organic_carbon_content_fine_earth_30cm': 0.0, 'ph_h2o_30cm': 0.0, 'rainfall': 0.0, 'sand_30cm': 0.0, 'silt_30cm': 0.0, 'soil_moisture': 0.0, 'soil_water_capacity_100cm': 0.0}, 'parent': ('', '', '', '')}\n",
      "{'#': 1, 'id': 11711, 'name': 'Donduseni', 'dist': {'total': 1.0428215244587287, 'covar': 0.45939844703256627, 'cation_exchange_30cm': 0.013829020865511854, 'clay_30cm': 0.007930746874838412, 'land_surface_temperature': 0.060937054224847964, 'organic_carbon_content_fine_earth_30cm': 0.24718140286487522, 'ph_h2o_30cm': 0.6013490863036823, 'rainfall': 0.392014270271549, 'sand_30cm': 0.14219195559385867, 'silt_30cm': 0.1810348910280144, 'soil_moisture': 0.49302690832238905, 'soil_water_capacity_100cm': 0.00024828346454341954}, 'parent': (1134, 'Moldova', '', '')}\n",
      "{'#': 2, 'id': 11714, 'name': 'Edinet', 'dist': {'total': 1.0736750766375984, 'covar': 0.4286800658674281, 'cation_exchange_30cm': 0.07891490526595435, 'clay_30cm': 0.1342034520112465, 'land_surface_temperature': 0.06851441822249082, 'organic_carbon_content_fine_earth_30cm': 0.27795991394609065, 'ph_h2o_30cm': 0.5912933629730324, 'rainfall': 0.39259334904974197, 'sand_30cm': 0.22885060852249328, 'silt_30cm': 0.3952370971673531, 'soil_moisture': 0.38240262646327383, 'soil_water_capacity_100cm': 0.06514132107997472}, 'parent': (1134, 'Moldova', '', '')}\n",
      "{'#': 3, 'id': 12277, 'name': 'Botosani', 'dist': {'total': 1.1525396037898619, 'covar': 0.4084495825718846, 'cation_exchange_30cm': 0.11452419630082211, 'clay_30cm': 0.12139217243124767, 'land_surface_temperature': 0.035818998940930546, 'organic_carbon_content_fine_earth_30cm': 0.19334720551766382, 'ph_h2o_30cm': 0.518966819903599, 'rainfall': 0.36299699167162114, 'sand_30cm': 0.40202012711538937, 'silt_30cm': 0.6022463715689907, 'soil_moisture': 0.41168220907606545, 'soil_water_capacity_100cm': 0.010099064375387101}, 'parent': (1167, 'Romania', '', '')}\n",
      "{'#': 4, 'id': 11728, 'name': 'Soroca', 'dist': {'total': 1.1807178446693192, 'covar': 0.4274958117358657, 'cation_exchange_30cm': 0.19063054771914567, 'clay_30cm': 0.1578929796255495, 'land_surface_temperature': 0.08684851602157218, 'organic_carbon_content_fine_earth_30cm': 0.3446392988651804, 'ph_h2o_30cm': 0.6782110921188096, 'rainfall': 0.3933683532434893, 'sand_30cm': 0.07766319345866335, 'silt_30cm': 0.22877121686440471, 'soil_moisture': 0.5773709402744387, 'soil_water_capacity_100cm': 0.1316011364274523}, 'parent': (1134, 'Moldova', '', '')}\n",
      "{'#': 5, 'id': 11697, 'name': 'Soldanesti', 'dist': {'total': 1.1939494775824313, 'covar': 0.4378955677590176, 'cation_exchange_30cm': 0.05029403464738902, 'clay_30cm': 0.07693842904315051, 'land_surface_temperature': 0.05024500198752979, 'organic_carbon_content_fine_earth_30cm': 0.22297873903485277, 'ph_h2o_30cm': 0.7104114994273205, 'rainfall': 0.35919448796668896, 'sand_30cm': 0.3244931247360099, 'silt_30cm': 0.4678383510439241, 'soil_moisture': 0.4625230108934604, 'soil_water_capacity_100cm': 0.03561617142131457}, 'parent': (1134, 'Moldova', '', '')}\n",
      "{'#': 6, 'id': 11703, 'name': 'Briceni', 'dist': {'total': 1.263022992692534, 'covar': 0.40250627308490144, 'cation_exchange_30cm': 0.21444320658351534, 'clay_30cm': 0.23726150709115768, 'land_surface_temperature': 0.00555515450248345, 'organic_carbon_content_fine_earth_30cm': 0.2438621125591134, 'ph_h2o_30cm': 0.5175217755873565, 'rainfall': 0.3923890396992574, 'sand_30cm': 0.5772634615786265, 'silt_30cm': 0.5079997518499022, 'soil_moisture': 0.4502917714117223, 'soil_water_capacity_100cm': 0.23575368688395226}, 'parent': (1134, 'Moldova', '', '')}\n",
      "{'#': 7, 'id': 12295, 'name': 'Iasi', 'dist': {'total': 1.2654414329136694, 'covar': 0.43589148946154577, 'cation_exchange_30cm': 0.10471747961643496, 'clay_30cm': 0.27892328454729176, 'land_surface_temperature': 0.08241189527330128, 'organic_carbon_content_fine_earth_30cm': 0.1667614441732106, 'ph_h2o_30cm': 0.6214688907724026, 'rainfall': 0.3394219563790719, 'sand_30cm': 0.3724837755448476, 'silt_30cm': 0.7019427028574796, 'soil_moisture': 0.392363344276492, 'soil_water_capacity_100cm': 0.03358599207314228}, 'parent': (1167, 'Romania', '', '')}\n",
      "{'#': 8, 'id': 11723, 'name': 'Ocnita', 'dist': {'total': 1.3046123959943503, 'covar': 0.4109205802602399, 'cation_exchange_30cm': 0.48391375141780424, 'clay_30cm': 0.3791150958133942, 'land_surface_temperature': 0.029859539944278923, 'organic_carbon_content_fine_earth_30cm': 0.18826386223837177, 'ph_h2o_30cm': 0.4902799903005235, 'rainfall': 0.3966295906253975, 'sand_30cm': 0.5080657540475124, 'silt_30cm': 0.29858309114346415, 'soil_moisture': 0.4950960189557654, 'soil_water_capacity_100cm': 0.3589288092059624}, 'parent': (1134, 'Moldova', '', '')}\n",
      "{'#': 9, 'id': 11716, 'name': 'Floresti', 'dist': {'total': 1.306760883788804, 'covar': 0.4348328290408124, 'cation_exchange_30cm': 0.3683201059109269, 'clay_30cm': 0.36113020358122316, 'land_surface_temperature': 0.14550639311425595, 'organic_carbon_content_fine_earth_30cm': 0.3222012846354806, 'ph_h2o_30cm': 0.7660418035997569, 'rainfall': 0.3774091346498032, 'sand_30cm': 0.06037117137801462, 'silt_30cm': 0.3830793233058012, 'soil_moisture': 0.41834269110370625, 'soil_water_capacity_100cm': 0.2698539647972149}, 'parent': (1134, 'Moldova', '', '')}\n"
     ]
    }
   ],
   "source": [
    "# Find provinces similar to Iowa in Europe (with detailed distance report)\n",
    "print(\"Similar to Iowa:\")\n",
    "for i in sim.similar_to(13066, number_of_regions=10, requested_level=4,detailed_distance=True, compare_to=14):\n",
    "    print(i)"
   ]
  }
 ],
 "metadata": {
  "kernelspec": {
   "display_name": "Python 3",
   "language": "python",
   "name": "python3"
  },
  "language_info": {
   "codemirror_mode": {
    "name": "ipython",
    "version": 3
   },
   "file_extension": ".py",
   "mimetype": "text/x-python",
   "name": "python",
   "nbconvert_exporter": "python",
   "pygments_lexer": "ipython3",
   "version": "3.6.9"
  }
 },
 "nbformat": 4,
 "nbformat_minor": 4
}
