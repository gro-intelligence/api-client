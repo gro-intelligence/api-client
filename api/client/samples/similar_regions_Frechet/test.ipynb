{
 "cells": [
  {
   "cell_type": "markdown",
   "metadata": {},
   "source": [
    "# Similar Regions examples\n",
    "\n"
   ]
  },
  {
   "cell_type": "markdown",
   "metadata": {},
   "source": [
    "## Comments\n",
    "Reported distance values are in a multi-dimentional space. They should only be used for relative region comparison and not be interpreted in any other way. In particular, no linearity of the underlying space should be assumed. For example, a pair of regions at double the distance compared to some other pair should not be interpreted as \"twice less similar\" in any meaningful way\n",
    "\n",
    "Changing 'compare_to' argument of similar_to method will trigger rebuilding of the SimilarRegion object which can be expensive.\n",
    "It is therefore better to complete all queries for given search region before changing it.\n",
    "\n",
    "If seed region is outside search region (see Ex.2,3), most recent data for the seed region will always be downloaded from Gro database even if the seed region is part of local cache. If this most recent data is different from the cache, it can lead to some differences for such runs compared to those using only cached info (for example when using local cache and searching over the entire world)\n",
    "\n",
    "Some region names contain commas, so be careful when writing results to .csv files. Consider using other field separators, see Ex.4"
   ]
  },
  {
   "cell_type": "markdown",
   "metadata": {},
   "source": [
    "## Initial Imports"
   ]
  },
  {
   "cell_type": "code",
   "execution_count": 1,
   "metadata": {},
   "outputs": [],
   "source": [
    "import pandas as pd\n",
    "import numpy as np\n",
    "import logging\n",
    "\n",
    "# SimilarRegion class definition\n",
    "from api.client.samples.similar_regions_Frechet.sr import SimilarRegion\n",
    "\n",
    "# Detailed API info (such as metric_id, item_id, etc.) on properties which can be used in a metric\n",
    "# Currently contains land surface temperature, rainfall, and soil moisture time series\n",
    "# as well as seven soil properties\n",
    "from api.client.samples.similar_regions_Frechet.metric import metric_properties, metric_weights\n",
    "\n",
    "# Allow nested IO loops (required for jupyter notebooks to work with batch API, not needed in stand-alone python scripts)\n",
    "import nest_asyncio\n",
    "\n",
    "nest_asyncio.apply()"
   ]
  },
  {
   "cell_type": "markdown",
   "metadata": {},
   "source": [
    "## Initialization"
   ]
  },
  {
   "cell_type": "code",
   "execution_count": 5,
   "metadata": {},
   "outputs": [],
   "source": [
    "# Configure SR object (no real work will be done yet - it will start on the first call to similar_to)\n",
    "# To reconstruct from scratch, make sure data_dir is empty.\n",
    "\n",
    "sim = SimilarRegion(metric_properties,\n",
    "                    data_dir='/tmp/similar_regions_cache',\n",
    "                    metric_weights=metric_weights)\n",
    "\n",
    "# Uncomment this to see extensive informational messages during object build/region search\n",
    "sim._logger.setLevel(logging.INFO)"
   ]
  },
  {
   "cell_type": "markdown",
   "metadata": {},
   "source": [
    "# Examples\n",
    "\n",
    "Note that in each example, the size of the search area to compare to (a countyr, a continent or the whole world) to and the requested region level (district, province or country) significantly affect the amount of data that will be needed.  There are about 45,000 districts and about 5,000 provinces in the whole world.  \n",
    "\n",
    "## Example 1\n",
    "\n",
    "Find 10 districts (region level 5), in Oceania (region 13) most similar to Napa county, California, USA (region_id 136969)."
   ]
  },
  {
   "cell_type": "code",
   "execution_count": 6,
   "metadata": {},
   "outputs": [
    {
     "name": "stdout",
     "output_type": "stream",
     "text": [
      "Similar to Napa:\n"
     ]
    },
    {
     "name": "stderr",
     "output_type": "stream",
     "text": [
      "100%|██████████| 22/22 [00:00<00:00, 36.21it/s]\n",
      "/home/nemo/src/api-client/api/client/samples/similar_regions_Frechet/sr.py:460: RuntimeWarning: invalid value encountered in true_divide\n",
      "  valid_data = valid_data/data_counters # division by zero where we do not have data\n",
      "100%|██████████| 22/22 [00:00<00:00, 43.72it/s]\n",
      "100%|██████████| 52/52 [00:08<00:00,  5.82it/s]\n",
      "100%|██████████| 22/22 [00:00<00:00, 39.80it/s]\n",
      "100%|██████████| 22/22 [00:00<00:00, 42.84it/s]\n",
      " 91%|█████████ | 1038/1138 [03:37<00:11,  9.05it/s]Connection closed\n",
      "OK\n",
      " 91%|█████████ | 1038/1138 [03:37<00:20,  4.78it/s]\n",
      "100%|██████████| 106/106 [00:44<00:00,  2.38it/s]\n",
      "100%|██████████| 1138/1138 [00:00<00:00, 1598.75it/s]\n",
      "100%|██████████| 1138/1138 [00:00<00:00, 1535.15it/s]\n",
      "100%|██████████| 1138/1138 [01:09<00:00, 16.45it/s]\n",
      "100%|██████████| 1138/1138 [00:00<00:00, 1307.34it/s]\n",
      "100%|██████████| 1/1 [00:00<00:00,  5.73it/s]\n",
      "100%|██████████| 1/1 [00:00<00:00,  5.63it/s]\n",
      "100%|██████████| 1/1 [00:00<00:00,  1.79it/s]\n",
      "100%|██████████| 1/1 [00:00<00:00,  5.46it/s]\n",
      "100%|██████████| 1/1 [00:00<00:00,  5.69it/s]\n",
      "100%|██████████| 1/1 [00:03<00:00,  3.54s/it]\n",
      "100%|██████████| 1/1 [00:00<00:00,  5.61it/s]\n",
      "100%|██████████| 1/1 [00:00<00:00,  6.16it/s]\n",
      "100%|██████████| 1/1 [00:00<00:00,  1.41it/s]\n",
      "100%|██████████| 1/1 [00:00<00:00,  5.23it/s]\n"
     ]
    },
    {
     "name": "stdout",
     "output_type": "stream",
     "text": [
      "{'#': 0, 'id': 102852, 'name': 'Upper Hunter Shire', 'dist': 1.0173388430612706, 'parent': (10174, 'New South Wales', 1013, 'Australia')}\n",
      "{'#': 1, 'id': 100022568, 'name': 'Wangaratta', 'dist': 1.0385239475854269, 'parent': (10180, 'Victoria', 1013, 'Australia')}\n",
      "{'#': 2, 'id': 102739, 'name': 'Dungog', 'dist': 1.08021988488311, 'parent': (10174, 'New South Wales', 1013, 'Australia')}\n",
      "{'#': 3, 'id': 100022537, 'name': 'Indigo', 'dist': 1.0809597805693687, 'parent': (10180, 'Victoria', 1013, 'Australia')}\n",
      "{'#': 4, 'id': 100022487, 'name': 'Mid-Western Regional', 'dist': 1.1117281793754827, 'parent': (10174, 'New South Wales', 1013, 'Australia')}\n",
      "{'#': 5, 'id': 100022557, 'name': 'Murrindindi', 'dist': 1.1134716292216345, 'parent': (10180, 'Victoria', 1013, 'Australia')}\n",
      "{'#': 6, 'id': 103807, 'name': 'Wodonga', 'dist': 1.1182413463837215, 'parent': (10180, 'Victoria', 1013, 'Australia')}\n",
      "{'#': 7, 'id': 100022478, 'name': 'Greater Hume Shire', 'dist': 1.1264317762109375, 'parent': (10174, 'New South Wales', 1013, 'Australia')}\n",
      "{'#': 8, 'id': 100022464, 'name': 'Bathurst Regional', 'dist': 1.1310108018506226, 'parent': (10174, 'New South Wales', 1013, 'Australia')}\n",
      "{'#': 9, 'id': 102859, 'name': 'Walcha', 'dist': 1.138311257248809, 'parent': (10174, 'New South Wales', 1013, 'Australia')}\n",
      "CPU times: user 4min 40s, sys: 2.91 s, total: 4min 43s\n",
      "Wall time: 5min 53s\n"
     ]
    }
   ],
   "source": [
    "%%time\n",
    "# First call to similar_to method will trigger data loading from either local cache or Gro database\n",
    "# depending on SimilarRegion configuration requested during its construction above.\n",
    "# If local cache is used this should take under 5 minutes\n",
    "# *****CAUTION******: First download from Gro database for a large region (default is entire world!) will take many ours.\n",
    "\n",
    "print(\"Districts similar to Napa in Oceania:\")\n",
    "for i in sim.similar_to(136969, number_of_regions=10, requested_level=5, compare_to=13):\n",
    "    print(i)"
   ]
  },
  {
   "cell_type": "markdown",
   "metadata": {},
   "source": [
    "## Example 2\n",
    "\n",
    "Same as Ex.1 but restricted to Ethiopia (region_id 1065). This will trigger rebuilding of SimilrRegion object and, since seed region is outside search region, a download of seed region data directly from Gro"
   ]
  },
  {
   "cell_type": "code",
   "execution_count": 7,
   "metadata": {},
   "outputs": [
    {
     "name": "stdout",
     "output_type": "stream",
     "text": [
      "Similar to Napa in Ethiopia:\n"
     ]
    },
    {
     "name": "stderr",
     "output_type": "stream",
     "text": [
      "100%|██████████| 1/1 [00:00<00:00,  5.47it/s]\n",
      "100%|██████████| 1/1 [00:00<00:00,  6.16it/s]\n",
      "100%|██████████| 1/1 [00:00<00:00,  1.99it/s]\n",
      "100%|██████████| 1/1 [00:00<00:00,  6.07it/s]\n",
      "100%|██████████| 1/1 [00:00<00:00,  5.99it/s]\n",
      "100%|██████████| 1/1 [00:00<00:00,  1.67it/s]\n",
      "100%|██████████| 1/1 [00:00<00:00,  6.40it/s]\n",
      "100%|██████████| 1/1 [00:00<00:00,  6.67it/s]\n",
      "100%|██████████| 1/1 [00:00<00:00,  2.88it/s]\n",
      "100%|██████████| 1/1 [00:00<00:00,  6.41it/s]\n"
     ]
    },
    {
     "name": "stdout",
     "output_type": "stream",
     "text": [
      "{'#': 0, 'id': 142811, 'name': 'Guji', 'dist': 1.2338421995896156, 'parent': (10925, 'Oromia', 1065, 'Ethiopia')}\n",
      "{'#': 1, 'id': 115015, 'name': 'Eastern', 'dist': 1.39693348320392, 'parent': (10928, 'Tigray', 1065, 'Ethiopia')}\n",
      "{'#': 2, 'id': 114979, 'name': 'Borena', 'dist': 1.4944076194977822, 'parent': (10925, 'Oromia', 1065, 'Ethiopia')}\n",
      "{'#': 3, 'id': 114978, 'name': 'Bale', 'dist': 1.5500765471563827, 'parent': (10925, 'Oromia', 1065, 'Ethiopia')}\n",
      "{'#': 4, 'id': 114991, 'name': 'Liben', 'dist': 1.5603356045152479, 'parent': (10926, 'Somali', 1065, 'Ethiopia')}\n",
      "{'#': 5, 'id': 142822, 'name': 'Alaba', 'dist': 1.561470946006365, 'parent': (10927, 'Southern Nations, Nationalities and Peoples', 1065, 'Ethiopia')}\n",
      "{'#': 6, 'id': 142824, 'name': 'South East', 'dist': 1.5920198683128988, 'parent': (10928, 'Tigray', 1065, 'Ethiopia')}\n",
      "{'#': 7, 'id': 142823, 'name': \"Segen Peoples'\", 'dist': 1.6524844247816282, 'parent': (10927, 'Southern Nations, Nationalities and Peoples', 1065, 'Ethiopia')}\n",
      "{'#': 8, 'id': 142806, 'name': 'Hareri', 'dist': 1.6690162246665883, 'parent': (10924, 'Hareri', 1065, 'Ethiopia')}\n",
      "{'#': 9, 'id': 114981, 'name': 'East Shewa', 'dist': 1.671390017606501, 'parent': (10925, 'Oromia', 1065, 'Ethiopia')}\n",
      "CPU times: user 1.31 s, sys: 36.2 ms, total: 1.34 s\n",
      "Wall time: 3.4 s\n"
     ]
    }
   ],
   "source": [
    "%%time\n",
    "# Use compare_to argument to restrict search to districts within particular country\n",
    "\n",
    "print(\"Districts similar to Napa in Ethiopia:\")\n",
    "for i in sim.similar_to(136969, number_of_regions=10, requested_level=5, compare_to=1065):\n",
    "    print(i)"
   ]
  },
  {
   "cell_type": "markdown",
   "metadata": {},
   "source": [
    "## Example 3\n",
    "\n",
    "Find 10 provinces (region level 4) in Europe (region_id 14) most similar to the US state of Iowa (region_id 13066), provide detailed distance report"
   ]
  },
  {
   "cell_type": "code",
   "execution_count": null,
   "metadata": {},
   "outputs": [
    {
     "name": "stdout",
     "output_type": "stream",
     "text": [
      "Provinces similar to Iowa in Europe:\n"
     ]
    },
    {
     "name": "stderr",
     "output_type": "stream",
     "text": [
      "100%|██████████| 14/14 [00:00<00:00, 29.94it/s]\n",
      "/home/nemo/src/api-client/api/client/samples/similar_regions_Frechet/sr.py:460: RuntimeWarning: invalid value encountered in true_divide\n",
      "  valid_data = valid_data/data_counters # division by zero where we do not have data\n",
      "100%|██████████| 14/14 [00:00<00:00, 35.00it/s]\n",
      "100%|██████████| 11/11 [00:10<00:00,  1.04it/s]\n",
      "100%|██████████| 14/14 [00:00<00:00, 26.95it/s]\n",
      "100%|██████████| 14/14 [00:00<00:00, 27.62it/s]\n",
      " 10%|▉         | 900/9318 [03:14<21:05,  6.65it/s]   Connection closed\n",
      "OK\n",
      "Connection closed\n",
      "OK\n",
      " 19%|█▉        | 1800/9318 [06:45<19:36,  6.39it/s]   Connection closed\n",
      "OK\n",
      "Connection closed\n",
      "OK\n",
      "Connection closed\n",
      "OK\n",
      " 36%|███▋      | 3400/9318 [12:38<16:34,  5.95it/s]   "
     ]
    }
   ],
   "source": [
    "print(\"Provinces similar to Iowa in Europe:\")\n",
    "for i in sim.similar_to(13066, number_of_regions=10, requested_level=4, detailed_distance=True, compare_to=14):\n",
    "    print(i)"
   ]
  },
  {
   "cell_type": "markdown",
   "metadata": {},
   "source": [
    "## Example 4\n",
    "Larger number of provinces similar to Iowa (across entire world) printed with | separator (note that region names can have commas in them). Note that many of provinces from Ex.3 are near the top of the list"
   ]
  },
  {
   "cell_type": "code",
   "execution_count": null,
   "metadata": {
    "scrolled": true
   },
   "outputs": [],
   "source": [
    "for i in sim.similar_to(13066, number_of_regions=200, compare_to=0, requested_level=4, detailed_distance=False):\n",
    "    lv = list(i.values())\n",
    "    print(\"|\".join([str(v) for v in lv[:-1]]),\"|\",\"|\".join([str(v) for v in lv[-1]]))"
   ]
  }
 ],
 "metadata": {
  "kernelspec": {
   "display_name": "Python 3",
   "language": "python",
   "name": "python3"
  },
  "language_info": {
   "codemirror_mode": {
    "name": "ipython",
    "version": 3
   },
   "file_extension": ".py",
   "mimetype": "text/x-python",
   "name": "python",
   "nbconvert_exporter": "python",
   "pygments_lexer": "ipython3",
   "version": "3.6.9"
  }
 },
 "nbformat": 4,
 "nbformat_minor": 4
}
