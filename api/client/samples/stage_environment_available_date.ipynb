{
 "cells": [
  {
   "cell_type": "markdown",
   "metadata": {},
   "source": [
    "# Requesting available_date from Gro's \"stage\" API\n",
    "\n",
    "This notebook demonstrates:\n",
    "1. how to connect to Gro's \"stage\" environment\n",
    "2. how to use the `show_available_date` option."
   ]
  },
  {
   "cell_type": "markdown",
   "metadata": {},
   "source": [
    "## Connecting to the Gro \"stage\" API\n",
    "\n",
    "Connecting to the \"stage\" API environment instead of prod is configured when constructing the `GroClient` object. `GroClient` takes 2 arguments: the API domain name and your account's API access token.\n",
    "\n",
    "The API domain name is `'apistage11201.gro-intelligence.com'` (instead of `'api.gro-intelligence.com'` for prod).\n",
    "\n",
    "To get your account's API access token, go to https://stage11201.gro-intelligence.com/ and follow [this documentation](https://developers.gro-intelligence.com/authentication.html#option-1-using-the-web-app-recommended) (note: ignore the initial step of navigating to app.gro-intelligence.com - that's our prod web app. API tokens on prod and stage are not interchangeable.)."
   ]
  },
  {
   "cell_type": "code",
   "execution_count": 1,
   "metadata": {},
   "outputs": [
    {
     "data": {
      "text/plain": [
       "[{'start_date': '2019-10-01T00:00:00.000Z',\n",
       "  'end_date': '2020-09-30T00:00:00.000Z',\n",
       "  'value': 126000000,\n",
       "  'unit_id': 14,\n",
       "  'metadata': {},\n",
       "  'input_unit_id': 14,\n",
       "  'input_unit_scale': 1,\n",
       "  'reporting_date': None,\n",
       "  'metric_id': 860032,\n",
       "  'item_id': 270,\n",
       "  'region_id': 1029,\n",
       "  'partner_region_id': 0,\n",
       "  'frequency_id': 9},\n",
       " {'start_date': '2020-10-01T00:00:00.000Z',\n",
       "  'end_date': '2021-09-30T00:00:00.000Z',\n",
       "  'value': 133000000,\n",
       "  'unit_id': 14,\n",
       "  'metadata': {},\n",
       "  'input_unit_id': 14,\n",
       "  'input_unit_scale': 1,\n",
       "  'reporting_date': None,\n",
       "  'metric_id': 860032,\n",
       "  'item_id': 270,\n",
       "  'region_id': 1029,\n",
       "  'partner_region_id': 0,\n",
       "  'frequency_id': 9}]"
      ]
     },
     "execution_count": 1,
     "metadata": {},
     "output_type": "execute_result"
    }
   ],
   "source": [
    "from groclient import GroClient\n",
    "\n",
    "API_HOST = 'apistage11201.gro-intelligence.com'\n",
    "# follow the documentation above to replace this string with your account's API token\n",
    "ACCESS_TOKEN = 'eyABC.ey123.fixme'\n",
    "\n",
    "client = GroClient(API_HOST, ACCESS_TOKEN)\n",
    "\n",
    "# test that the client is working\n",
    "client.get_data_points(**{'metric_id': 860032, # Production Quantity (mass)\n",
    "                          'item_id': 270, # Soybeans\n",
    "                          'region_id': 1029, # Brazil\n",
    "                          'frequency_id': 9, # Annual\n",
    "                          'source_id': 106, # WASDE\n",
    "                          'unit_id': 14, # tons                          \n",
    "                          'start_date': '2020-01-01',\n",
    "                         })"
   ]
  },
  {
   "cell_type": "markdown",
   "metadata": {},
   "source": [
    "## Requesting available_date from the API\n",
    "\n",
    "To request `available_date`, include the option `show_available_date` with value `True` in `GroClient.get_data_points`.\n",
    "\n",
    "**Note:** you'll need to install version *v1.107.2* or greater of the `groclient` library:\n",
    "\n",
    "```\n",
    "pip install -U groclient\n",
    "```"
   ]
  },
  {
   "cell_type": "markdown",
   "metadata": {},
   "source": [
    "Check that `groclient.__version__` is at least 1.107.2. (If you get an error `AttributeError: module 'groclient' has no attribute '__version__'`, you'll need to update your groclient library as well.)\n",
    "\n",
    "`pip install -U groclient` to upgrade the library."
   ]
  },
  {
   "cell_type": "code",
   "execution_count": 2,
   "metadata": {},
   "outputs": [
    {
     "data": {
      "text/plain": [
       "'1.107.3'"
      ]
     },
     "execution_count": 2,
     "metadata": {},
     "output_type": "execute_result"
    }
   ],
   "source": [
    "import groclient\n",
    "groclient.__version__"
   ]
  },
  {
   "cell_type": "markdown",
   "metadata": {},
   "source": [
    "Calling `get_data_points` with `show_available_date` results in the `available_date` field being populated in the result."
   ]
  },
  {
   "cell_type": "code",
   "execution_count": 3,
   "metadata": {},
   "outputs": [
    {
     "data": {
      "text/plain": [
       "{'start_date': '2008-10-01T00:00:00.000Z',\n",
       " 'end_date': '2009-09-30T00:00:00.000Z',\n",
       " 'value': 57800000,\n",
       " 'unit_id': 14,\n",
       " 'metadata': {},\n",
       " 'input_unit_id': 14,\n",
       " 'input_unit_scale': 1,\n",
       " 'reporting_date': None,\n",
       " 'metric_id': 860032,\n",
       " 'item_id': 270,\n",
       " 'region_id': 1029,\n",
       " 'partner_region_id': 0,\n",
       " 'frequency_id': 9,\n",
       " 'available_date': '2020-08-31T00:00:00.000Z'}"
      ]
     },
     "execution_count": 3,
     "metadata": {},
     "output_type": "execute_result"
    }
   ],
   "source": [
    "brazil_soybeans = client.get_data_points(**{\n",
    "    'metric_id': 860032, # Production Quantity (mass)\n",
    "    'item_id': 270, # Soybeans\n",
    "    'region_id': 1029, # Brazil\n",
    "    'frequency_id': 9, # Annual\n",
    "    'source_id': 106, # WASDE\n",
    "    'start_date': '2000-01-01',\n",
    "    'unit_id': 14, # tons\n",
    "    'show_available_date': True, # request available_date\n",
    "})\n",
    "# example data point\n",
    "brazil_soybeans[0]"
   ]
  },
  {
   "cell_type": "code",
   "execution_count": 4,
   "metadata": {},
   "outputs": [
    {
     "data": {
      "text/html": [
       "<div>\n",
       "<style scoped>\n",
       "    .dataframe tbody tr th:only-of-type {\n",
       "        vertical-align: middle;\n",
       "    }\n",
       "\n",
       "    .dataframe tbody tr th {\n",
       "        vertical-align: top;\n",
       "    }\n",
       "\n",
       "    .dataframe thead th {\n",
       "        text-align: right;\n",
       "    }\n",
       "</style>\n",
       "<table border=\"1\" class=\"dataframe\">\n",
       "  <thead>\n",
       "    <tr style=\"text-align: right;\">\n",
       "      <th></th>\n",
       "      <th>start_date</th>\n",
       "      <th>end_date</th>\n",
       "      <th>value</th>\n",
       "      <th>available_date</th>\n",
       "    </tr>\n",
       "  </thead>\n",
       "  <tbody>\n",
       "    <tr>\n",
       "      <th>0</th>\n",
       "      <td>2008-10-01T00:00:00.000Z</td>\n",
       "      <td>2009-09-30T00:00:00.000Z</td>\n",
       "      <td>57800000</td>\n",
       "      <td>2020-08-31T00:00:00.000Z</td>\n",
       "    </tr>\n",
       "    <tr>\n",
       "      <th>1</th>\n",
       "      <td>2009-10-01T00:00:00.000Z</td>\n",
       "      <td>2010-09-30T00:00:00.000Z</td>\n",
       "      <td>69000000</td>\n",
       "      <td>2020-08-31T00:00:00.000Z</td>\n",
       "    </tr>\n",
       "    <tr>\n",
       "      <th>2</th>\n",
       "      <td>2010-10-01T00:00:00.000Z</td>\n",
       "      <td>2011-09-30T00:00:00.000Z</td>\n",
       "      <td>75300000</td>\n",
       "      <td>2020-08-31T00:00:00.000Z</td>\n",
       "    </tr>\n",
       "    <tr>\n",
       "      <th>3</th>\n",
       "      <td>2011-10-01T00:00:00.000Z</td>\n",
       "      <td>2012-09-30T00:00:00.000Z</td>\n",
       "      <td>66500000</td>\n",
       "      <td>2020-08-31T00:00:00.000Z</td>\n",
       "    </tr>\n",
       "    <tr>\n",
       "      <th>4</th>\n",
       "      <td>2012-10-01T00:00:00.000Z</td>\n",
       "      <td>2013-09-30T00:00:00.000Z</td>\n",
       "      <td>82000000</td>\n",
       "      <td>2020-08-31T00:00:00.000Z</td>\n",
       "    </tr>\n",
       "    <tr>\n",
       "      <th>5</th>\n",
       "      <td>2013-10-01T00:00:00.000Z</td>\n",
       "      <td>2014-09-30T00:00:00.000Z</td>\n",
       "      <td>86700000</td>\n",
       "      <td>2020-08-31T00:00:00.000Z</td>\n",
       "    </tr>\n",
       "    <tr>\n",
       "      <th>6</th>\n",
       "      <td>2014-10-01T00:00:00.000Z</td>\n",
       "      <td>2015-09-30T00:00:00.000Z</td>\n",
       "      <td>97200000</td>\n",
       "      <td>2020-08-31T00:00:00.000Z</td>\n",
       "    </tr>\n",
       "    <tr>\n",
       "      <th>7</th>\n",
       "      <td>2015-10-01T00:00:00.000Z</td>\n",
       "      <td>2016-09-30T00:00:00.000Z</td>\n",
       "      <td>96500000</td>\n",
       "      <td>2020-08-31T00:00:00.000Z</td>\n",
       "    </tr>\n",
       "    <tr>\n",
       "      <th>8</th>\n",
       "      <td>2016-10-01T00:00:00.000Z</td>\n",
       "      <td>2017-09-30T00:00:00.000Z</td>\n",
       "      <td>114600000</td>\n",
       "      <td>2020-08-31T00:00:00.000Z</td>\n",
       "    </tr>\n",
       "    <tr>\n",
       "      <th>9</th>\n",
       "      <td>2017-10-01T00:00:00.000Z</td>\n",
       "      <td>2018-09-30T00:00:00.000Z</td>\n",
       "      <td>122000000</td>\n",
       "      <td>2020-08-31T00:00:00.000Z</td>\n",
       "    </tr>\n",
       "    <tr>\n",
       "      <th>10</th>\n",
       "      <td>2018-10-01T00:00:00.000Z</td>\n",
       "      <td>2019-09-30T00:00:00.000Z</td>\n",
       "      <td>119700000</td>\n",
       "      <td>2021-01-12T00:00:00.000Z</td>\n",
       "    </tr>\n",
       "    <tr>\n",
       "      <th>11</th>\n",
       "      <td>2019-10-01T00:00:00.000Z</td>\n",
       "      <td>2020-09-30T00:00:00.000Z</td>\n",
       "      <td>126000000</td>\n",
       "      <td>2021-01-12T00:00:00.000Z</td>\n",
       "    </tr>\n",
       "    <tr>\n",
       "      <th>12</th>\n",
       "      <td>2020-10-01T00:00:00.000Z</td>\n",
       "      <td>2021-09-30T00:00:00.000Z</td>\n",
       "      <td>133000000</td>\n",
       "      <td>2021-01-12T00:00:00.000Z</td>\n",
       "    </tr>\n",
       "  </tbody>\n",
       "</table>\n",
       "</div>"
      ],
      "text/plain": [
       "                  start_date                  end_date      value  \\\n",
       "0   2008-10-01T00:00:00.000Z  2009-09-30T00:00:00.000Z   57800000   \n",
       "1   2009-10-01T00:00:00.000Z  2010-09-30T00:00:00.000Z   69000000   \n",
       "2   2010-10-01T00:00:00.000Z  2011-09-30T00:00:00.000Z   75300000   \n",
       "3   2011-10-01T00:00:00.000Z  2012-09-30T00:00:00.000Z   66500000   \n",
       "4   2012-10-01T00:00:00.000Z  2013-09-30T00:00:00.000Z   82000000   \n",
       "5   2013-10-01T00:00:00.000Z  2014-09-30T00:00:00.000Z   86700000   \n",
       "6   2014-10-01T00:00:00.000Z  2015-09-30T00:00:00.000Z   97200000   \n",
       "7   2015-10-01T00:00:00.000Z  2016-09-30T00:00:00.000Z   96500000   \n",
       "8   2016-10-01T00:00:00.000Z  2017-09-30T00:00:00.000Z  114600000   \n",
       "9   2017-10-01T00:00:00.000Z  2018-09-30T00:00:00.000Z  122000000   \n",
       "10  2018-10-01T00:00:00.000Z  2019-09-30T00:00:00.000Z  119700000   \n",
       "11  2019-10-01T00:00:00.000Z  2020-09-30T00:00:00.000Z  126000000   \n",
       "12  2020-10-01T00:00:00.000Z  2021-09-30T00:00:00.000Z  133000000   \n",
       "\n",
       "              available_date  \n",
       "0   2020-08-31T00:00:00.000Z  \n",
       "1   2020-08-31T00:00:00.000Z  \n",
       "2   2020-08-31T00:00:00.000Z  \n",
       "3   2020-08-31T00:00:00.000Z  \n",
       "4   2020-08-31T00:00:00.000Z  \n",
       "5   2020-08-31T00:00:00.000Z  \n",
       "6   2020-08-31T00:00:00.000Z  \n",
       "7   2020-08-31T00:00:00.000Z  \n",
       "8   2020-08-31T00:00:00.000Z  \n",
       "9   2020-08-31T00:00:00.000Z  \n",
       "10  2021-01-12T00:00:00.000Z  \n",
       "11  2021-01-12T00:00:00.000Z  \n",
       "12  2021-01-12T00:00:00.000Z  "
      ]
     },
     "execution_count": 4,
     "metadata": {},
     "output_type": "execute_result"
    }
   ],
   "source": [
    "import pandas as pd\n",
    "soybeans_df = pd.DataFrame(brazil_soybeans)\n",
    "soybeans_df[['start_date', 'end_date', 'value', 'available_date']]"
   ]
  }
 ],
 "metadata": {
  "kernelspec": {
   "display_name": "Python 3",
   "language": "python",
   "name": "python3"
  },
  "language_info": {
   "codemirror_mode": {
    "name": "ipython",
    "version": 3
   },
   "file_extension": ".py",
   "mimetype": "text/x-python",
   "name": "python",
   "nbconvert_exporter": "python",
   "pygments_lexer": "ipython3",
   "version": "3.9.0"
  }
 },
 "nbformat": 4,
 "nbformat_minor": 2
}
