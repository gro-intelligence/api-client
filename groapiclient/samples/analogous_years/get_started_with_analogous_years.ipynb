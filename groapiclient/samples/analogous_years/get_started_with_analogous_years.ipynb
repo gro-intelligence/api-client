{
 "cells": [
  {
   "cell_type": "markdown",
   "metadata": {},
   "source": [
    "# Analogous Years\n",
    "The Analogous Years application enables users to compare events from a set period of time, \n",
    "to those of the same date range in other years. The application will compute ranks of similarity between the specified period, and the same period from previous or future years.\n",
    "\n",
    "## 0. Gro API Client\n",
    "To get started with `Analogous Years`, users have to install `Gro API Client`\n",
    "as detailed [here](https://developers.gro-intelligence.com/installation.html).\n",
    "\n",
    "### 0.1 Analogous Years' Functions\n",
    "Following the step mentioned above, users can run the following cell to import some of the necessary libraries from the `analogous_years` package."
   ]
  },
  {
   "cell_type": "code",
   "execution_count": 1,
   "metadata": {},
   "outputs": [],
   "source": [
    "import os\n",
    "from api.client.samples.analogous_years import run_analogous_years\n",
    "from api.client.samples.analogous_years.lib import final_ranks_computation, get_transform_data\n",
    "import pandas as pd\n",
    "pd.options.mode.chained_assignment = None"
   ]
  },
  {
   "cell_type": "markdown",
   "metadata": {},
   "source": [
    "### 0.2 Access the Gro API access token\n",
    "Assuming that users have saved the Gro API access token as an environment variable named `GROAPI_TOKEN` (and have imported `os` in the previous step), users may run the following cell to get the access token for later usage."
   ]
  },
  {
   "cell_type": "code",
   "execution_count": 2,
   "metadata": {},
   "outputs": [],
   "source": [
    "ACCESS_TOKEN = os.environ['GROAPI_TOKEN']"
   ]
  },
  {
   "cell_type": "markdown",
   "metadata": {},
   "source": [
    "## 1. Input\n",
    "Multiple different inputs can be used in determining the ranks (refer to the appendix), but to compute these ranks, a user must provide:\n",
    "### 1.1 Gro Data Series\n",
    "Single or multiple Gro Data Series defined by `metric_id`, `item_id`, `source_id`, `frequency_id` for a particular region given by a `region_id`.\n",
    "### 1.2 Time Period\n",
    "A time period determined by an `initial_date` and a `final_date`. The two dates must be within 1 year of each other and in the `YYYY-MM-DD` format.\n",
    "### Example\n",
    "As an example, if the user wants to know which period of time is most similar to the time period between 1<sup>st</sup> January 2019 and 31<sup>st</sup> October 2019 in the [US Corn Belt States (region_id=100000100)](https://app.gro-intelligence.com/dictionary/regions/100000100) with respect to the\n",
    "following Gro Data Series -\n",
    "1. Rainfall, TRMM ([metric_id=2100031](https://app.gro-intelligence.com/dictionary/metrics/2100031), [item_id=2039](https://app.gro-intelligence.com/dictionary/items/2039), [source_id=35](https://app.gro-intelligence.com/dictionary/sources/35), frequency_id=1)\n",
    "2. Land Temperature, MODIS ([metric_id=2540047](https://app.gro-intelligence.com/dictionary/metrics/2540047), [item_id=3457](https://app.gro-intelligence.com/dictionary/items/3457), [source_id=26](https://app.gro-intelligence.com/dictionary/sources/26), frequency_id=1)\n",
    "3. Soil moisture, SMOS ([metric_id=15531082](https://app.gro-intelligence.com/dictionary/items/15531082), [item_id=7382](https://app.gro-intelligence.com/dictionary/items/7382), [source_id=43](https://app.gro-intelligence.com/dictionary/sources/43), frequency_id=1)\n",
    "\n",
    "Note: 1. `frequency_id: 1` gives us daily values. In absence of daily values, \n",
    "the application up-samples to daily frequency(ies).\n",
    "2. A convenient way to incorporate these is to copy the dictionaries associated to the data series mentioned above from [Gro webapp display](https://app.gro-intelligence.com/displays/za9MlQYRM) by exporting the api client code snippets of the display. The copied data series will be stored in `data_series_list` as outlined below."
   ]
  },
  {
   "cell_type": "code",
   "execution_count": 3,
   "metadata": {},
   "outputs": [],
   "source": [
    "# Rainfall (modeled) - Precipitation Quantity - US Corn Belt States (NASA TRMM 3B42RT)\n",
    "data_series_1 = {'metric_id': 2100031, \n",
    "                 'item_id': 2039, \n",
    "                 'region_id': 100000100, \n",
    "                 'partner_region_id': 0, \n",
    "                 'source_id': 35, \n",
    "                 'frequency_id': 1, \n",
    "                 'unit_id': 2}\n",
    "# Land temperature (daytime, modeled) - Temperature - US Corn Belt States (NASA MODIS MOD11 LST)\n",
    "data_series_2 = {'metric_id': 2540047, \n",
    "                 'item_id': 3457, \n",
    "                 'region_id': 100000100, \n",
    "                 'partner_region_id': 0, \n",
    "                 'source_id': 26, \n",
    "                 'frequency_id': 1,\n",
    "                 'unit_id': 36}\n",
    "\n",
    "# Soil moisture - Availability in soil (volume/volume) - US Corn Belt States (ESA SMOS CLF33D)\n",
    "data_series_3 = {'metric_id': 15531082, \n",
    "            'item_id': 7382, \n",
    "            'region_id': 100000100, \n",
    "            'partner_region_id': 0, \n",
    "            'source_id': 43, \n",
    "            'frequency_id': 1}\n",
    "\n",
    "\n",
    "data_series_list = [data_series_1, data_series_2, data_series_3]\n",
    "\n",
    "\n",
    "initial_date = '2019-01-01'\n",
    "final_date = '2019-10-31'"
   ]
  },
  {
   "cell_type": "markdown",
   "metadata": {},
   "source": [
    "## 2. Output\n",
    "The output will be a pandas dataframe containg the ranks computed by ensembling several distance calculation method."
   ]
  },
  {
   "cell_type": "code",
   "execution_count": 4,
   "metadata": {
    "scrolled": true
   },
   "outputs": [
    {
     "name": "stderr",
     "output_type": "stream",
     "text": [
      "Feature Extraction: 100%|██████████| 9/9 [00:02<00:00,  3.36it/s]\n",
      "Feature Extraction: 100%|██████████| 9/9 [00:02<00:00,  3.85it/s]\n",
      "Feature Extraction: 100%|██████████| 9/9 [00:02<00:00,  3.82it/s]\n"
     ]
    },
    {
     "data": {
      "text/html": [
       "<div>\n",
       "<style scoped>\n",
       "    .dataframe tbody tr th:only-of-type {\n",
       "        vertical-align: middle;\n",
       "    }\n",
       "\n",
       "    .dataframe tbody tr th {\n",
       "        vertical-align: top;\n",
       "    }\n",
       "\n",
       "    .dataframe thead th {\n",
       "        text-align: right;\n",
       "    }\n",
       "</style>\n",
       "<table border=\"1\" class=\"dataframe\">\n",
       "  <thead>\n",
       "    <tr style=\"text-align: right;\">\n",
       "      <th></th>\n",
       "      <th>composite_rank</th>\n",
       "    </tr>\n",
       "    <tr>\n",
       "      <th>period</th>\n",
       "      <th></th>\n",
       "    </tr>\n",
       "  </thead>\n",
       "  <tbody>\n",
       "    <tr>\n",
       "      <td>2011-01-01 to 2011-10-31</td>\n",
       "      <td>5</td>\n",
       "    </tr>\n",
       "    <tr>\n",
       "      <td>2012-01-01 to 2012-10-31</td>\n",
       "      <td>9</td>\n",
       "    </tr>\n",
       "    <tr>\n",
       "      <td>2013-01-01 to 2013-10-31</td>\n",
       "      <td>2</td>\n",
       "    </tr>\n",
       "    <tr>\n",
       "      <td>2014-01-01 to 2014-10-31</td>\n",
       "      <td>7</td>\n",
       "    </tr>\n",
       "    <tr>\n",
       "      <td>2015-01-01 to 2015-10-31</td>\n",
       "      <td>3</td>\n",
       "    </tr>\n",
       "    <tr>\n",
       "      <td>2016-01-01 to 2016-10-31</td>\n",
       "      <td>6</td>\n",
       "    </tr>\n",
       "    <tr>\n",
       "      <td>2017-01-01 to 2017-10-31</td>\n",
       "      <td>8</td>\n",
       "    </tr>\n",
       "    <tr>\n",
       "      <td>2018-01-01 to 2018-10-31</td>\n",
       "      <td>4</td>\n",
       "    </tr>\n",
       "    <tr>\n",
       "      <td>2019-01-01 to 2019-10-31</td>\n",
       "      <td>1</td>\n",
       "    </tr>\n",
       "  </tbody>\n",
       "</table>\n",
       "</div>"
      ],
      "text/plain": [
       "                          composite_rank\n",
       "period                                  \n",
       "2011-01-01 to 2011-10-31               5\n",
       "2012-01-01 to 2012-10-31               9\n",
       "2013-01-01 to 2013-10-31               2\n",
       "2014-01-01 to 2014-10-31               7\n",
       "2015-01-01 to 2015-10-31               3\n",
       "2016-01-01 to 2016-10-31               6\n",
       "2017-01-01 to 2017-10-31               8\n",
       "2018-01-01 to 2018-10-31               4\n",
       "2019-01-01 to 2019-10-31               1"
      ]
     },
     "execution_count": 4,
     "metadata": {},
     "output_type": "execute_result"
    }
   ],
   "source": [
    "result = final_ranks_computation.analogous_years(\n",
    "    ACCESS_TOKEN, data_series_list, initial_date, final_date)\n",
    "result"
   ]
  },
  {
   "cell_type": "markdown",
   "metadata": {},
   "source": [
    "## 3. Appendix\n",
    "### 3.1 Methods Of Rank Calculation\n",
    "The analogy score between two different time periods can be measured in multiple ways. \n",
    "Here, the program can calculate ranks based on 2 primary approaches - \n",
    "1. Ranks based on differences between extracted features: \n",
    "    1. Distance between cumulative sums. \n",
    "    2. Distance between more features extracted from time series. \n",
    "    \n",
    "    Note: For the purpose of this package we have used `tsfresh` package to \n",
    "    extract data from time series. \n",
    "2. Point wise differences: \n",
    "    1. Euclidean distance between stacked time periods. \n",
    "    2. Dynamic Time Warping distance between stacked time periods.\n",
    "    \n",
    "Finally, the program returns a composite rank by default based on the default \n",
    "(`cumulative`, `euclidean`, `ts-features`) methods or user specified methods."
   ]
  },
  {
   "cell_type": "markdown",
   "metadata": {},
   "source": [
    "### 3.2 Additional Options\n",
    "1. Weights: Users can input different weights associated with different data-series. By default, all the data series are equally weighted.\n",
    "\n",
    "2. Methods: Users have an option to choose from the following methods for distance \n",
    "computation `cumulative`, `euclidean`, `ts-features`, `dtw`. The default methods for rank \n",
    "generation are `cumulative`, `euclidean`, `ts-features`. `dtw` method is intentionally \n",
    "left out of the default setting as it is computationally expensive to run dynamic time warping \n",
    "algorithm on one `item-metric` tuple and in most situations `dtw` ranks are highly \n",
    "correlated with the `euclidean` ranks.\n",
    "\n",
    "3. All Ranks: Users have an option to output multiple individual ranks or an ensemble rank\n",
    "based on their methods list. By default only the ensemble rank will be generated.\n",
    "\n",
    "4. Multivariate El Niño Southern Oscillation (ENSO) index can also be included in the \n",
    "rank computation, along with the weight that the user wants to give for the ENSO index. \n",
    "The weight of ENSO index is set to 1 by default (same as other data series).\n",
    "\n",
    "5. Start Date: Users have an option to exclude time periods before a specified date. By \n",
    "default the earliest date from which data is available for all entities will be used to \n",
    "compute ranks."
   ]
  },
  {
   "cell_type": "code",
   "execution_count": 5,
   "metadata": {},
   "outputs": [
    {
     "name": "stderr",
     "output_type": "stream",
     "text": [
      "Feature Extraction: 100%|██████████| 5/5 [00:01<00:00,  3.25it/s]\n",
      "Feature Extraction: 100%|██████████| 5/5 [00:01<00:00,  3.91it/s]\n",
      "Feature Extraction: 100%|██████████| 5/5 [00:01<00:00,  3.65it/s]\n",
      "Feature Extraction: 100%|██████████| 5/5 [00:02<00:00,  2.10it/s]\n"
     ]
    },
    {
     "data": {
      "text/html": [
       "<div>\n",
       "<style scoped>\n",
       "    .dataframe tbody tr th:only-of-type {\n",
       "        vertical-align: middle;\n",
       "    }\n",
       "\n",
       "    .dataframe tbody tr th {\n",
       "        vertical-align: top;\n",
       "    }\n",
       "\n",
       "    .dataframe thead th {\n",
       "        text-align: right;\n",
       "    }\n",
       "</style>\n",
       "<table border=\"1\" class=\"dataframe\">\n",
       "  <thead>\n",
       "    <tr style=\"text-align: right;\">\n",
       "      <th></th>\n",
       "      <th>cumulative_rank</th>\n",
       "      <th>euclidean_rank</th>\n",
       "      <th>dtw_rank</th>\n",
       "      <th>ts-features_rank</th>\n",
       "      <th>composite_rank</th>\n",
       "    </tr>\n",
       "    <tr>\n",
       "      <th>period</th>\n",
       "      <th></th>\n",
       "      <th></th>\n",
       "      <th></th>\n",
       "      <th></th>\n",
       "      <th></th>\n",
       "    </tr>\n",
       "  </thead>\n",
       "  <tbody>\n",
       "    <tr>\n",
       "      <td>2015-01-01 to 2015-10-31</td>\n",
       "      <td>2</td>\n",
       "      <td>3</td>\n",
       "      <td>3</td>\n",
       "      <td>3</td>\n",
       "      <td>2</td>\n",
       "    </tr>\n",
       "    <tr>\n",
       "      <td>2016-01-01 to 2016-10-31</td>\n",
       "      <td>4</td>\n",
       "      <td>2</td>\n",
       "      <td>4</td>\n",
       "      <td>2</td>\n",
       "      <td>4</td>\n",
       "    </tr>\n",
       "    <tr>\n",
       "      <td>2017-01-01 to 2017-10-31</td>\n",
       "      <td>5</td>\n",
       "      <td>5</td>\n",
       "      <td>5</td>\n",
       "      <td>5</td>\n",
       "      <td>5</td>\n",
       "    </tr>\n",
       "    <tr>\n",
       "      <td>2018-01-01 to 2018-10-31</td>\n",
       "      <td>3</td>\n",
       "      <td>4</td>\n",
       "      <td>2</td>\n",
       "      <td>4</td>\n",
       "      <td>3</td>\n",
       "    </tr>\n",
       "    <tr>\n",
       "      <td>2019-01-01 to 2019-10-31</td>\n",
       "      <td>1</td>\n",
       "      <td>1</td>\n",
       "      <td>1</td>\n",
       "      <td>1</td>\n",
       "      <td>1</td>\n",
       "    </tr>\n",
       "  </tbody>\n",
       "</table>\n",
       "</div>"
      ],
      "text/plain": [
       "                          cumulative_rank  euclidean_rank  dtw_rank  \\\n",
       "period                                                                \n",
       "2015-01-01 to 2015-10-31                2               3         3   \n",
       "2016-01-01 to 2016-10-31                4               2         4   \n",
       "2017-01-01 to 2017-10-31                5               5         5   \n",
       "2018-01-01 to 2018-10-31                3               4         2   \n",
       "2019-01-01 to 2019-10-31                1               1         1   \n",
       "\n",
       "                          ts-features_rank  composite_rank  \n",
       "period                                                      \n",
       "2015-01-01 to 2015-10-31                 3               2  \n",
       "2016-01-01 to 2016-10-31                 2               4  \n",
       "2017-01-01 to 2017-10-31                 5               5  \n",
       "2018-01-01 to 2018-10-31                 4               3  \n",
       "2019-01-01 to 2019-10-31                 1               1  "
      ]
     },
     "execution_count": 5,
     "metadata": {},
     "output_type": "execute_result"
    }
   ],
   "source": [
    "additional_options_result = final_ranks_computation.analogous_years(\n",
    "    ACCESS_TOKEN, data_series_list, initial_date, final_date, \n",
    "    methods_list=['cumulative', 'euclidean', 'ts-features', 'dtw'], \n",
    "    all_ranks=True, weights=[0.2, 0.3, 0.4], enso=True,\n",
    "    enso_weight=0.1, provided_start_date='2015-01-01')\n",
    "additional_options_result"
   ]
  },
  {
   "cell_type": "markdown",
   "metadata": {},
   "source": [
    "## 4. Report\n",
    "In this section we have computed the `spearman's rank correlation` between the ranks generated by different methods. We have also used scatterplots to visualize the correlation between the ranks.\n",
    "### 4.1 Correlation Matrix\n",
    "From our past observations we have found that `dtw_rank` is highly correlated with `euclidean_rank`. However, `dtw_rank` calculation takes an extremely long time when compared with the other methods. Hence, for computational efficiency we have removed `dtw` from the default `list_of_methods`."
   ]
  },
  {
   "cell_type": "code",
   "execution_count": 6,
   "metadata": {},
   "outputs": [
    {
     "data": {
      "text/html": [
       "<div>\n",
       "<style scoped>\n",
       "    .dataframe tbody tr th:only-of-type {\n",
       "        vertical-align: middle;\n",
       "    }\n",
       "\n",
       "    .dataframe tbody tr th {\n",
       "        vertical-align: top;\n",
       "    }\n",
       "\n",
       "    .dataframe thead th {\n",
       "        text-align: right;\n",
       "    }\n",
       "</style>\n",
       "<table border=\"1\" class=\"dataframe\">\n",
       "  <thead>\n",
       "    <tr style=\"text-align: right;\">\n",
       "      <th></th>\n",
       "      <th>cumulative_rank</th>\n",
       "      <th>euclidean_rank</th>\n",
       "      <th>dtw_rank</th>\n",
       "      <th>ts-features_rank</th>\n",
       "      <th>composite_rank</th>\n",
       "    </tr>\n",
       "  </thead>\n",
       "  <tbody>\n",
       "    <tr>\n",
       "      <td>cumulative_rank</td>\n",
       "      <td>1.0</td>\n",
       "      <td>0.7</td>\n",
       "      <td>0.9</td>\n",
       "      <td>0.7</td>\n",
       "      <td>1.0</td>\n",
       "    </tr>\n",
       "    <tr>\n",
       "      <td>euclidean_rank</td>\n",
       "      <td>0.7</td>\n",
       "      <td>1.0</td>\n",
       "      <td>0.6</td>\n",
       "      <td>1.0</td>\n",
       "      <td>0.7</td>\n",
       "    </tr>\n",
       "    <tr>\n",
       "      <td>dtw_rank</td>\n",
       "      <td>0.9</td>\n",
       "      <td>0.6</td>\n",
       "      <td>1.0</td>\n",
       "      <td>0.6</td>\n",
       "      <td>0.9</td>\n",
       "    </tr>\n",
       "    <tr>\n",
       "      <td>ts-features_rank</td>\n",
       "      <td>0.7</td>\n",
       "      <td>1.0</td>\n",
       "      <td>0.6</td>\n",
       "      <td>1.0</td>\n",
       "      <td>0.7</td>\n",
       "    </tr>\n",
       "    <tr>\n",
       "      <td>composite_rank</td>\n",
       "      <td>1.0</td>\n",
       "      <td>0.7</td>\n",
       "      <td>0.9</td>\n",
       "      <td>0.7</td>\n",
       "      <td>1.0</td>\n",
       "    </tr>\n",
       "  </tbody>\n",
       "</table>\n",
       "</div>"
      ],
      "text/plain": [
       "                  cumulative_rank  euclidean_rank  dtw_rank  ts-features_rank  \\\n",
       "cumulative_rank               1.0             0.7       0.9               0.7   \n",
       "euclidean_rank                0.7             1.0       0.6               1.0   \n",
       "dtw_rank                      0.9             0.6       1.0               0.6   \n",
       "ts-features_rank              0.7             1.0       0.6               1.0   \n",
       "composite_rank                1.0             0.7       0.9               0.7   \n",
       "\n",
       "                  composite_rank  \n",
       "cumulative_rank              1.0  \n",
       "euclidean_rank               0.7  \n",
       "dtw_rank                     0.9  \n",
       "ts-features_rank             0.7  \n",
       "composite_rank               1.0  "
      ]
     },
     "execution_count": 6,
     "metadata": {},
     "output_type": "execute_result"
    }
   ],
   "source": [
    "correlation_matrix = additional_options_result.corr(method='spearman')\n",
    "correlation_matrix"
   ]
  },
  {
   "cell_type": "markdown",
   "metadata": {},
   "source": [
    "### 4.2 Scatterplots Between Ranks\n",
    "We have generated scatterplots between ranks which may help advanced users to understand if some of the methods are more consistent for their specific data-series. "
   ]
  },
  {
   "cell_type": "code",
   "execution_count": 7,
   "metadata": {},
   "outputs": [
    {
     "data": {
      "image/png": "[encoded data removed]",
      "text/plain": [
       "<Figure size 900x900 with 25 Axes>"
      ]
     },
     "metadata": {},
     "output_type": "display_data"
    }
   ],
   "source": [
    "%matplotlib inline\n",
    "import seaborn as sns\n",
    "import matplotlib.pyplot as plt\n",
    "sns.set(style=\"ticks\")\n",
    "sns_plot = sns.pairplot(additional_options_result, diag_kind=None)\n",
    "plt.show()"
   ]
  },
  {
   "cell_type": "code",
   "execution_count": null,
   "metadata": {},
   "outputs": [],
   "source": []
  }
 ],
 "metadata": {
  "kernelspec": {
   "display_name": "Python 3",
   "language": "python",
   "name": "python3"
  },
  "language_info": {
   "codemirror_mode": {
    "name": "ipython",
    "version": 3
   },
   "file_extension": ".py",
   "mimetype": "text/x-python",
   "name": "python",
   "nbconvert_exporter": "python",
   "pygments_lexer": "ipython3",
   "version": "3.7.4"
  }
 },
 "nbformat": 4,
 "nbformat_minor": 2
}
