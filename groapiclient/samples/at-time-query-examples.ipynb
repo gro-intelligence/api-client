{
  "cells": [
    {
      "cell_type": "markdown",
      "source": [
        "# At-time query examples"
      ],
      "metadata": {}
    },
    {
      "cell_type": "markdown",
      "source": [
        "## Use case: \"I am backtesting and need to avoid lookahead bias. What data would Gro have had available on each date I am testing?\""
      ],
      "metadata": {}
    },
    {
      "cell_type": "markdown",
      "source": [
        "Data does not usually appear immediately at the end of its period. If a source\n",
        "is reporting a \"total exports\" number for January 1st to December 31st,\n",
        "that data point may not be reported by the source until February of the\n",
        "following year, for example. This is referred to as \"source lag.\" You can\n",
        "inspect a given source's worst-case expected lag using the `lookup()` function,\n",
        "like so: `client.lookup('sources', source_id)['sourceLag']`\n",
        "\n",
        "Gro keeps track of on what date each point was reported, and, using this\n",
        "at_time feature demonstrated below, the `get_data_points()` function can filter\n",
        "out points that would not have been reported yet as of the given date.\n",
        "\n",
        "Data also may be revised after it has been published, as is the case most often\n",
        "with forecasts like the Gro Yield Model that get closer to the true number as\n",
        "the season progresses. The default mode for `get_data_points()` is to give the\n",
        "latest point for each period, since the one reported most recently is the most\n",
        "up-to-date, and presumably most accurate, value. You may, however, want to\n",
        "analyze the historical accuracy of a forecast as the season progressed, and for\n",
        "that you need to know what the latest forecast was at each point you're\n",
        "interested in. For that, you may also use the at_time query demonstrated below."
      ],
      "metadata": {}
    },
    {
      "cell_type": "markdown",
      "source": [
        "See Also\n",
        "--------\n",
        "- `api.client.lib.get_data_points()`\n",
        "- `api.client.lib.lookup()`\n",
        "- https://github.com/gro-intelligence/api-client/wiki/FAQ#q-what-does-sourcelag-mean-when-i-use-clientlookup-to-inspect-a-sources-details\n",
        "- https://github.com/gro-intelligence/api-client/wiki/FAQ#q-how-do-i-see-previous-values-for-a-time-series-point-to-see-how-the-value-changed-over-time"
      ],
      "metadata": {}
    },
    {
      "cell_type": "code",
      "source": [
        "import os\n",
        "from api.client.gro_client import GroClient\n",
        "\n",
        "API_HOST = 'api.gro-intelligence.com'\n",
        "ACCESS_TOKEN = os.environ['GROAPI_TOKEN']\n",
        "\n",
        "client = GroClient(API_HOST, ACCESS_TOKEN)"
      ],
      "outputs": [],
      "execution_count": 1,
      "metadata": {}
    },
    {
      "cell_type": "markdown",
      "source": [
        "## Example #1: LST and sporadic lag"
      ],
      "metadata": {}
    },
    {
      "cell_type": "markdown",
      "source": [
        "For LST, there is a defined worst-case lag for their daily data of 7 days"
      ],
      "metadata": {}
    },
    {
      "cell_type": "code",
      "source": [
        "LST = 26\n",
        "print(client.lookup('sources', LST)['sourceLag'])"
      ],
      "outputs": [
        {
          "output_type": "stream",
          "name": "stdout",
          "text": [
            "{'daily': '7d', 'weekly': '8d'}\n"
          ]
        }
      ],
      "execution_count": 2,
      "metadata": {}
    },
    {
      "cell_type": "markdown",
      "source": [
        "That means that for any given data point, we can typically expect it to be available at any time between the end_date of the point and 7 days after the end date of the point."
      ],
      "metadata": {}
    },
    {
      "cell_type": "markdown",
      "source": [
        "Let's look at a particular series and see how that may vary."
      ],
      "metadata": {}
    },
    {
      "cell_type": "code",
      "source": [
        "TEMP=2540047\n",
        "LAND_TEMP=3457\n",
        "IOWA=13066\n",
        "DAILY=1\n",
        "LST=26"
      ],
      "outputs": [],
      "execution_count": 3,
      "metadata": {}
    },
    {
      "cell_type": "markdown",
      "source": [
        "For LST, typically data is not published by the source same-day. We can see that by requesting the 2018-12-13 point with an \"at_time\" of 2018-12-13"
      ],
      "metadata": {}
    },
    {
      "cell_type": "code",
      "source": [
        "client.get_data_points(\n",
        "    metric_id=TEMP,\n",
        "    item_id=LAND_TEMP,\n",
        "    region_id=IOWA,\n",
        "    frequency_id=DAILY,\n",
        "    source_id=LST,\n",
        "    start_date='2018-12-13',\n",
        "    end_date='2018-12-13',\n",
        "    at_time='2018-12-13'\n",
        ")"
      ],
      "outputs": [
        {
          "output_type": "execute_result",
          "execution_count": 4,
          "data": {
            "text/plain": [
              "[]"
            ]
          },
          "metadata": {}
        }
      ],
      "execution_count": 4,
      "metadata": {}
    },
    {
      "cell_type": "markdown",
      "source": [
        "An empty response is expected, since we are simulating what would have been available on 2018-12-13 and the data for the given day has not been published yet."
      ],
      "metadata": {}
    },
    {
      "cell_type": "markdown",
      "source": [
        "On 2018-12-14 however, the previous day's point is available:"
      ],
      "metadata": {}
    },
    {
      "cell_type": "code",
      "source": [
        "client.get_data_points(\n",
        "    metric_id=TEMP,\n",
        "    item_id=LAND_TEMP,\n",
        "    region_id=IOWA,\n",
        "    frequency_id=DAILY,\n",
        "    source_id=LST,\n",
        "    start_date='2018-12-13',\n",
        "    end_date='2018-12-13',\n",
        "    at_time='2018-12-14'\n",
        ")"
      ],
      "outputs": [
        {
          "output_type": "execute_result",
          "execution_count": 5,
          "data": {
            "text/plain": [
              "[{'start_date': '2018-12-13T00:00:00.000Z',\n",
              "  'end_date': '2018-12-13T00:00:00.000Z',\n",
              "  'value': -7.43692102699087,\n",
              "  'input_unit_id': 36,\n",
              "  'input_unit_scale': 1,\n",
              "  'metric_id': 2540047,\n",
              "  'item_id': 3457,\n",
              "  'region_id': 13066,\n",
              "  'frequency_id': 1,\n",
              "  'unit_id': 36}]"
            ]
          },
          "metadata": {}
        }
      ],
      "execution_count": 5,
      "metadata": {}
    },
    {
      "cell_type": "markdown",
      "source": [
        "So the above case is an example of when source lag is 1 day. Remember when we looked up the source that we have a defined source lag of 7 days. But that is the *worst case* lag and not the average case. So 1 day may be pretty common."
      ],
      "metadata": {}
    },
    {
      "cell_type": "markdown",
      "source": [
        "---"
      ],
      "metadata": {}
    },
    {
      "cell_type": "markdown",
      "source": [
        "Let's look at a case where the lag was more than 1 day:"
      ],
      "metadata": {}
    },
    {
      "cell_type": "markdown",
      "source": [
        "From December of 2018 into January and February of 2019, LST's data was updated sporadically due to the government shutdown."
      ],
      "metadata": {}
    },
    {
      "cell_type": "markdown",
      "source": [
        "If we expect the 2019-01-06 data point to be available on 2019-01-07, assuming a 1-day lag like we saw above, we might be surprised to find that it *still* isn't available, even on 2019-01-10:"
      ],
      "metadata": {}
    },
    {
      "cell_type": "code",
      "source": [
        "client.get_data_points(\n",
        "    metric_id=TEMP,\n",
        "    item_id=LAND_TEMP,\n",
        "    region_id=IOWA,\n",
        "    frequency_id=DAILY,\n",
        "    source_id=LST,\n",
        "    start_date='2019-01-06',\n",
        "    end_date='2019-01-06',\n",
        "    at_time='2019-01-10'\n",
        ")"
      ],
      "outputs": [
        {
          "output_type": "execute_result",
          "execution_count": 6,
          "data": {
            "text/plain": [
              "[]"
            ]
          },
          "metadata": {}
        }
      ],
      "execution_count": 6,
      "metadata": {}
    },
    {
      "cell_type": "markdown",
      "source": [
        "The 2019-01-06 data point was not published until 2019-01-11:"
      ],
      "metadata": {}
    },
    {
      "cell_type": "code",
      "source": [
        "client.get_data_points(\n",
        "    metric_id=TEMP,\n",
        "    item_id=LAND_TEMP,\n",
        "    region_id=IOWA,\n",
        "    frequency_id=DAILY,\n",
        "    source_id=LST,\n",
        "    start_date='2019-01-06',\n",
        "    end_date='2019-01-06',\n",
        "    at_time='2019-01-11'\n",
        ")"
      ],
      "outputs": [
        {
          "output_type": "execute_result",
          "execution_count": 7,
          "data": {
            "text/plain": [
              "[{'start_date': '2019-01-06T00:00:00.000Z',\n",
              "  'end_date': '2019-01-06T00:00:00.000Z',\n",
              "  'value': None,\n",
              "  'input_unit_id': 36,\n",
              "  'input_unit_scale': 1,\n",
              "  'metric_id': 2540047,\n",
              "  'item_id': 3457,\n",
              "  'region_id': 13066,\n",
              "  'frequency_id': 1,\n",
              "  'unit_id': 36}]"
            ]
          },
          "metadata": {}
        }
      ],
      "execution_count": 7,
      "metadata": {}
    },
    {
      "cell_type": "markdown",
      "source": [
        "## Example #2: Gro's Yield Model Intra-season"
      ],
      "metadata": {}
    },
    {
      "cell_type": "markdown",
      "source": [
        "Another common use-case for the at-time query is for predictive models:\n",
        "\n",
        "Using the at-time query, one can input a date to see what the latest prediction up to that point in time was.\n",
        "\n",
        "Note that source lag cannot be used as described above in the case of forecasts since forecasts are made prior to the period's end date. Additionally there can be many forecasts of the same value, which would not be well-represented by a single \"lag\" value.\n",
        "\n",
        "For example, below we simulate at three points in 2017 what the Gro Yield Model forecasted the ultimate 2017 yield to be:"
      ],
      "metadata": {}
    },
    {
      "cell_type": "code",
      "source": [
        "dates_of_interest = ['2017-01-01', '2017-05-18', '2017-09-01']\n",
        "for date in dates_of_interest:\n",
        "    data_points = client.get_data_points(\n",
        "        metric_id=170037,\n",
        "        item_id=274, # Corn\n",
        "        region_id=1215, # United States\n",
        "        frequency_id=9, # Annual\n",
        "        source_id=32, # Gro Yield Model\n",
        "        start_date='2017-01-01',\n",
        "        end_date='2017-12-31',\n",
        "        at_time=date\n",
        "    )\n",
        "    if(len(data_points)==0):\n",
        "        print(\"On {}, there was no Gro Yield Model prediction yet.\".format(date))\n",
        "    else:\n",
        "        print(\"On {}, the latest Gro Yield Model prediction was: {}\".format(date, data_points[-1]['value']))\n",
        "    "
      ],
      "outputs": [
        {
          "output_type": "stream",
          "name": "stdout",
          "text": [
            "On 2017-01-01, there was no Gro Yield Model prediction yet.\n",
            "On 2017-05-18, the latest Gro Yield Model prediction was: 10.582933064570682\n",
            "On 2017-09-01, the latest Gro Yield Model prediction was: 10.769001568304368\n"
          ]
        }
      ],
      "execution_count": 8,
      "metadata": {}
    },
    {
      "cell_type": "code",
      "source": [],
      "outputs": [],
      "execution_count": 9,
      "metadata": {
        "collapsed": false,
        "outputHidden": false,
        "inputHidden": false
      }
    }
  ],
  "metadata": {
    "kernelspec": {
      "name": "python3",
      "language": "python",
      "display_name": "Python 3"
    },
    "language_info": {
      "name": "python",
      "version": "3.7.3",
      "mimetype": "text/x-python",
      "codemirror_mode": {
        "name": "ipython",
        "version": 3
      },
      "pygments_lexer": "ipython3",
      "nbconvert_exporter": "python",
      "file_extension": ".py"
    },
    "kernel_info": {
      "name": "python3"
    },
    "nteract": {
      "version": "0.14.5"
    }
  },
  "nbformat": 4,
  "nbformat_minor": 2
}